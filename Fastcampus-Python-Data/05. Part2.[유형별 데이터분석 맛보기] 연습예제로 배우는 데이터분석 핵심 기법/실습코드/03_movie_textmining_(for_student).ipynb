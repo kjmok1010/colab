{
  "nbformat": 4,
  "nbformat_minor": 0,
  "metadata": {
    "colab": {
      "name": "03-movie-textmining (for student).ipynb",
      "provenance": [],
      "collapsed_sections": [],
      "toc_visible": true
    },
    "kernelspec": {
      "name": "python3",
      "display_name": "Python 3"
    }
  },
  "cells": [
    {
      "cell_type": "markdown",
      "metadata": {
        "id": "B9Zrj8DMusOn",
        "colab_type": "text"
      },
      "source": [
        "## 1) Library & Data Import"
      ]
    },
    {
      "cell_type": "code",
      "metadata": {
        "id": "yzvddH4TuuwD",
        "colab_type": "code",
        "colab": {}
      },
      "source": [
        "%matplotlib inline\n",
        "\n",
        "import pandas as pd\n",
        "import numpy as np\n",
        "import matplotlib.pyplot as plt\n",
        "import seaborn as sns\n",
        "\n",
        "import warnings\n",
        "warnings.filterwarnings(\"ignore\")"
      ],
      "execution_count": 0,
      "outputs": []
    },
    {
      "cell_type": "code",
      "metadata": {
        "id": "Q_0x25QSuxrp",
        "colab_type": "code",
        "colab": {}
      },
      "source": [
        "df = pd.read_csv(\"https://raw.githubusercontent.com/yoonkt200/FastCampusDataset/master/bourne_scenario.csv\")"
      ],
      "execution_count": 0,
      "outputs": []
    },
    {
      "cell_type": "code",
      "metadata": {
        "id": "90IQykX7vZ3t",
        "colab_type": "code",
        "outputId": "c15d7e2c-4690-442e-c508-3198185dd1e4",
        "colab": {
          "base_uri": "https://localhost:8080/",
          "height": 204
        }
      },
      "source": [
        "df.head()"
      ],
      "execution_count": 0,
      "outputs": [
        {
          "output_type": "execute_result",
          "data": {
            "text/html": [
              "<div>\n",
              "<style scoped>\n",
              "    .dataframe tbody tr th:only-of-type {\n",
              "        vertical-align: middle;\n",
              "    }\n",
              "\n",
              "    .dataframe tbody tr th {\n",
              "        vertical-align: top;\n",
              "    }\n",
              "\n",
              "    .dataframe thead th {\n",
              "        text-align: right;\n",
              "    }\n",
              "</style>\n",
              "<table border=\"1\" class=\"dataframe\">\n",
              "  <thead>\n",
              "    <tr style=\"text-align: right;\">\n",
              "      <th></th>\n",
              "      <th>page_no</th>\n",
              "      <th>scene_title</th>\n",
              "      <th>text</th>\n",
              "    </tr>\n",
              "  </thead>\n",
              "  <tbody>\n",
              "    <tr>\n",
              "      <th>0</th>\n",
              "      <td>1</td>\n",
              "      <td>1         EXT. MERCEDES WINDSHIELD -- DUSK</td>\n",
              "      <td>1                It's raining...             ...</td>\n",
              "    </tr>\n",
              "    <tr>\n",
              "      <th>1</th>\n",
              "      <td>1</td>\n",
              "      <td>A1        INT. MERCEDES -- NIGHT</td>\n",
              "      <td>A1                On his knee -- a syringe an...</td>\n",
              "    </tr>\n",
              "    <tr>\n",
              "      <th>2</th>\n",
              "      <td>1</td>\n",
              "      <td>2         INT. COTTAGE BEDROOM -- NIGHT</td>\n",
              "      <td>2                BOURNE'S EYES OPEN! -- panic...</td>\n",
              "    </tr>\n",
              "    <tr>\n",
              "      <th>3</th>\n",
              "      <td>1</td>\n",
              "      <td>A2        INT. COTTAGE LIVING AREA/BATHROOM ...</td>\n",
              "      <td>A2                BOURNE moving for the medic...</td>\n",
              "    </tr>\n",
              "    <tr>\n",
              "      <th>4</th>\n",
              "      <td>2</td>\n",
              "      <td>3         INT./EXT. COTTAGE LIVING ROOM/VERA...</td>\n",
              "      <td>3                One minute later.  BOURNE mo...</td>\n",
              "    </tr>\n",
              "  </tbody>\n",
              "</table>\n",
              "</div>"
            ],
            "text/plain": [
              "   page_no  ...                                               text\n",
              "0        1  ...   1                It's raining...             ...\n",
              "1        1  ...   A1                On his knee -- a syringe an...\n",
              "2        1  ...   2                BOURNE'S EYES OPEN! -- panic...\n",
              "3        1  ...   A2                BOURNE moving for the medic...\n",
              "4        2  ...   3                One minute later.  BOURNE mo...\n",
              "\n",
              "[5 rows x 3 columns]"
            ]
          },
          "metadata": {
            "tags": []
          },
          "execution_count": 5
        }
      ]
    },
    {
      "cell_type": "markdown",
      "metadata": {
        "id": "F8mjnHsgvioB",
        "colab_type": "text"
      },
      "source": [
        "#### Feature Description\n",
        "- page_no : 데이터가 위치한 pdf 페이지 정보\n",
        "- scene_title : 씬 제목\n",
        "- text : 씬에 해당하는 지문/대본 텍스트 정보"
      ]
    },
    {
      "cell_type": "markdown",
      "metadata": {
        "id": "i3P4CXUNvqtO",
        "colab_type": "text"
      },
      "source": [
        "-----"
      ]
    },
    {
      "cell_type": "markdown",
      "metadata": {
        "id": "EmWaX52Rvuol",
        "colab_type": "text"
      },
      "source": [
        "## 2) 데이터셋 살펴보기"
      ]
    },
    {
      "cell_type": "markdown",
      "metadata": {
        "id": "Fjj86LoLv3Wl",
        "colab_type": "text"
      },
      "source": [
        "### 2-1) 기본 정보 탐색"
      ]
    },
    {
      "cell_type": "markdown",
      "metadata": {
        "id": "BZdMSr7Hyv3C",
        "colab_type": "text"
      },
      "source": [
        "##### 데이터셋 기본 정보 탐색"
      ]
    },
    {
      "cell_type": "code",
      "metadata": {
        "id": "yTRz57Qpvgl4",
        "colab_type": "code",
        "colab": {}
      },
      "source": [
        ""
      ],
      "execution_count": 0,
      "outputs": []
    },
    {
      "cell_type": "code",
      "metadata": {
        "id": "lJq9dP3qvlMg",
        "colab_type": "code",
        "colab": {}
      },
      "source": [
        ""
      ],
      "execution_count": 0,
      "outputs": []
    },
    {
      "cell_type": "code",
      "metadata": {
        "id": "K7SiIjlDwFGG",
        "colab_type": "code",
        "colab": {}
      },
      "source": [
        ""
      ],
      "execution_count": 0,
      "outputs": []
    },
    {
      "cell_type": "code",
      "metadata": {
        "id": "c51l1Bld6c15",
        "colab_type": "code",
        "colab": {}
      },
      "source": [
        ""
      ],
      "execution_count": 0,
      "outputs": []
    },
    {
      "cell_type": "code",
      "metadata": {
        "id": "rpvrIIgE6c5S",
        "colab_type": "code",
        "colab": {}
      },
      "source": [
        ""
      ],
      "execution_count": 0,
      "outputs": []
    },
    {
      "cell_type": "code",
      "metadata": {
        "id": "JjX8EUde6f-g",
        "colab_type": "code",
        "colab": {}
      },
      "source": [
        ""
      ],
      "execution_count": 0,
      "outputs": []
    },
    {
      "cell_type": "markdown",
      "metadata": {
        "id": "7Ob0pe0oxI6Y",
        "colab_type": "text"
      },
      "source": [
        "-----"
      ]
    },
    {
      "cell_type": "markdown",
      "metadata": {
        "id": "vtLhtuYwxI86",
        "colab_type": "text"
      },
      "source": [
        "## 3) 텍스트 데이터 전처리"
      ]
    },
    {
      "cell_type": "markdown",
      "metadata": {
        "id": "ZAFsj3ppxI_J",
        "colab_type": "text"
      },
      "source": [
        "### 3-1) 정규 표현식 적용"
      ]
    },
    {
      "cell_type": "code",
      "metadata": {
        "id": "__acxhPiw8X2",
        "colab_type": "code",
        "colab": {}
      },
      "source": [
        ""
      ],
      "execution_count": 0,
      "outputs": []
    },
    {
      "cell_type": "code",
      "metadata": {
        "id": "hE60OR0mxP0S",
        "colab_type": "code",
        "colab": {}
      },
      "source": [
        ""
      ],
      "execution_count": 0,
      "outputs": []
    },
    {
      "cell_type": "code",
      "metadata": {
        "id": "zBgiHxOW3KhY",
        "colab_type": "code",
        "colab": {}
      },
      "source": [
        ""
      ],
      "execution_count": 0,
      "outputs": []
    },
    {
      "cell_type": "code",
      "metadata": {
        "id": "WCtEGvDa3KkA",
        "colab_type": "code",
        "colab": {}
      },
      "source": [
        ""
      ],
      "execution_count": 0,
      "outputs": []
    },
    {
      "cell_type": "markdown",
      "metadata": {
        "id": "4eAD9Zhs3ZjB",
        "colab_type": "text"
      },
      "source": [
        "### 3-2) Word Count"
      ]
    },
    {
      "cell_type": "markdown",
      "metadata": {
        "id": "IvmzcY4k7BBQ",
        "colab_type": "text"
      },
      "source": [
        "##### 말뭉치(코퍼스) 생성"
      ]
    },
    {
      "cell_type": "code",
      "metadata": {
        "id": "L1ACOzfQ3B9K",
        "colab_type": "code",
        "colab": {}
      },
      "source": [
        ""
      ],
      "execution_count": 0,
      "outputs": []
    },
    {
      "cell_type": "markdown",
      "metadata": {
        "id": "tsN3ydKi3cNB",
        "colab_type": "text"
      },
      "source": [
        "##### BoW 벡터 생성"
      ]
    },
    {
      "cell_type": "code",
      "metadata": {
        "id": "oMEmCNjQ3CE6",
        "colab_type": "code",
        "colab": {}
      },
      "source": [
        ""
      ],
      "execution_count": 0,
      "outputs": []
    },
    {
      "cell_type": "code",
      "metadata": {
        "id": "YOR-TYff3jzw",
        "colab_type": "code",
        "colab": {}
      },
      "source": [
        ""
      ],
      "execution_count": 0,
      "outputs": []
    },
    {
      "cell_type": "code",
      "metadata": {
        "id": "_PqufkPv7R6D",
        "colab_type": "code",
        "colab": {}
      },
      "source": [
        ""
      ],
      "execution_count": 0,
      "outputs": []
    },
    {
      "cell_type": "code",
      "metadata": {
        "id": "nlY88bL27R9b",
        "colab_type": "code",
        "colab": {}
      },
      "source": [
        ""
      ],
      "execution_count": 0,
      "outputs": []
    },
    {
      "cell_type": "code",
      "metadata": {
        "id": "f-rSHKzD7R_w",
        "colab_type": "code",
        "colab": {}
      },
      "source": [
        ""
      ],
      "execution_count": 0,
      "outputs": []
    },
    {
      "cell_type": "code",
      "metadata": {
        "id": "eqOGgz4B7SCd",
        "colab_type": "code",
        "colab": {}
      },
      "source": [
        ""
      ],
      "execution_count": 0,
      "outputs": []
    },
    {
      "cell_type": "code",
      "metadata": {
        "id": "xn3aU4l97V8K",
        "colab_type": "code",
        "colab": {}
      },
      "source": [
        ""
      ],
      "execution_count": 0,
      "outputs": []
    },
    {
      "cell_type": "code",
      "metadata": {
        "id": "Lvqij9kP7Xgv",
        "colab_type": "code",
        "colab": {}
      },
      "source": [
        ""
      ],
      "execution_count": 0,
      "outputs": []
    },
    {
      "cell_type": "code",
      "metadata": {
        "id": "Zu2v6oUn7aUx",
        "colab_type": "code",
        "colab": {}
      },
      "source": [
        ""
      ],
      "execution_count": 0,
      "outputs": []
    },
    {
      "cell_type": "markdown",
      "metadata": {
        "id": "huXcIK1D7eGI",
        "colab_type": "text"
      },
      "source": [
        "##### 단어 분포 탐색"
      ]
    },
    {
      "cell_type": "code",
      "metadata": {
        "id": "ePWpmhzL7f0A",
        "colab_type": "code",
        "colab": {}
      },
      "source": [
        ""
      ],
      "execution_count": 0,
      "outputs": []
    },
    {
      "cell_type": "markdown",
      "metadata": {
        "id": "QI0yqJ7PxS1q",
        "colab_type": "text"
      },
      "source": [
        "-----"
      ]
    },
    {
      "cell_type": "markdown",
      "metadata": {
        "id": "3Nb-h1fM7nLc",
        "colab_type": "text"
      },
      "source": [
        "## 4) 텍스트 마이닝"
      ]
    },
    {
      "cell_type": "markdown",
      "metadata": {
        "id": "87E9Sz5g4YFE",
        "colab_type": "text"
      },
      "source": [
        "### 4-1) 단어별 빈도 분석"
      ]
    },
    {
      "cell_type": "markdown",
      "metadata": {
        "id": "MPC-EOxb4YIm",
        "colab_type": "text"
      },
      "source": [
        "##### 워드 클라우드 시각화"
      ]
    },
    {
      "cell_type": "code",
      "metadata": {
        "id": "WXgfHMLP7004",
        "colab_type": "code",
        "colab": {}
      },
      "source": [
        "# !pip install pytagcloud pygame simplejson"
      ],
      "execution_count": 0,
      "outputs": []
    },
    {
      "cell_type": "code",
      "metadata": {
        "id": "PS27E0CT4h-7",
        "colab_type": "code",
        "colab": {}
      },
      "source": [
        ""
      ],
      "execution_count": 0,
      "outputs": []
    },
    {
      "cell_type": "markdown",
      "metadata": {
        "id": "_L_bAJUD-BYm",
        "colab_type": "text"
      },
      "source": [
        "##### 상위 빈도수 단어 출력"
      ]
    },
    {
      "cell_type": "code",
      "metadata": {
        "id": "lXvHnoTY96zZ",
        "colab_type": "code",
        "colab": {}
      },
      "source": [
        ""
      ],
      "execution_count": 0,
      "outputs": []
    },
    {
      "cell_type": "markdown",
      "metadata": {
        "id": "ocEMVqzM-MdE",
        "colab_type": "text"
      },
      "source": [
        "-----"
      ]
    },
    {
      "cell_type": "markdown",
      "metadata": {
        "id": "dK64F8GZ-N8s",
        "colab_type": "text"
      },
      "source": [
        ""
      ]
    },
    {
      "cell_type": "markdown",
      "metadata": {
        "id": "Pe7BOBrW-OAw",
        "colab_type": "text"
      },
      "source": [
        "### 4-2) 장면별 중요 단어 시각화"
      ]
    },
    {
      "cell_type": "markdown",
      "metadata": {
        "id": "EaalHFft-Sra",
        "colab_type": "text"
      },
      "source": [
        "##### TF-IDF 변환"
      ]
    },
    {
      "cell_type": "code",
      "metadata": {
        "id": "-Wxv-F3P-NEU",
        "colab_type": "code",
        "colab": {}
      },
      "source": [
        ""
      ],
      "execution_count": 0,
      "outputs": []
    },
    {
      "cell_type": "code",
      "metadata": {
        "id": "rsDAFsCY-Unv",
        "colab_type": "code",
        "colab": {}
      },
      "source": [
        ""
      ],
      "execution_count": 0,
      "outputs": []
    },
    {
      "cell_type": "code",
      "metadata": {
        "id": "dWt8pyEQ-YeT",
        "colab_type": "code",
        "colab": {}
      },
      "source": [
        ""
      ],
      "execution_count": 0,
      "outputs": []
    },
    {
      "cell_type": "markdown",
      "metadata": {
        "id": "LFT1BfiJ-Y8-",
        "colab_type": "text"
      },
      "source": [
        "##### 벡터 : 단어 맵핑"
      ]
    },
    {
      "cell_type": "code",
      "metadata": {
        "id": "rzbmSQ8h-XGF",
        "colab_type": "code",
        "colab": {}
      },
      "source": [
        ""
      ],
      "execution_count": 0,
      "outputs": []
    },
    {
      "cell_type": "markdown",
      "metadata": {
        "id": "XSmFxYD6-tec",
        "colab_type": "text"
      },
      "source": [
        "##### 중요 단어 추출 - Top 3 TF-IDF"
      ]
    },
    {
      "cell_type": "code",
      "metadata": {
        "id": "RPmzms_d-dzM",
        "colab_type": "code",
        "colab": {}
      },
      "source": [
        ""
      ],
      "execution_count": 0,
      "outputs": []
    },
    {
      "cell_type": "code",
      "metadata": {
        "id": "JBnbCA0d-ztq",
        "colab_type": "code",
        "colab": {}
      },
      "source": [
        ""
      ],
      "execution_count": 0,
      "outputs": []
    },
    {
      "cell_type": "code",
      "metadata": {
        "id": "sKpKmuM7-0ul",
        "colab_type": "code",
        "colab": {}
      },
      "source": [
        ""
      ],
      "execution_count": 0,
      "outputs": []
    },
    {
      "cell_type": "code",
      "metadata": {
        "id": "v4C0B2xO-191",
        "colab_type": "code",
        "colab": {}
      },
      "source": [
        ""
      ],
      "execution_count": 0,
      "outputs": []
    },
    {
      "cell_type": "code",
      "metadata": {
        "id": "WWCeMCOM-5KF",
        "colab_type": "code",
        "colab": {}
      },
      "source": [
        ""
      ],
      "execution_count": 0,
      "outputs": []
    }
  ]
}