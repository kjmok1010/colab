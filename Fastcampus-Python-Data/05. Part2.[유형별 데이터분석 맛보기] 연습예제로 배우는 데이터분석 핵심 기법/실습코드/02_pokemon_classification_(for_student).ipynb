{
  "nbformat": 4,
  "nbformat_minor": 0,
  "metadata": {
    "colab": {
      "name": "02-pokemon-classification (for student).ipynb",
      "provenance": [],
      "collapsed_sections": [],
      "toc_visible": true
    },
    "kernelspec": {
      "name": "python3",
      "display_name": "Python 3"
    }
  },
  "cells": [
    {
      "cell_type": "markdown",
      "metadata": {
        "id": "B9Zrj8DMusOn",
        "colab_type": "text"
      },
      "source": [
        "## 1) Library & Data Import"
      ]
    },
    {
      "cell_type": "code",
      "metadata": {
        "id": "yzvddH4TuuwD",
        "colab_type": "code",
        "colab": {}
      },
      "source": [
        "%matplotlib inline\n",
        "\n",
        "import pandas as pd\n",
        "import numpy as np\n",
        "import matplotlib.pyplot as plt\n",
        "import seaborn as sns\n",
        "\n",
        "import warnings\n",
        "warnings.filterwarnings(\"ignore\")"
      ],
      "execution_count": 0,
      "outputs": []
    },
    {
      "cell_type": "code",
      "metadata": {
        "id": "Q_0x25QSuxrp",
        "colab_type": "code",
        "colab": {}
      },
      "source": [
        "df = pd.read_csv(\"https://raw.githubusercontent.com/yoonkt200/FastCampusDataset/master/Pokemon.csv\")"
      ],
      "execution_count": 0,
      "outputs": []
    },
    {
      "cell_type": "code",
      "metadata": {
        "id": "90IQykX7vZ3t",
        "colab_type": "code",
        "outputId": "e5eb3bee-004b-4f7d-dbbf-6a00d40e55ad",
        "colab": {
          "base_uri": "https://localhost:8080/",
          "height": 204
        }
      },
      "source": [
        "df.head()"
      ],
      "execution_count": 0,
      "outputs": [
        {
          "output_type": "execute_result",
          "data": {
            "text/html": [
              "<div>\n",
              "<style scoped>\n",
              "    .dataframe tbody tr th:only-of-type {\n",
              "        vertical-align: middle;\n",
              "    }\n",
              "\n",
              "    .dataframe tbody tr th {\n",
              "        vertical-align: top;\n",
              "    }\n",
              "\n",
              "    .dataframe thead th {\n",
              "        text-align: right;\n",
              "    }\n",
              "</style>\n",
              "<table border=\"1\" class=\"dataframe\">\n",
              "  <thead>\n",
              "    <tr style=\"text-align: right;\">\n",
              "      <th></th>\n",
              "      <th>#</th>\n",
              "      <th>Name</th>\n",
              "      <th>Type 1</th>\n",
              "      <th>Type 2</th>\n",
              "      <th>Total</th>\n",
              "      <th>HP</th>\n",
              "      <th>Attack</th>\n",
              "      <th>Defense</th>\n",
              "      <th>Sp. Atk</th>\n",
              "      <th>Sp. Def</th>\n",
              "      <th>Speed</th>\n",
              "      <th>Generation</th>\n",
              "      <th>Legendary</th>\n",
              "    </tr>\n",
              "  </thead>\n",
              "  <tbody>\n",
              "    <tr>\n",
              "      <th>0</th>\n",
              "      <td>1</td>\n",
              "      <td>Bulbasaur</td>\n",
              "      <td>Grass</td>\n",
              "      <td>Poison</td>\n",
              "      <td>318</td>\n",
              "      <td>45</td>\n",
              "      <td>49</td>\n",
              "      <td>49</td>\n",
              "      <td>65</td>\n",
              "      <td>65</td>\n",
              "      <td>45</td>\n",
              "      <td>1</td>\n",
              "      <td>False</td>\n",
              "    </tr>\n",
              "    <tr>\n",
              "      <th>1</th>\n",
              "      <td>2</td>\n",
              "      <td>Ivysaur</td>\n",
              "      <td>Grass</td>\n",
              "      <td>Poison</td>\n",
              "      <td>405</td>\n",
              "      <td>60</td>\n",
              "      <td>62</td>\n",
              "      <td>63</td>\n",
              "      <td>80</td>\n",
              "      <td>80</td>\n",
              "      <td>60</td>\n",
              "      <td>1</td>\n",
              "      <td>False</td>\n",
              "    </tr>\n",
              "    <tr>\n",
              "      <th>2</th>\n",
              "      <td>3</td>\n",
              "      <td>Venusaur</td>\n",
              "      <td>Grass</td>\n",
              "      <td>Poison</td>\n",
              "      <td>525</td>\n",
              "      <td>80</td>\n",
              "      <td>82</td>\n",
              "      <td>83</td>\n",
              "      <td>100</td>\n",
              "      <td>100</td>\n",
              "      <td>80</td>\n",
              "      <td>1</td>\n",
              "      <td>False</td>\n",
              "    </tr>\n",
              "    <tr>\n",
              "      <th>3</th>\n",
              "      <td>3</td>\n",
              "      <td>VenusaurMega Venusaur</td>\n",
              "      <td>Grass</td>\n",
              "      <td>Poison</td>\n",
              "      <td>625</td>\n",
              "      <td>80</td>\n",
              "      <td>100</td>\n",
              "      <td>123</td>\n",
              "      <td>122</td>\n",
              "      <td>120</td>\n",
              "      <td>80</td>\n",
              "      <td>1</td>\n",
              "      <td>False</td>\n",
              "    </tr>\n",
              "    <tr>\n",
              "      <th>4</th>\n",
              "      <td>4</td>\n",
              "      <td>Charmander</td>\n",
              "      <td>Fire</td>\n",
              "      <td>NaN</td>\n",
              "      <td>309</td>\n",
              "      <td>39</td>\n",
              "      <td>52</td>\n",
              "      <td>43</td>\n",
              "      <td>60</td>\n",
              "      <td>50</td>\n",
              "      <td>65</td>\n",
              "      <td>1</td>\n",
              "      <td>False</td>\n",
              "    </tr>\n",
              "  </tbody>\n",
              "</table>\n",
              "</div>"
            ],
            "text/plain": [
              "   #                   Name Type 1  ... Speed  Generation  Legendary\n",
              "0  1              Bulbasaur  Grass  ...    45           1      False\n",
              "1  2                Ivysaur  Grass  ...    60           1      False\n",
              "2  3               Venusaur  Grass  ...    80           1      False\n",
              "3  3  VenusaurMega Venusaur  Grass  ...    80           1      False\n",
              "4  4             Charmander   Fire  ...    65           1      False\n",
              "\n",
              "[5 rows x 13 columns]"
            ]
          },
          "metadata": {
            "tags": []
          },
          "execution_count": 3
        }
      ]
    },
    {
      "cell_type": "markdown",
      "metadata": {
        "id": "F8mjnHsgvioB",
        "colab_type": "text"
      },
      "source": [
        "#### Feature Description\n",
        "- Name : 포켓몬 이름\n",
        "- Type 1 : 포켓몬 타입 1\n",
        "- Type 2 : 포켓몬 타입 2\n",
        "- Total : 포켓몬 총 능력치 (Sum of Attack, Sp. Atk, Defense, Sp. Def, Speed and HP)\n",
        "- HP : 포켓몬 HP 능력치\n",
        "- Attack : 포켓몬 Attack 능력치\n",
        "- Defense : 포켓몬 Defense 능력치\n",
        "- Sp. Atk : 포켓몬 Sp. Atk 능력치\n",
        "- Sp. Def : 포켓몬 Sp. Def 능력치\n",
        "- Speed : 포켓몬 Speed 능력치\n",
        "- Generation : 포켓몬 세대\n",
        "- Legendary : 전설의 포켓몬 여부"
      ]
    },
    {
      "cell_type": "markdown",
      "metadata": {
        "id": "i3P4CXUNvqtO",
        "colab_type": "text"
      },
      "source": [
        "-----"
      ]
    },
    {
      "cell_type": "markdown",
      "metadata": {
        "id": "EmWaX52Rvuol",
        "colab_type": "text"
      },
      "source": [
        "## 2) EDA (Exploratory Data Analysis : 탐색적 데이터 분석)"
      ]
    },
    {
      "cell_type": "markdown",
      "metadata": {
        "id": "Fjj86LoLv3Wl",
        "colab_type": "text"
      },
      "source": [
        "### 2-1) 기본 정보 탐색"
      ]
    },
    {
      "cell_type": "markdown",
      "metadata": {
        "id": "BZdMSr7Hyv3C",
        "colab_type": "text"
      },
      "source": [
        "##### 데이터셋 기본 정보 탐색"
      ]
    },
    {
      "cell_type": "code",
      "metadata": {
        "id": "yTRz57Qpvgl4",
        "colab_type": "code",
        "colab": {}
      },
      "source": [
        ""
      ],
      "execution_count": 0,
      "outputs": []
    },
    {
      "cell_type": "code",
      "metadata": {
        "id": "lJq9dP3qvlMg",
        "colab_type": "code",
        "colab": {}
      },
      "source": [
        ""
      ],
      "execution_count": 0,
      "outputs": []
    },
    {
      "cell_type": "code",
      "metadata": {
        "id": "K7SiIjlDwFGG",
        "colab_type": "code",
        "colab": {}
      },
      "source": [
        ""
      ],
      "execution_count": 0,
      "outputs": []
    },
    {
      "cell_type": "markdown",
      "metadata": {
        "id": "amY0EX9Py0fr",
        "colab_type": "text"
      },
      "source": [
        "##### 개별 피처 탐색"
      ]
    },
    {
      "cell_type": "code",
      "metadata": {
        "id": "5ZFcUxWPwGfw",
        "colab_type": "code",
        "colab": {}
      },
      "source": [
        ""
      ],
      "execution_count": 0,
      "outputs": []
    },
    {
      "cell_type": "code",
      "metadata": {
        "id": "3dna_RjCwKcn",
        "colab_type": "code",
        "colab": {}
      },
      "source": [
        ""
      ],
      "execution_count": 0,
      "outputs": []
    },
    {
      "cell_type": "code",
      "metadata": {
        "id": "zRJPVmF-wLnN",
        "colab_type": "code",
        "colab": {}
      },
      "source": [
        ""
      ],
      "execution_count": 0,
      "outputs": []
    },
    {
      "cell_type": "code",
      "metadata": {
        "id": "9co12VVo1O7x",
        "colab_type": "code",
        "colab": {}
      },
      "source": [
        ""
      ],
      "execution_count": 0,
      "outputs": []
    },
    {
      "cell_type": "code",
      "metadata": {
        "id": "mfG9ATka1O-Z",
        "colab_type": "code",
        "colab": {}
      },
      "source": [
        ""
      ],
      "execution_count": 0,
      "outputs": []
    },
    {
      "cell_type": "code",
      "metadata": {
        "id": "S4pZPm_n1QbC",
        "colab_type": "code",
        "colab": {}
      },
      "source": [
        ""
      ],
      "execution_count": 0,
      "outputs": []
    },
    {
      "cell_type": "markdown",
      "metadata": {
        "id": "wIb8wZjHwOR1",
        "colab_type": "text"
      },
      "source": [
        "-----"
      ]
    },
    {
      "cell_type": "markdown",
      "metadata": {
        "id": "1GOeUT8lwPOK",
        "colab_type": "text"
      },
      "source": [
        "### 2-2) 데이터 특징 탐색"
      ]
    },
    {
      "cell_type": "markdown",
      "metadata": {
        "id": "Z6hlRFSiy63M",
        "colab_type": "text"
      },
      "source": [
        "##### 변수들의 분포 탐색"
      ]
    },
    {
      "cell_type": "code",
      "metadata": {
        "id": "cEwQQPF1wMzm",
        "colab_type": "code",
        "colab": {}
      },
      "source": [
        ""
      ],
      "execution_count": 0,
      "outputs": []
    },
    {
      "cell_type": "code",
      "metadata": {
        "id": "vCxyj1uEwSSJ",
        "colab_type": "code",
        "colab": {}
      },
      "source": [
        ""
      ],
      "execution_count": 0,
      "outputs": []
    },
    {
      "cell_type": "code",
      "metadata": {
        "id": "Y_gtJ4d7wacZ",
        "colab_type": "code",
        "colab": {}
      },
      "source": [
        ""
      ],
      "execution_count": 0,
      "outputs": []
    },
    {
      "cell_type": "markdown",
      "metadata": {
        "id": "R3plTiDg1xsS",
        "colab_type": "text"
      },
      "source": [
        "##### Legendary 그룹별 탐색"
      ]
    },
    {
      "cell_type": "code",
      "metadata": {
        "id": "5v3TY--Awb2T",
        "colab_type": "code",
        "colab": {}
      },
      "source": [
        ""
      ],
      "execution_count": 0,
      "outputs": []
    },
    {
      "cell_type": "code",
      "metadata": {
        "id": "6Fj4ZzpXwpZ9",
        "colab_type": "code",
        "colab": {}
      },
      "source": [
        ""
      ],
      "execution_count": 0,
      "outputs": []
    },
    {
      "cell_type": "code",
      "metadata": {
        "id": "XKiRCGRx15N9",
        "colab_type": "code",
        "colab": {}
      },
      "source": [
        ""
      ],
      "execution_count": 0,
      "outputs": []
    },
    {
      "cell_type": "code",
      "metadata": {
        "id": "GHuB7gvd15Qg",
        "colab_type": "code",
        "colab": {}
      },
      "source": [
        ""
      ],
      "execution_count": 0,
      "outputs": []
    },
    {
      "cell_type": "code",
      "metadata": {
        "id": "A0eG7n812Env",
        "colab_type": "code",
        "colab": {}
      },
      "source": [
        ""
      ],
      "execution_count": 0,
      "outputs": []
    },
    {
      "cell_type": "code",
      "metadata": {
        "id": "4bZkz6XE2Eq3",
        "colab_type": "code",
        "colab": {}
      },
      "source": [
        ""
      ],
      "execution_count": 0,
      "outputs": []
    },
    {
      "cell_type": "markdown",
      "metadata": {
        "id": "gy4uC9TbzKry",
        "colab_type": "text"
      },
      "source": [
        "##### 포켓몬 능력 분포 탐색"
      ]
    },
    {
      "cell_type": "code",
      "metadata": {
        "id": "z0jKwkgUwqxx",
        "colab_type": "code",
        "colab": {}
      },
      "source": [
        ""
      ],
      "execution_count": 0,
      "outputs": []
    },
    {
      "cell_type": "code",
      "metadata": {
        "id": "fipE-JYzwseL",
        "colab_type": "code",
        "colab": {}
      },
      "source": [
        ""
      ],
      "execution_count": 0,
      "outputs": []
    },
    {
      "cell_type": "markdown",
      "metadata": {
        "id": "7Ob0pe0oxI6Y",
        "colab_type": "text"
      },
      "source": [
        "-----"
      ]
    },
    {
      "cell_type": "markdown",
      "metadata": {
        "id": "vtLhtuYwxI86",
        "colab_type": "text"
      },
      "source": [
        "## 3) 지도 학습 기반 분류 분석"
      ]
    },
    {
      "cell_type": "markdown",
      "metadata": {
        "id": "ZAFsj3ppxI_J",
        "colab_type": "text"
      },
      "source": [
        "### 3-1) 데이터 전처리"
      ]
    },
    {
      "cell_type": "markdown",
      "metadata": {
        "id": "wjgevOf2zRPg",
        "colab_type": "text"
      },
      "source": [
        "##### 데이터 타입 변경"
      ]
    },
    {
      "cell_type": "code",
      "metadata": {
        "id": "__acxhPiw8X2",
        "colab_type": "code",
        "colab": {}
      },
      "source": [
        ""
      ],
      "execution_count": 0,
      "outputs": []
    },
    {
      "cell_type": "markdown",
      "metadata": {
        "id": "d7M-WzTTzTTS",
        "colab_type": "text"
      },
      "source": [
        "##### one-hot encoding"
      ]
    },
    {
      "cell_type": "code",
      "metadata": {
        "id": "hE60OR0mxP0S",
        "colab_type": "code",
        "colab": {}
      },
      "source": [
        ""
      ],
      "execution_count": 0,
      "outputs": []
    },
    {
      "cell_type": "code",
      "metadata": {
        "id": "zBgiHxOW3KhY",
        "colab_type": "code",
        "colab": {}
      },
      "source": [
        ""
      ],
      "execution_count": 0,
      "outputs": []
    },
    {
      "cell_type": "code",
      "metadata": {
        "id": "WCtEGvDa3KkA",
        "colab_type": "code",
        "colab": {}
      },
      "source": [
        ""
      ],
      "execution_count": 0,
      "outputs": []
    },
    {
      "cell_type": "code",
      "metadata": {
        "id": "RIOgmFqH3Km7",
        "colab_type": "code",
        "colab": {}
      },
      "source": [
        ""
      ],
      "execution_count": 0,
      "outputs": []
    },
    {
      "cell_type": "code",
      "metadata": {
        "id": "yQxLMfgx3O2a",
        "colab_type": "code",
        "colab": {}
      },
      "source": [
        ""
      ],
      "execution_count": 0,
      "outputs": []
    },
    {
      "cell_type": "code",
      "metadata": {
        "id": "0Gvfno_X3O49",
        "colab_type": "code",
        "colab": {}
      },
      "source": [
        ""
      ],
      "execution_count": 0,
      "outputs": []
    },
    {
      "cell_type": "markdown",
      "metadata": {
        "id": "4eAD9Zhs3ZjB",
        "colab_type": "text"
      },
      "source": [
        "##### 피처 표준화"
      ]
    },
    {
      "cell_type": "code",
      "metadata": {
        "id": "L1ACOzfQ3B9K",
        "colab_type": "code",
        "colab": {}
      },
      "source": [
        ""
      ],
      "execution_count": 0,
      "outputs": []
    },
    {
      "cell_type": "markdown",
      "metadata": {
        "id": "tsN3ydKi3cNB",
        "colab_type": "text"
      },
      "source": [
        "##### 데이터셋 분리"
      ]
    },
    {
      "cell_type": "code",
      "metadata": {
        "id": "oMEmCNjQ3CE6",
        "colab_type": "code",
        "colab": {}
      },
      "source": [
        ""
      ],
      "execution_count": 0,
      "outputs": []
    },
    {
      "cell_type": "code",
      "metadata": {
        "id": "YOR-TYff3jzw",
        "colab_type": "code",
        "colab": {}
      },
      "source": [
        ""
      ],
      "execution_count": 0,
      "outputs": []
    },
    {
      "cell_type": "markdown",
      "metadata": {
        "id": "QI0yqJ7PxS1q",
        "colab_type": "text"
      },
      "source": [
        "-----"
      ]
    },
    {
      "cell_type": "markdown",
      "metadata": {
        "id": "nUiLbHAQxS4C",
        "colab_type": "text"
      },
      "source": [
        "### 3-2) Logistic Regression 모델 학습"
      ]
    },
    {
      "cell_type": "markdown",
      "metadata": {
        "id": "iffegFWk3rOO",
        "colab_type": "text"
      },
      "source": [
        "##### 모델 학습"
      ]
    },
    {
      "cell_type": "code",
      "metadata": {
        "id": "dGmECG5ExRAd",
        "colab_type": "code",
        "colab": {}
      },
      "source": [
        ""
      ],
      "execution_count": 0,
      "outputs": []
    },
    {
      "cell_type": "markdown",
      "metadata": {
        "id": "ajWL6nJo36c-",
        "colab_type": "text"
      },
      "source": [
        "##### 모델 평가"
      ]
    },
    {
      "cell_type": "code",
      "metadata": {
        "id": "-seUttptxXTE",
        "colab_type": "code",
        "colab": {}
      },
      "source": [
        ""
      ],
      "execution_count": 0,
      "outputs": []
    },
    {
      "cell_type": "code",
      "metadata": {
        "id": "9iLN_t9531eb",
        "colab_type": "code",
        "colab": {}
      },
      "source": [
        ""
      ],
      "execution_count": 0,
      "outputs": []
    },
    {
      "cell_type": "markdown",
      "metadata": {
        "id": "gwyaoVOfxdFs",
        "colab_type": "text"
      },
      "source": [
        "-----"
      ]
    },
    {
      "cell_type": "markdown",
      "metadata": {
        "id": "Zql6dKi-xdII",
        "colab_type": "text"
      },
      "source": [
        "### 3-3) 클래스 불균형 조정"
      ]
    },
    {
      "cell_type": "code",
      "metadata": {
        "id": "RWO9tzhb4Fxj",
        "colab_type": "code",
        "colab": {}
      },
      "source": [
        ""
      ],
      "execution_count": 0,
      "outputs": []
    },
    {
      "cell_type": "markdown",
      "metadata": {
        "id": "7-_Qv2Q3zaN1",
        "colab_type": "text"
      },
      "source": [
        "##### 1:1 샘플링"
      ]
    },
    {
      "cell_type": "code",
      "metadata": {
        "id": "sNgdPVUjxXlZ",
        "colab_type": "code",
        "colab": {}
      },
      "source": [
        ""
      ],
      "execution_count": 0,
      "outputs": []
    },
    {
      "cell_type": "code",
      "metadata": {
        "id": "JeO4ou55xgeZ",
        "colab_type": "code",
        "colab": {}
      },
      "source": [
        ""
      ],
      "execution_count": 0,
      "outputs": []
    },
    {
      "cell_type": "markdown",
      "metadata": {
        "id": "aOQb1cHozdbf",
        "colab_type": "text"
      },
      "source": [
        "##### 데이터셋 분리"
      ]
    },
    {
      "cell_type": "code",
      "metadata": {
        "id": "cUdwdTFaxhkm",
        "colab_type": "code",
        "colab": {}
      },
      "source": [
        ""
      ],
      "execution_count": 0,
      "outputs": []
    },
    {
      "cell_type": "code",
      "metadata": {
        "id": "lRnHzLVe4Psl",
        "colab_type": "code",
        "colab": {}
      },
      "source": [
        ""
      ],
      "execution_count": 0,
      "outputs": []
    },
    {
      "cell_type": "markdown",
      "metadata": {
        "id": "k3zmVmzmzg9G",
        "colab_type": "text"
      },
      "source": [
        "##### 모델 재학습"
      ]
    },
    {
      "cell_type": "code",
      "metadata": {
        "id": "33DddufIxjGG",
        "colab_type": "code",
        "colab": {}
      },
      "source": [
        ""
      ],
      "execution_count": 0,
      "outputs": []
    },
    {
      "cell_type": "code",
      "metadata": {
        "id": "4-6HUi5_4SqH",
        "colab_type": "code",
        "colab": {}
      },
      "source": [
        ""
      ],
      "execution_count": 0,
      "outputs": []
    },
    {
      "cell_type": "code",
      "metadata": {
        "id": "xRDOHPns4UJv",
        "colab_type": "code",
        "colab": {}
      },
      "source": [
        ""
      ],
      "execution_count": 0,
      "outputs": []
    },
    {
      "cell_type": "markdown",
      "metadata": {
        "id": "qcWQEZw74XA0",
        "colab_type": "text"
      },
      "source": [
        "## 4) 비지도 학습 기반 군집 분류 분석"
      ]
    },
    {
      "cell_type": "markdown",
      "metadata": {
        "id": "87E9Sz5g4YFE",
        "colab_type": "text"
      },
      "source": [
        "### 4-1) Kmeans 군집 분류"
      ]
    },
    {
      "cell_type": "markdown",
      "metadata": {
        "id": "MPC-EOxb4YIm",
        "colab_type": "text"
      },
      "source": [
        "##### 2차원 군집 분석 (Kmeans)"
      ]
    },
    {
      "cell_type": "code",
      "metadata": {
        "id": "PS27E0CT4h-7",
        "colab_type": "code",
        "colab": {}
      },
      "source": [
        ""
      ],
      "execution_count": 0,
      "outputs": []
    },
    {
      "cell_type": "code",
      "metadata": {
        "id": "hyQg5awl4iXO",
        "colab_type": "code",
        "colab": {}
      },
      "source": [
        ""
      ],
      "execution_count": 0,
      "outputs": []
    },
    {
      "cell_type": "code",
      "metadata": {
        "id": "zNF6s5oX4oG8",
        "colab_type": "code",
        "colab": {}
      },
      "source": [
        ""
      ],
      "execution_count": 0,
      "outputs": []
    },
    {
      "cell_type": "markdown",
      "metadata": {
        "id": "S3kchNT74tr4",
        "colab_type": "text"
      },
      "source": [
        "##### 군집 시각화"
      ]
    },
    {
      "cell_type": "code",
      "metadata": {
        "id": "Fwcwp2LB4rgg",
        "colab_type": "code",
        "colab": {}
      },
      "source": [
        ""
      ],
      "execution_count": 0,
      "outputs": []
    },
    {
      "cell_type": "markdown",
      "metadata": {
        "id": "b4x2NVJc4xDA",
        "colab_type": "text"
      },
      "source": [
        "##### 다차원 군집 분석 (Kmeans)"
      ]
    },
    {
      "cell_type": "code",
      "metadata": {
        "id": "9L4C90Lv4vCU",
        "colab_type": "code",
        "colab": {}
      },
      "source": [
        ""
      ],
      "execution_count": 0,
      "outputs": []
    },
    {
      "cell_type": "code",
      "metadata": {
        "id": "EfOXEQxF4zyV",
        "colab_type": "code",
        "colab": {}
      },
      "source": [
        ""
      ],
      "execution_count": 0,
      "outputs": []
    },
    {
      "cell_type": "markdown",
      "metadata": {
        "id": "JCNhTsqT4367",
        "colab_type": "text"
      },
      "source": [
        "##### 군집별 특성 시각화"
      ]
    },
    {
      "cell_type": "code",
      "metadata": {
        "id": "r1eApqh841YI",
        "colab_type": "code",
        "colab": {}
      },
      "source": [
        ""
      ],
      "execution_count": 0,
      "outputs": []
    },
    {
      "cell_type": "code",
      "metadata": {
        "id": "88QySbsW453l",
        "colab_type": "code",
        "colab": {}
      },
      "source": [
        ""
      ],
      "execution_count": 0,
      "outputs": []
    },
    {
      "cell_type": "code",
      "metadata": {
        "id": "wcs7ZMch4-9g",
        "colab_type": "code",
        "colab": {}
      },
      "source": [
        ""
      ],
      "execution_count": 0,
      "outputs": []
    },
    {
      "cell_type": "code",
      "metadata": {
        "id": "Nqw_Cb9H5C9i",
        "colab_type": "code",
        "colab": {}
      },
      "source": [
        ""
      ],
      "execution_count": 0,
      "outputs": []
    },
    {
      "cell_type": "code",
      "metadata": {
        "id": "H80cb_W85FYM",
        "colab_type": "code",
        "colab": {}
      },
      "source": [
        ""
      ],
      "execution_count": 0,
      "outputs": []
    },
    {
      "cell_type": "code",
      "metadata": {
        "id": "fOYgwH1p5KwS",
        "colab_type": "code",
        "colab": {}
      },
      "source": [
        ""
      ],
      "execution_count": 0,
      "outputs": []
    }
  ]
}