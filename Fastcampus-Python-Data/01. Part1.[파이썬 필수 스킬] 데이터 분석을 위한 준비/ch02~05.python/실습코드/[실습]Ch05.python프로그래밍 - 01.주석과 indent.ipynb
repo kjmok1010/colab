{
  "nbformat": 4,
  "nbformat_minor": 0,
  "metadata": {
    "colab": {
      "name": "ch02-part03-주석과 indent-실습",
      "provenance": [],
      "collapsed_sections": []
    },
    "kernelspec": {
      "name": "python3",
      "display_name": "Python 3"
    }
  },
  "cells": [
    {
      "cell_type": "markdown",
      "metadata": {
        "id": "4_PsJAIhA8rM",
        "colab_type": "text"
      },
      "source": [
        "## 1. 주석"
      ]
    },
    {
      "cell_type": "markdown",
      "metadata": {
        "id": "CZsnlpYlBJ8z",
        "colab_type": "text"
      },
      "source": [
        "'#' 기호와 한칸 띄어 보통 사용합니다."
      ]
    },
    {
      "cell_type": "markdown",
      "metadata": {
        "id": "MaeGqZKYBBtg",
        "colab_type": "text"
      },
      "source": [
        "* 코드 사이사이에 코멘트를 달 때 사용합니다.\n",
        "* 코드 셀에서만 동작함에 유의하세요"
      ]
    },
    {
      "cell_type": "code",
      "metadata": {
        "id": "ovRN-UGdBG29",
        "colab_type": "code",
        "outputId": "6f88bf97-f226-46fd-9026-e5bfe6169b0f",
        "colab": {
          "base_uri": "https://localhost:8080/",
          "height": 34
        }
      },
      "source": [
        "# 이렇게 코멘트를 달 수 있습니다.\n",
        "a = 3\n",
        "b = 4\n",
        "\n",
        "# a + b 연산을 수행해 봅시다\n",
        "print(a + b)"
      ],
      "execution_count": 0,
      "outputs": [
        {
          "output_type": "stream",
          "text": [
            "7\n"
          ],
          "name": "stdout"
        }
      ]
    },
    {
      "cell_type": "markdown",
      "metadata": {
        "id": "y77PEp5xBU-R",
        "colab_type": "text"
      },
      "source": [
        "## 2. indent"
      ]
    },
    {
      "cell_type": "markdown",
      "metadata": {
        "id": "ImrpMfwMBYy1",
        "colab_type": "text"
      },
      "source": [
        "indent(들여쓰기)는 파이썬에서 굉장히 중요합니다.\n",
        "\n",
        "단순히, 코드를 깔끔히 정리하기 위해서 들여쓰기를 하는 것은 아닙니다."
      ]
    },
    {
      "cell_type": "markdown",
      "metadata": {
        "id": "T4eoKQIuBw9q",
        "colab_type": "text"
      },
      "source": [
        "* 본인이 맞게 코드를 짰다고 한다면, indent는 colab에서 자동으로 해줄 것입니다.\n",
        "* [tab]키를 한 번 누르면 indent가 1번 한 효과입니다."
      ]
    },
    {
      "cell_type": "markdown",
      "metadata": {
        "id": "W2Xy1do1B2nh",
        "colab_type": "text"
      },
      "source": [
        "**indent 옵션**을 space * 4 개로 바꿔봅시다"
      ]
    },
    {
      "cell_type": "markdown",
      "metadata": {
        "id": "SP_jwt-YB-2O",
        "colab_type": "text"
      },
      "source": [
        "**[우측상단 톱니바퀴] - 편집기 - 들여쓰기 - 4 로 바꿔봅시다**"
      ]
    },
    {
      "cell_type": "markdown",
      "metadata": {
        "id": "SQznenyqBirw",
        "colab_type": "text"
      },
      "source": [
        "### 2-1. 콜론(:) 다음에 반드시 indent를 부여합니다."
      ]
    },
    {
      "cell_type": "code",
      "metadata": {
        "id": "WRojM7iFBsbN",
        "colab_type": "code",
        "colab": {}
      },
      "source": [
        "# 아래에 indent를 추가하여 오류를 수정해 주세요\n",
        "def my_func():\n",
        "print('indent가 자동으로 되나요?')"
      ],
      "execution_count": 0,
      "outputs": []
    },
    {
      "cell_type": "markdown",
      "metadata": {
        "id": "s1PPG6ciCUHG",
        "colab_type": "text"
      },
      "source": [
        "### 2-2. indent를 마구잡이로 잘 못 사용했다면, 코드 실행시 에러가 뿜어져 나옵니다."
      ]
    },
    {
      "cell_type": "code",
      "metadata": {
        "id": "u8kcH6UBCQwC",
        "colab_type": "code",
        "outputId": "64a69883-8b86-48d7-e6c7-2892b1cd8d95",
        "colab": {
          "base_uri": "https://localhost:8080/",
          "height": 134
        }
      },
      "source": [
        "# 아래에 indent 오류를 수정해 주세요\n",
        "a = 3\n",
        "    b = 4"
      ],
      "execution_count": 0,
      "outputs": [
        {
          "output_type": "error",
          "ename": "IndentationError",
          "evalue": "ignored",
          "traceback": [
            "\u001b[0;36m  File \u001b[0;32m\"<ipython-input-5-a09cf6cf6487>\"\u001b[0;36m, line \u001b[0;32m2\u001b[0m\n\u001b[0;31m    b = 4\u001b[0m\n\u001b[0m    ^\u001b[0m\n\u001b[0;31mIndentationError\u001b[0m\u001b[0;31m:\u001b[0m unexpected indent\n"
          ]
        }
      ]
    },
    {
      "cell_type": "code",
      "metadata": {
        "id": "rqZ98iOgCkcl",
        "colab_type": "code",
        "outputId": "f86bbea7-7e50-456b-de30-4620066860e3",
        "colab": {
          "base_uri": "https://localhost:8080/",
          "height": 134
        }
      },
      "source": [
        "a = 3\n",
        "  b = 4"
      ],
      "execution_count": 0,
      "outputs": [
        {
          "output_type": "error",
          "ename": "IndentationError",
          "evalue": "ignored",
          "traceback": [
            "\u001b[0;36m  File \u001b[0;32m\"<ipython-input-7-f729ffbad5e1>\"\u001b[0;36m, line \u001b[0;32m2\u001b[0m\n\u001b[0;31m    b = 4\u001b[0m\n\u001b[0m    ^\u001b[0m\n\u001b[0;31mIndentationError\u001b[0m\u001b[0;31m:\u001b[0m unexpected indent\n"
          ]
        }
      ]
    },
    {
      "cell_type": "markdown",
      "metadata": {
        "id": "6bMlRB-pCb4p",
        "colab_type": "text"
      },
      "source": [
        "IndentationError 는 Indent를 잘 못 사용했을 때 뿜어져 나오니, 해당 Error를 발견했다면, indent를 주의해서 보세요"
      ]
    }
  ]
}