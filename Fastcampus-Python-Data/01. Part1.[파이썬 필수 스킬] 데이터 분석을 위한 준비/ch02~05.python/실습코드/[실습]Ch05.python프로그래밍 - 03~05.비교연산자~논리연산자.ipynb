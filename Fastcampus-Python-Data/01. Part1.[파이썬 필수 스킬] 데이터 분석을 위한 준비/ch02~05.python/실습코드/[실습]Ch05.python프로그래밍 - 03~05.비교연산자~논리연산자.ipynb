{
  "nbformat": 4,
  "nbformat_minor": 0,
  "metadata": {
    "colab": {
      "name": "ch02-part05-논리연산자와 조건문-실습",
      "provenance": [],
      "collapsed_sections": []
    },
    "kernelspec": {
      "name": "python3",
      "display_name": "Python 3"
    }
  },
  "cells": [
    {
      "cell_type": "markdown",
      "metadata": {
        "id": "mkSnBW98EIs-",
        "colab_type": "text"
      },
      "source": [
        "## 1. 비교연산자"
      ]
    },
    {
      "cell_type": "markdown",
      "metadata": {
        "id": "ngUCWVY_EsY0",
        "colab_type": "text"
      },
      "source": [
        "비교 연산자는 주로 대소비교를 할 때 사용합니다."
      ]
    },
    {
      "cell_type": "markdown",
      "metadata": {
        "id": "HEG6iuONEswX",
        "colab_type": "text"
      },
      "source": [
        "### 1-1. 대소비교 >, >=, <, <="
      ]
    },
    {
      "cell_type": "markdown",
      "metadata": {
        "id": "m1qRDU2-RGv0",
        "colab_type": "text"
      },
      "source": [
        "아래의 출력 결과와 동일한 값이 나오도록 조건문에 값을 입력해 주세요"
      ]
    },
    {
      "cell_type": "code",
      "metadata": {
        "id": "wiLgE47fEs1S",
        "colab_type": "code",
        "outputId": "7f41ee8a-f2d6-4e14-cdf1-7c74f0c2559d",
        "colab": {
          "base_uri": "https://localhost:8080/",
          "height": 35
        }
      },
      "source": [
        "# 코드를 입력해 주세요\n",
        "1 > "
      ],
      "execution_count": 0,
      "outputs": [
        {
          "output_type": "execute_result",
          "data": {
            "text/plain": [
              "False"
            ]
          },
          "metadata": {
            "tags": []
          },
          "execution_count": 1
        }
      ]
    },
    {
      "cell_type": "code",
      "metadata": {
        "id": "0b6l023CEs5o",
        "colab_type": "code",
        "outputId": "542a8271-3d46-436c-b72b-8feb782d4736",
        "colab": {
          "base_uri": "https://localhost:8080/",
          "height": 35
        }
      },
      "source": [
        "# 코드를 입력해 주세요\n",
        "10 >= "
      ],
      "execution_count": 0,
      "outputs": [
        {
          "output_type": "execute_result",
          "data": {
            "text/plain": [
              "True"
            ]
          },
          "metadata": {
            "tags": []
          },
          "execution_count": 2
        }
      ]
    },
    {
      "cell_type": "code",
      "metadata": {
        "id": "3TTqQvmJEs91",
        "colab_type": "code",
        "outputId": "828a80f2-0ab4-4157-c136-e33c48fa7f57",
        "colab": {
          "base_uri": "https://localhost:8080/",
          "height": 35
        }
      },
      "source": [
        "# 코드를 입력해 주세요\n",
        "9 < "
      ],
      "execution_count": 0,
      "outputs": [
        {
          "output_type": "execute_result",
          "data": {
            "text/plain": [
              "True"
            ]
          },
          "metadata": {
            "tags": []
          },
          "execution_count": 3
        }
      ]
    },
    {
      "cell_type": "code",
      "metadata": {
        "id": "llirdNcSEtE5",
        "colab_type": "code",
        "outputId": "fb9e7fb1-fc04-4827-f3ed-72e79efd2496",
        "colab": {
          "base_uri": "https://localhost:8080/",
          "height": 35
        }
      },
      "source": [
        "# 코드를 입력해 주세요\n",
        "8 <= "
      ],
      "execution_count": 0,
      "outputs": [
        {
          "output_type": "execute_result",
          "data": {
            "text/plain": [
              "False"
            ]
          },
          "metadata": {
            "tags": []
          },
          "execution_count": 4
        }
      ]
    },
    {
      "cell_type": "markdown",
      "metadata": {
        "id": "YnFEo5W4FBQV",
        "colab_type": "text"
      },
      "source": [
        "### 1-2. 같다 =="
      ]
    },
    {
      "cell_type": "markdown",
      "metadata": {
        "id": "c9JH4zBNFBGf",
        "colab_type": "text"
      },
      "source": [
        "=는 대입 연산자 입니다. 코딩에서는 = 이 대입 연산자로 사용되기 때문에 ==을 사용하고 있습니다."
      ]
    },
    {
      "cell_type": "markdown",
      "metadata": {
        "id": "CKNQ0KBhRPOf",
        "colab_type": "text"
      },
      "source": [
        "아래의 출력 결과와 동일한 값이 나오도록 조건문에 값을 입력해 주세요"
      ]
    },
    {
      "cell_type": "code",
      "metadata": {
        "id": "lCnEQx-KFA_R",
        "colab_type": "code",
        "outputId": "b7f2c544-225d-41fe-8308-88414aa0dafd",
        "colab": {
          "base_uri": "https://localhost:8080/",
          "height": 35
        }
      },
      "source": [
        "# 코드를 입력해 주세요\n",
        "2 == "
      ],
      "execution_count": 0,
      "outputs": [
        {
          "output_type": "execute_result",
          "data": {
            "text/plain": [
              "True"
            ]
          },
          "metadata": {
            "tags": []
          },
          "execution_count": 5
        }
      ]
    },
    {
      "cell_type": "code",
      "metadata": {
        "id": "uu38fqhwOv_t",
        "colab_type": "code",
        "outputId": "2a031f4f-9458-4665-f4e2-c8ae5a951841",
        "colab": {
          "base_uri": "https://localhost:8080/",
          "height": 35
        }
      },
      "source": [
        "# 코드를 입력해 주세요\n",
        "2 == "
      ],
      "execution_count": 0,
      "outputs": [
        {
          "output_type": "execute_result",
          "data": {
            "text/plain": [
              "False"
            ]
          },
          "metadata": {
            "tags": []
          },
          "execution_count": 6
        }
      ]
    },
    {
      "cell_type": "markdown",
      "metadata": {
        "id": "J8S0jzfGFKLz",
        "colab_type": "text"
      },
      "source": [
        "### 1-3. 같지 않다 !="
      ]
    },
    {
      "cell_type": "markdown",
      "metadata": {
        "id": "fCmEjEqMRTaa",
        "colab_type": "text"
      },
      "source": [
        "아래의 출력 결과와 동일한 값이 나오도록 조건문에 값을 입력해 주세요"
      ]
    },
    {
      "cell_type": "code",
      "metadata": {
        "id": "FN2gAfWMFKRy",
        "colab_type": "code",
        "outputId": "358a71a6-591e-439d-bfce-fa099ffb7d4f",
        "colab": {
          "base_uri": "https://localhost:8080/",
          "height": 35
        }
      },
      "source": [
        "# 코드를 입력해 주세요\n",
        "2 != "
      ],
      "execution_count": 0,
      "outputs": [
        {
          "output_type": "execute_result",
          "data": {
            "text/plain": [
              "False"
            ]
          },
          "metadata": {
            "tags": []
          },
          "execution_count": 7
        }
      ]
    },
    {
      "cell_type": "code",
      "metadata": {
        "id": "FVrNPEq7FKZk",
        "colab_type": "code",
        "outputId": "81c75270-63fd-405f-93dd-f923c30d6399",
        "colab": {
          "base_uri": "https://localhost:8080/",
          "height": 35
        }
      },
      "source": [
        "# 코드를 입력해 주세요\n",
        "1 != "
      ],
      "execution_count": 0,
      "outputs": [
        {
          "output_type": "execute_result",
          "data": {
            "text/plain": [
              "True"
            ]
          },
          "metadata": {
            "tags": []
          },
          "execution_count": 8
        }
      ]
    },
    {
      "cell_type": "code",
      "metadata": {
        "id": "cjB7v1JiFc78",
        "colab_type": "code",
        "outputId": "7bbe614d-b586-403b-c6ec-34c776d8edf5",
        "colab": {
          "base_uri": "https://localhost:8080/",
          "height": 35
        }
      },
      "source": [
        "# 코드를 입력해 주세요\n",
        "'나' != "
      ],
      "execution_count": 0,
      "outputs": [
        {
          "output_type": "execute_result",
          "data": {
            "text/plain": [
              "True"
            ]
          },
          "metadata": {
            "tags": []
          },
          "execution_count": 9
        }
      ]
    },
    {
      "cell_type": "code",
      "metadata": {
        "id": "7b47rVKRFcuZ",
        "colab_type": "code",
        "outputId": "de6fc908-108a-489a-9ad8-784b59085b59",
        "colab": {
          "base_uri": "https://localhost:8080/",
          "height": 35
        }
      },
      "source": [
        "# 코드를 입력해 주세요\n",
        "'나' != "
      ],
      "execution_count": 0,
      "outputs": [
        {
          "output_type": "execute_result",
          "data": {
            "text/plain": [
              "False"
            ]
          },
          "metadata": {
            "tags": []
          },
          "execution_count": 10
        }
      ]
    },
    {
      "cell_type": "markdown",
      "metadata": {
        "id": "nVJ1deTbACiP",
        "colab_type": "text"
      },
      "source": [
        "## 2. 조건문\n"
      ]
    },
    {
      "cell_type": "markdown",
      "metadata": {
        "id": "DUrQsRomElox",
        "colab_type": "text"
      },
      "source": [
        "조건문이란 무엇일까요?\n",
        "\n",
        "주어진 조건이 **참**인 경우 그 다음 내가 정한 규칙(로직)을 실행하는 개념입니다."
      ]
    },
    {
      "cell_type": "markdown",
      "metadata": {
        "id": "eyntgHbrAJW2",
        "colab_type": "text"
      },
      "source": [
        "### 2-1. if"
      ]
    },
    {
      "cell_type": "markdown",
      "metadata": {
        "id": "Nq6CmuoYALrr",
        "colab_type": "text"
      },
      "source": [
        "if는 어떤 조건이 성립한다면~ 이라는 뜻입니다."
      ]
    },
    {
      "cell_type": "markdown",
      "metadata": {
        "id": "x2CRKxQoAeOR",
        "colab_type": "text"
      },
      "source": [
        "if 구문 끝에는 반드시 콜론(:)을 잊지 말아 주세요"
      ]
    },
    {
      "cell_type": "code",
      "metadata": {
        "id": "tNkI-ROGAPPz",
        "colab_type": "code",
        "outputId": "6d05a588-f74c-4338-811c-c18b62055f13",
        "colab": {
          "base_uri": "https://localhost:8080/",
          "height": 35
        }
      },
      "source": [
        "if 5 > 3:\n",
        "    print('참')"
      ],
      "execution_count": 0,
      "outputs": [
        {
          "output_type": "stream",
          "text": [
            "참\n"
          ],
          "name": "stdout"
        }
      ]
    },
    {
      "cell_type": "code",
      "metadata": {
        "id": "udUZJO19Ngk3",
        "colab_type": "code",
        "outputId": "21285c02-d942-46cc-8369-77f1dc2d4a28",
        "colab": {
          "base_uri": "https://localhost:8080/",
          "height": 35
        }
      },
      "source": [
        "if 5 < 3:\n",
        "    print('참')\n",
        "    print('참')\n",
        "    print('참')\n",
        "    print('참')\n",
        "\n",
        "print('끝')"
      ],
      "execution_count": 0,
      "outputs": [
        {
          "output_type": "stream",
          "text": [
            "끝\n"
          ],
          "name": "stdout"
        }
      ]
    },
    {
      "cell_type": "code",
      "metadata": {
        "id": "BIBsVKLRAUus",
        "colab_type": "code",
        "colab": {}
      },
      "source": [
        "if 5 < 3:\n",
        "    print('참')"
      ],
      "execution_count": 0,
      "outputs": []
    },
    {
      "cell_type": "markdown",
      "metadata": {
        "id": "hHaWa7DPAXRo",
        "colab_type": "text"
      },
      "source": [
        ""
      ]
    },
    {
      "cell_type": "markdown",
      "metadata": {
        "id": "vTqQGfv5Ac4a",
        "colab_type": "text"
      },
      "source": [
        "### 2-2. else"
      ]
    },
    {
      "cell_type": "markdown",
      "metadata": {
        "id": "EzJHdesGAjTQ",
        "colab_type": "text"
      },
      "source": [
        "else는 if 조건 후에 따라오며, if 가 아닌 경우에 실행 됩니다."
      ]
    },
    {
      "cell_type": "code",
      "metadata": {
        "id": "DsGowvtQAq6B",
        "colab_type": "code",
        "outputId": "8f14881b-6e12-41b2-8cda-9f81679d0d7d",
        "colab": {
          "base_uri": "https://localhost:8080/",
          "height": 35
        }
      },
      "source": [
        "if 5 < 3:\n",
        "    print('if 구문 실행')\n",
        "else:\n",
        "    print('else 구문 실행')"
      ],
      "execution_count": 0,
      "outputs": [
        {
          "output_type": "stream",
          "text": [
            "else 구문 실행\n"
          ],
          "name": "stdout"
        }
      ]
    },
    {
      "cell_type": "markdown",
      "metadata": {
        "id": "RIHTuYU7DJm2",
        "colab_type": "text"
      },
      "source": [
        "하지만, else 만 단독으로 실행한다면?"
      ]
    },
    {
      "cell_type": "code",
      "metadata": {
        "id": "9I834w_8DOBx",
        "colab_type": "code",
        "outputId": "bc009094-0901-4b84-e759-ec26f2885838",
        "colab": {
          "base_uri": "https://localhost:8080/",
          "height": 136
        }
      },
      "source": [
        "else:\n",
        "    print('else 구문 실행')"
      ],
      "execution_count": 0,
      "outputs": [
        {
          "output_type": "error",
          "ename": "SyntaxError",
          "evalue": "ignored",
          "traceback": [
            "\u001b[0;36m  File \u001b[0;32m\"<ipython-input-15-5018a7ac68d5>\"\u001b[0;36m, line \u001b[0;32m1\u001b[0m\n\u001b[0;31m    else:\u001b[0m\n\u001b[0m       ^\u001b[0m\n\u001b[0;31mSyntaxError\u001b[0m\u001b[0;31m:\u001b[0m invalid syntax\n"
          ]
        }
      ]
    },
    {
      "cell_type": "markdown",
      "metadata": {
        "id": "YRckrfc3DSsM",
        "colab_type": "text"
      },
      "source": [
        "### 2-3. elif"
      ]
    },
    {
      "cell_type": "markdown",
      "metadata": {
        "id": "LS8DofkNDWUS",
        "colab_type": "text"
      },
      "source": [
        "elif 구문은 3가지 이상 분기 (조건)의 동작을 수행할 때 사용합니다.\n"
      ]
    },
    {
      "cell_type": "code",
      "metadata": {
        "id": "j6-32b6TDeNM",
        "colab_type": "code",
        "colab": {}
      },
      "source": [
        "if 3 > 5:\n",
        "    print('if 구문')\n",
        "elif 3 < 4:\n",
        "    print('elif 구문')\n",
        "else:\n",
        "    print('이것도 저것도 아니다')"
      ],
      "execution_count": 0,
      "outputs": []
    },
    {
      "cell_type": "markdown",
      "metadata": {
        "id": "kj9j--pEDzum",
        "colab_type": "text"
      },
      "source": [
        "그럼, **elif 구문이 참인 여러 구문**을 나열 했을 때는 어떻게 될까요?\n",
        "\n",
        "한 번 고민해보고 실행하세요"
      ]
    },
    {
      "cell_type": "code",
      "metadata": {
        "id": "CoA1nNx4DttN",
        "colab_type": "code",
        "colab": {}
      },
      "source": [
        "if 3 > 5:\n",
        "    print('if 구문')\n",
        "elif 3 > 4:\n",
        "    print('elif 1 구문')\n",
        "elif 3 > 5:\n",
        "    print('elif 2 구문')\n",
        "elif 3 < 6:\n",
        "    print('elif 3 구문')\n",
        "else:\n",
        "    print('이것도 저것도 아니다')"
      ],
      "execution_count": 0,
      "outputs": []
    },
    {
      "cell_type": "markdown",
      "metadata": {
        "id": "IH3OU9JEGL2C",
        "colab_type": "text"
      },
      "source": [
        "### 2-4. 1 이나 0은 참 이나 거짓을 표현하기도 합니다."
      ]
    },
    {
      "cell_type": "code",
      "metadata": {
        "id": "QvLPbzLSGLqz",
        "colab_type": "code",
        "colab": {}
      },
      "source": [
        "if 1:\n",
        "    print('참')\n",
        "else:\n",
        "    print('거짓')"
      ],
      "execution_count": 0,
      "outputs": []
    },
    {
      "cell_type": "code",
      "metadata": {
        "id": "nZaec2FMGV36",
        "colab_type": "code",
        "colab": {}
      },
      "source": [
        "if 0:\n",
        "    print('참')\n",
        "else:\n",
        "    print('거짓')"
      ],
      "execution_count": 0,
      "outputs": []
    },
    {
      "cell_type": "markdown",
      "metadata": {
        "id": "UkBFrQ99EIlN",
        "colab_type": "text"
      },
      "source": [
        "## 3. 논리 연산자 (and, or)"
      ]
    },
    {
      "cell_type": "markdown",
      "metadata": {
        "id": "JArIvFX7F4xv",
        "colab_type": "text"
      },
      "source": [
        "**and**나 **or** 조건은 두 가지 이상 조건을 다룰 때 활용합니다."
      ]
    },
    {
      "cell_type": "markdown",
      "metadata": {
        "id": "1r39VMGsF_e4",
        "colab_type": "text"
      },
      "source": [
        "### 3-1. and "
      ]
    },
    {
      "cell_type": "markdown",
      "metadata": {
        "id": "Rpmwyz4UGbHf",
        "colab_type": "text"
      },
      "source": [
        "and 조건은 **모두 만족**할 때 참으로 인식합니다."
      ]
    },
    {
      "cell_type": "code",
      "metadata": {
        "id": "BMup-Y9VGGts",
        "colab_type": "code",
        "colab": {}
      },
      "source": [
        "True and True and True"
      ],
      "execution_count": 0,
      "outputs": []
    },
    {
      "cell_type": "code",
      "metadata": {
        "id": "SVDUfdmLGIXm",
        "colab_type": "code",
        "colab": {}
      },
      "source": [
        "True and False and True"
      ],
      "execution_count": 0,
      "outputs": []
    },
    {
      "cell_type": "code",
      "metadata": {
        "id": "1ZjfDRh3GJwz",
        "colab_type": "code",
        "colab": {}
      },
      "source": [
        "if (0 < 1) and (0 < 2):\n",
        "    print('모두 참')\n",
        "else:\n",
        "    print('거짓')"
      ],
      "execution_count": 0,
      "outputs": []
    },
    {
      "cell_type": "code",
      "metadata": {
        "id": "cuHoVgi5GvVy",
        "colab_type": "code",
        "colab": {}
      },
      "source": [
        "if (0 < 1) and (0 > 2):\n",
        "    print('모두 참')\n",
        "else:\n",
        "    print('허참')"
      ],
      "execution_count": 0,
      "outputs": []
    },
    {
      "cell_type": "markdown",
      "metadata": {
        "id": "LpFTEajiGxRN",
        "colab_type": "text"
      },
      "source": [
        "### 3-2. or"
      ]
    },
    {
      "cell_type": "markdown",
      "metadata": {
        "id": "m9CzrDMhG1SM",
        "colab_type": "text"
      },
      "source": [
        "or 조건은 조건 중 **하나라도 만족**할 때 참으로 인식합니다."
      ]
    },
    {
      "cell_type": "code",
      "metadata": {
        "id": "kQnJHHiHG7MI",
        "colab_type": "code",
        "colab": {}
      },
      "source": [
        "True or False or False"
      ],
      "execution_count": 0,
      "outputs": []
    },
    {
      "cell_type": "code",
      "metadata": {
        "id": "jEH3pQIDG9ls",
        "colab_type": "code",
        "colab": {}
      },
      "source": [
        "False or False or False"
      ],
      "execution_count": 0,
      "outputs": []
    },
    {
      "cell_type": "code",
      "metadata": {
        "id": "pCiPRf0FHBhx",
        "colab_type": "code",
        "colab": {}
      },
      "source": [
        "if (0 < 1) or ( 1 < 0):\n",
        "    print('하나라도 참')\n",
        "else:\n",
        "    print('허참')"
      ],
      "execution_count": 0,
      "outputs": []
    },
    {
      "cell_type": "code",
      "metadata": {
        "id": "IXQSEQYjHKRz",
        "colab_type": "code",
        "colab": {}
      },
      "source": [
        "if (10 < 1) or ( 1 < 0):\n",
        "    print('하나라도 참')\n",
        "else:\n",
        "    print('허참')"
      ],
      "execution_count": 0,
      "outputs": []
    }
  ]
}