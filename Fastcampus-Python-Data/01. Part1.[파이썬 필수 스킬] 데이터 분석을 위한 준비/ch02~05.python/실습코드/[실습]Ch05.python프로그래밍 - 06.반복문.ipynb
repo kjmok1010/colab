{
  "nbformat": 4,
  "nbformat_minor": 0,
  "metadata": {
    "colab": {
      "name": "ch02-part06-반복문-실습",
      "provenance": [],
      "collapsed_sections": []
    },
    "kernelspec": {
      "name": "python3",
      "display_name": "Python 3"
    }
  },
  "cells": [
    {
      "cell_type": "markdown",
      "metadata": {
        "id": "GGwhVABx8Ucj",
        "colab_type": "text"
      },
      "source": [
        "## 1. 반복문이란?"
      ]
    },
    {
      "cell_type": "markdown",
      "metadata": {
        "id": "MPve6nk48nWY",
        "colab_type": "text"
      },
      "source": [
        "* 반복해야 하는 일을 반복하는 것\n",
        "* 반드시 list, dict, set 등 집합에 대한 순회를 돌며 일을 처리할 때 많이 쓰입니다."
      ]
    },
    {
      "cell_type": "code",
      "metadata": {
        "id": "r9jXJ8L49VLE",
        "colab_type": "code",
        "colab": {}
      },
      "source": [
        "mylist = [1, 2, 3, 4, 5, 6, 7, 8, 9, 10]"
      ],
      "execution_count": 0,
      "outputs": []
    },
    {
      "cell_type": "markdown",
      "metadata": {
        "id": "1tqhcEyv9asJ",
        "colab_type": "text"
      },
      "source": [
        "mylist에 들어 있는 모든 값들을 출력하려고 한다면?"
      ]
    },
    {
      "cell_type": "code",
      "metadata": {
        "id": "JWqvzMQ-9gq_",
        "colab_type": "code",
        "outputId": "32bcb280-aae3-426e-9fe7-37920cd858b0",
        "colab": {
          "base_uri": "https://localhost:8080/",
          "height": 122
        }
      },
      "source": [
        "print(mylist[0])\n",
        "print(mylist[1])\n",
        "print(mylist[2])\n",
        "print('...')\n",
        "print(mylist[8])\n",
        "print(mylist[9])"
      ],
      "execution_count": 0,
      "outputs": [
        {
          "output_type": "stream",
          "text": [
            "1\n",
            "2\n",
            "3\n",
            "...\n",
            "9\n",
            "10\n"
          ],
          "name": "stdout"
        }
      ]
    },
    {
      "cell_type": "markdown",
      "metadata": {
        "id": "D1NL7BS-9m0l",
        "colab_type": "text"
      },
      "source": [
        "노가다를 획기적으로 줄여주는 방법!!!"
      ]
    },
    {
      "cell_type": "markdown",
      "metadata": {
        "id": "2eRNROEc9vaB",
        "colab_type": "text"
      },
      "source": [
        "## 2. for 와 in을 활용하자!"
      ]
    },
    {
      "cell_type": "markdown",
      "metadata": {
        "id": "EmihJIWJ9zSI",
        "colab_type": "text"
      },
      "source": [
        "**[기본 문법]**<br>\n",
        "for 하나씩 꺼내올 때 변수 in [꺼내올 집합]"
      ]
    },
    {
      "cell_type": "code",
      "metadata": {
        "id": "iTlh4hYF-DnP",
        "colab_type": "code",
        "colab": {}
      },
      "source": [
        "mylist = [1, 2, 3, 4, 5, 6, 7, 8, 9, 10]"
      ],
      "execution_count": 0,
      "outputs": []
    },
    {
      "cell_type": "code",
      "metadata": {
        "id": "qk2ljaev93th",
        "colab_type": "code",
        "outputId": "3870eb52-b4f4-4bcb-a620-ad15edf4040b",
        "colab": {
          "base_uri": "https://localhost:8080/",
          "height": 369
        }
      },
      "source": [
        "# 코드를 입력해 주세요\n"
      ],
      "execution_count": 0,
      "outputs": [
        {
          "output_type": "stream",
          "text": [
            "1\n",
            "2\n",
            "2\n",
            "3\n",
            "3\n",
            "4\n",
            "4\n",
            "5\n",
            "5\n",
            "6\n",
            "6\n",
            "7\n",
            "7\n",
            "8\n",
            "8\n",
            "9\n",
            "9\n",
            "10\n",
            "10\n",
            "11\n"
          ],
          "name": "stdout"
        }
      ]
    },
    {
      "cell_type": "markdown",
      "metadata": {
        "id": "-dT8rGyO-MP4",
        "colab_type": "text"
      },
      "source": [
        "## 3. 반복문에서 짝수만 출력하려면?"
      ]
    },
    {
      "cell_type": "code",
      "metadata": {
        "id": "AltNBV5C-Pqt",
        "colab_type": "code",
        "colab": {}
      },
      "source": [
        "mylist = [1, 2, 3, 4, 5, 6, 7, 8, 9, 10]"
      ],
      "execution_count": 0,
      "outputs": []
    },
    {
      "cell_type": "code",
      "metadata": {
        "id": "tnNU-Pa3-Th0",
        "colab_type": "code",
        "colab": {}
      },
      "source": [
        "for i in mylist:\n",
        "    # 코드를 입력해 주세요 #\n",
        "    \n",
        "    \n",
        "    ########################\n",
        "    print(i)"
      ],
      "execution_count": 0,
      "outputs": []
    },
    {
      "cell_type": "markdown",
      "metadata": {
        "id": "DGHNctqg-qnX",
        "colab_type": "text"
      },
      "source": [
        "**continue** 라는 구문을 통해 아래 로직은 SKIP할 수 있습니다."
      ]
    },
    {
      "cell_type": "code",
      "metadata": {
        "id": "RWgPVawJ-jRT",
        "colab_type": "code",
        "outputId": "7e843b62-23d7-407f-c1b8-a055f5e9e66d",
        "colab": {
          "base_uri": "https://localhost:8080/",
          "height": 105
        }
      },
      "source": [
        "for i in mylist:\n",
        "    # 코드를 입력해 주세요 #\n",
        "\n",
        "\n",
        "    ########################\n",
        "    print(i)"
      ],
      "execution_count": 0,
      "outputs": [
        {
          "output_type": "stream",
          "text": [
            "2\n",
            "4\n",
            "6\n",
            "8\n",
            "10\n"
          ],
          "name": "stdout"
        }
      ]
    },
    {
      "cell_type": "markdown",
      "metadata": {
        "id": "xaDtUK2y-yRo",
        "colab_type": "text"
      },
      "source": [
        "## 4. break로 조건에 해당하면 빠져나와보자!"
      ]
    },
    {
      "cell_type": "code",
      "metadata": {
        "id": "g8rLTYZg-2R7",
        "colab_type": "code",
        "colab": {}
      },
      "source": [
        "mylist = [1, 2, 3, 4, 5, 6, 7, 8, 9, 10]"
      ],
      "execution_count": 0,
      "outputs": []
    },
    {
      "cell_type": "markdown",
      "metadata": {
        "id": "tGdZ0d1S-59J",
        "colab_type": "text"
      },
      "source": [
        "i가 6 이상이면 STOP"
      ]
    },
    {
      "cell_type": "code",
      "metadata": {
        "id": "LyTOiLaC-4hd",
        "colab_type": "code",
        "outputId": "eaddc0e2-097c-40f2-ffe7-182ba29ef095",
        "colab": {
          "base_uri": "https://localhost:8080/",
          "height": 122
        }
      },
      "source": [
        "for i in mylist:\n",
        "    # 코드를 입력해 주세요 # \n",
        "\n",
        "\n",
        "    ########################\n",
        "    print(i)"
      ],
      "execution_count": 0,
      "outputs": [
        {
          "output_type": "stream",
          "text": [
            "1\n",
            "2\n",
            "3\n",
            "4\n",
            "5\n",
            "break\n"
          ],
          "name": "stdout"
        }
      ]
    }
  ]
}