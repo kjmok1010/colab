{
  "nbformat": 4,
  "nbformat_minor": 0,
  "metadata": {
    "colab": {
      "name": "ch02-part02-연산-실습",
      "provenance": [],
      "collapsed_sections": []
    },
    "kernelspec": {
      "name": "python3",
      "display_name": "Python 3"
    }
  },
  "cells": [
    {
      "cell_type": "markdown",
      "metadata": {
        "id": "jqa_7SA3jzYX",
        "colab_type": "text"
      },
      "source": [
        "## 1. 연산"
      ]
    },
    {
      "cell_type": "markdown",
      "metadata": {
        "id": "LltjCE7kj5kA",
        "colab_type": "text"
      },
      "source": [
        "Excel에서도 **sum이나 +, -** 기호로 셀과 셀 단위, 열과 열단위, 행과 행단위 연산이 가능합니다.\n",
        "\n",
        "python에서도 마찬가지로 사칙 연산외 다양한 통계 연산 기능을 기본으로 제공해 줍니다.\n",
        "(**사용법도 물론 매우 쉽습니다^^**)"
      ]
    },
    {
      "cell_type": "markdown",
      "metadata": {
        "id": "xRX1SSoskTdo",
        "colab_type": "text"
      },
      "source": [
        "## 2. 사칙연산 (+, -, /, *)"
      ]
    },
    {
      "cell_type": "markdown",
      "metadata": {
        "id": "EFebGxnjkXwr",
        "colab_type": "text"
      },
      "source": [
        "* 더하기 (+)\n",
        "* 빼기 (-)\n",
        "* 나누기 (/)\n",
        "* 곱하기 (*)"
      ]
    },
    {
      "cell_type": "code",
      "metadata": {
        "id": "Ks6gjRfkkt9I",
        "colab_type": "code",
        "colab": {}
      },
      "source": [
        "a = 10\n",
        "b = 3"
      ],
      "execution_count": 0,
      "outputs": []
    },
    {
      "cell_type": "markdown",
      "metadata": {
        "id": "8DshdUKZkoeX",
        "colab_type": "text"
      },
      "source": [
        "### 더하기"
      ]
    },
    {
      "cell_type": "code",
      "metadata": {
        "id": "GRJdclDnkl0v",
        "colab_type": "code",
        "outputId": "7f365ee8-354e-4e3a-b379-6e2dc0e70a87",
        "colab": {
          "base_uri": "https://localhost:8080/",
          "height": 34
        }
      },
      "source": [
        "# 코드를 입력하세요\n"
      ],
      "execution_count": 0,
      "outputs": [
        {
          "output_type": "execute_result",
          "data": {
            "text/plain": [
              "13"
            ]
          },
          "metadata": {
            "tags": []
          },
          "execution_count": 2
        }
      ]
    },
    {
      "cell_type": "code",
      "metadata": {
        "id": "M3NXutOf2k9O",
        "colab_type": "code",
        "outputId": "8f4abe52-ba8d-43c7-e9d4-5c241ae005c6",
        "colab": {
          "base_uri": "https://localhost:8080/",
          "height": 34
        }
      },
      "source": [
        "10 + 234"
      ],
      "execution_count": 0,
      "outputs": [
        {
          "output_type": "execute_result",
          "data": {
            "text/plain": [
              "244"
            ]
          },
          "metadata": {
            "tags": []
          },
          "execution_count": 3
        }
      ]
    },
    {
      "cell_type": "markdown",
      "metadata": {
        "id": "iZVY_FHJknXf",
        "colab_type": "text"
      },
      "source": [
        "### 빼기"
      ]
    },
    {
      "cell_type": "code",
      "metadata": {
        "id": "fZtYiLERkrr0",
        "colab_type": "code",
        "outputId": "56f66e6f-de8d-48a8-b507-fdadc814e7e0",
        "colab": {
          "base_uri": "https://localhost:8080/",
          "height": 34
        }
      },
      "source": [
        "# 코드를 입력하세요\n"
      ],
      "execution_count": 0,
      "outputs": [
        {
          "output_type": "execute_result",
          "data": {
            "text/plain": [
              "7"
            ]
          },
          "metadata": {
            "tags": []
          },
          "execution_count": 4
        }
      ]
    },
    {
      "cell_type": "markdown",
      "metadata": {
        "id": "Ofd8aJrXk0c5",
        "colab_type": "text"
      },
      "source": [
        "### 나누기"
      ]
    },
    {
      "cell_type": "code",
      "metadata": {
        "id": "2a24yJmtk2Ha",
        "colab_type": "code",
        "outputId": "df6760b1-63b6-4c4b-a7f4-d074bc6118b0",
        "colab": {
          "base_uri": "https://localhost:8080/",
          "height": 34
        }
      },
      "source": [
        "# 코드를 입력하세요\n"
      ],
      "execution_count": 0,
      "outputs": [
        {
          "output_type": "execute_result",
          "data": {
            "text/plain": [
              "3.3333333333333335"
            ]
          },
          "metadata": {
            "tags": []
          },
          "execution_count": 5
        }
      ]
    },
    {
      "cell_type": "markdown",
      "metadata": {
        "id": "EZP9onY-k2vf",
        "colab_type": "text"
      },
      "source": [
        "### 곱하기"
      ]
    },
    {
      "cell_type": "code",
      "metadata": {
        "id": "MhOHnVNVk4iu",
        "colab_type": "code",
        "outputId": "12dcedc1-7ed1-40e6-9eae-e9b295c86122",
        "colab": {
          "base_uri": "https://localhost:8080/",
          "height": 34
        }
      },
      "source": [
        "# 코드를 입력하세요\n"
      ],
      "execution_count": 0,
      "outputs": [
        {
          "output_type": "execute_result",
          "data": {
            "text/plain": [
              "30"
            ]
          },
          "metadata": {
            "tags": []
          },
          "execution_count": 6
        }
      ]
    },
    {
      "cell_type": "markdown",
      "metadata": {
        "id": "6lkBwXXRk8Rn",
        "colab_type": "text"
      },
      "source": [
        "## 3. 조금 생소할 수 있는 연산자 (%, //, **)"
      ]
    },
    {
      "cell_type": "markdown",
      "metadata": {
        "id": "cAmmwPb0lPD8",
        "colab_type": "text"
      },
      "source": [
        "* %: 몫을 나눈 나머지를 구함\n",
        "* //: 나눗셈에 대한 몫을 정수형으로 구함\n",
        "* **: 제곱 연산"
      ]
    },
    {
      "cell_type": "code",
      "metadata": {
        "id": "WEGcqu2XljuA",
        "colab_type": "code",
        "colab": {}
      },
      "source": [
        "a = 10\n",
        "b = 3"
      ],
      "execution_count": 0,
      "outputs": []
    },
    {
      "cell_type": "markdown",
      "metadata": {
        "id": "0XTyKP1Vl50Q",
        "colab_type": "text"
      },
      "source": [
        "### %: 몫을 나눈 나머지"
      ]
    },
    {
      "cell_type": "code",
      "metadata": {
        "id": "woV-i1v5lrcP",
        "colab_type": "code",
        "outputId": "ee710759-5cf1-47e1-a4dc-d4c8be79b8de",
        "colab": {
          "base_uri": "https://localhost:8080/",
          "height": 34
        }
      },
      "source": [
        "# 코드를 입력하세요\n"
      ],
      "execution_count": 0,
      "outputs": [
        {
          "output_type": "execute_result",
          "data": {
            "text/plain": [
              "1"
            ]
          },
          "metadata": {
            "tags": []
          },
          "execution_count": 8
        }
      ]
    },
    {
      "cell_type": "markdown",
      "metadata": {
        "id": "f3JdzEiFluWK",
        "colab_type": "text"
      },
      "source": [
        "### //: 나눗셈에 대한 몫을 정수형으로 구함"
      ]
    },
    {
      "cell_type": "code",
      "metadata": {
        "id": "r3dQQsz-3E0Y",
        "colab_type": "code",
        "outputId": "e5f71916-76ec-41d5-8076-8a7a7ea30425",
        "colab": {
          "base_uri": "https://localhost:8080/",
          "height": 34
        }
      },
      "source": [
        "# 코드를 입력하세요\n"
      ],
      "execution_count": 0,
      "outputs": [
        {
          "output_type": "execute_result",
          "data": {
            "text/plain": [
              "3.3333333333333335"
            ]
          },
          "metadata": {
            "tags": []
          },
          "execution_count": 9
        }
      ]
    },
    {
      "cell_type": "code",
      "metadata": {
        "id": "KmmZxa_6mBWs",
        "colab_type": "code",
        "outputId": "bac33dc9-b607-4779-927f-a80c977ca6c7",
        "colab": {
          "base_uri": "https://localhost:8080/",
          "height": 34
        }
      },
      "source": [
        "# 코드를 입력하세요\n"
      ],
      "execution_count": 0,
      "outputs": [
        {
          "output_type": "execute_result",
          "data": {
            "text/plain": [
              "3"
            ]
          },
          "metadata": {
            "tags": []
          },
          "execution_count": 10
        }
      ]
    },
    {
      "cell_type": "markdown",
      "metadata": {
        "id": "kgsdhcm6mCe2",
        "colab_type": "text"
      },
      "source": [
        "### ** 제곱 연산"
      ]
    },
    {
      "cell_type": "code",
      "metadata": {
        "id": "PI2Cb9V_mFvG",
        "colab_type": "code",
        "outputId": "c2e5e683-8d31-44a4-9920-9149f17e42cf",
        "colab": {
          "base_uri": "https://localhost:8080/",
          "height": 34
        }
      },
      "source": [
        "# 코드를 입력하세요\n"
      ],
      "execution_count": 0,
      "outputs": [
        {
          "output_type": "execute_result",
          "data": {
            "text/plain": [
              "1000"
            ]
          },
          "metadata": {
            "tags": []
          },
          "execution_count": 12
        }
      ]
    },
    {
      "cell_type": "code",
      "metadata": {
        "id": "AkltfELfmGwJ",
        "colab_type": "code",
        "outputId": "e989e257-8ad3-43e3-84cf-ad88c366b4e9",
        "colab": {
          "base_uri": "https://localhost:8080/",
          "height": 34
        }
      },
      "source": [
        "10 ** 2"
      ],
      "execution_count": 0,
      "outputs": [
        {
          "output_type": "execute_result",
          "data": {
            "text/plain": [
              "100"
            ]
          },
          "metadata": {
            "tags": []
          },
          "execution_count": 11
        }
      ]
    },
    {
      "cell_type": "markdown",
      "metadata": {
        "id": "vxr0cihmmIgB",
        "colab_type": "text"
      },
      "source": [
        "## 4. 수학 연산할 때와 마찬가지로, *, /을 먼저 계산하며, 괄호 ()를 활용할 수 있습니다."
      ]
    },
    {
      "cell_type": "code",
      "metadata": {
        "id": "uHDJHp7Vmflc",
        "colab_type": "code",
        "outputId": "246457a9-db99-4273-a4fd-009d34cea5c2",
        "colab": {
          "base_uri": "https://localhost:8080/",
          "height": 34
        }
      },
      "source": [
        "10 + 2 * 5"
      ],
      "execution_count": 0,
      "outputs": [
        {
          "output_type": "execute_result",
          "data": {
            "text/plain": [
              "20"
            ]
          },
          "metadata": {
            "tags": []
          },
          "execution_count": 15
        }
      ]
    },
    {
      "cell_type": "code",
      "metadata": {
        "id": "XkFs622Ymqwq",
        "colab_type": "code",
        "outputId": "d52bbb69-79a8-4df7-eae9-44a153fe3388",
        "colab": {
          "base_uri": "https://localhost:8080/",
          "height": 34
        }
      },
      "source": [
        "(10 + 2) * 5"
      ],
      "execution_count": 0,
      "outputs": [
        {
          "output_type": "execute_result",
          "data": {
            "text/plain": [
              "60"
            ]
          },
          "metadata": {
            "tags": []
          },
          "execution_count": 16
        }
      ]
    },
    {
      "cell_type": "markdown",
      "metadata": {
        "id": "pgWCFHDZN68u",
        "colab_type": "text"
      },
      "source": [
        "## 5. 문자열의 연산"
      ]
    },
    {
      "cell_type": "code",
      "metadata": {
        "id": "dXQrylKrN7qD",
        "colab_type": "code",
        "colab": {}
      },
      "source": [
        "a = '반갑습니다.'\n",
        "b = '테디입니다.'"
      ],
      "execution_count": 0,
      "outputs": []
    },
    {
      "cell_type": "code",
      "metadata": {
        "id": "ybm6Kk9OOAhH",
        "colab_type": "code",
        "outputId": "d358f764-e9fa-4e3a-feae-5baccd5302d8",
        "colab": {
          "base_uri": "https://localhost:8080/",
          "height": 34
        }
      },
      "source": [
        "# 코드를 입력하세요\n"
      ],
      "execution_count": 0,
      "outputs": [
        {
          "output_type": "execute_result",
          "data": {
            "text/plain": [
              "'반갑습니다.테디입니다.'"
            ]
          },
          "metadata": {
            "tags": []
          },
          "execution_count": 18
        }
      ]
    },
    {
      "cell_type": "code",
      "metadata": {
        "id": "Hesb2VIVOBpM",
        "colab_type": "code",
        "outputId": "005871e0-6d69-4221-a72b-645480852aba",
        "colab": {
          "base_uri": "https://localhost:8080/",
          "height": 169
        }
      },
      "source": [
        "a - b"
      ],
      "execution_count": 0,
      "outputs": [
        {
          "output_type": "error",
          "ename": "TypeError",
          "evalue": "ignored",
          "traceback": [
            "\u001b[0;31m---------------------------------------------------------------------------\u001b[0m",
            "\u001b[0;31mTypeError\u001b[0m                                 Traceback (most recent call last)",
            "\u001b[0;32m<ipython-input-19-09bd029d0285>\u001b[0m in \u001b[0;36m<module>\u001b[0;34m()\u001b[0m\n\u001b[0;32m----> 1\u001b[0;31m \u001b[0ma\u001b[0m \u001b[0;34m-\u001b[0m \u001b[0mb\u001b[0m\u001b[0;34m\u001b[0m\u001b[0;34m\u001b[0m\u001b[0m\n\u001b[0m",
            "\u001b[0;31mTypeError\u001b[0m: unsupported operand type(s) for -: 'str' and 'str'"
          ]
        }
      ]
    },
    {
      "cell_type": "code",
      "metadata": {
        "id": "NsyNzg4nOEIC",
        "colab_type": "code",
        "outputId": "25e7d75a-4454-4fe9-bdd1-29057081c600",
        "colab": {
          "base_uri": "https://localhost:8080/",
          "height": 169
        }
      },
      "source": [
        "a * b"
      ],
      "execution_count": 0,
      "outputs": [
        {
          "output_type": "error",
          "ename": "TypeError",
          "evalue": "ignored",
          "traceback": [
            "\u001b[0;31m---------------------------------------------------------------------------\u001b[0m",
            "\u001b[0;31mTypeError\u001b[0m                                 Traceback (most recent call last)",
            "\u001b[0;32m<ipython-input-20-9bc1a869709f>\u001b[0m in \u001b[0;36m<module>\u001b[0;34m()\u001b[0m\n\u001b[0;32m----> 1\u001b[0;31m \u001b[0ma\u001b[0m \u001b[0;34m*\u001b[0m \u001b[0mb\u001b[0m\u001b[0;34m\u001b[0m\u001b[0;34m\u001b[0m\u001b[0m\n\u001b[0m",
            "\u001b[0;31mTypeError\u001b[0m: can't multiply sequence by non-int of type 'str'"
          ]
        }
      ]
    },
    {
      "cell_type": "code",
      "metadata": {
        "id": "mtfQZmoWOGQj",
        "colab_type": "code",
        "outputId": "a94ead94-5186-4d8e-ddde-3198923bebf9",
        "colab": {
          "base_uri": "https://localhost:8080/",
          "height": 169
        }
      },
      "source": [
        "a / b"
      ],
      "execution_count": 0,
      "outputs": [
        {
          "output_type": "error",
          "ename": "TypeError",
          "evalue": "ignored",
          "traceback": [
            "\u001b[0;31m---------------------------------------------------------------------------\u001b[0m",
            "\u001b[0;31mTypeError\u001b[0m                                 Traceback (most recent call last)",
            "\u001b[0;32m<ipython-input-21-d8e10abd5ab6>\u001b[0m in \u001b[0;36m<module>\u001b[0;34m()\u001b[0m\n\u001b[0;32m----> 1\u001b[0;31m \u001b[0ma\u001b[0m \u001b[0;34m/\u001b[0m \u001b[0mb\u001b[0m\u001b[0;34m\u001b[0m\u001b[0;34m\u001b[0m\u001b[0m\n\u001b[0m",
            "\u001b[0;31mTypeError\u001b[0m: unsupported operand type(s) for /: 'str' and 'str'"
          ]
        }
      ]
    },
    {
      "cell_type": "markdown",
      "metadata": {
        "id": "FEUujjHMOHaF",
        "colab_type": "text"
      },
      "source": [
        "### 5-1. 다음과 같은 경우는 어떻게 될까요?"
      ]
    },
    {
      "cell_type": "code",
      "metadata": {
        "id": "4RjDCe4KONdI",
        "colab_type": "code",
        "colab": {}
      },
      "source": [
        "a = '10'\n",
        "b = '20'"
      ],
      "execution_count": 0,
      "outputs": []
    },
    {
      "cell_type": "code",
      "metadata": {
        "id": "uTBZ7-FlORDW",
        "colab_type": "code",
        "outputId": "c148c96a-c993-4727-bd0c-f4f5b02744c2",
        "colab": {
          "base_uri": "https://localhost:8080/",
          "height": 34
        }
      },
      "source": [
        "a + b"
      ],
      "execution_count": 0,
      "outputs": [
        {
          "output_type": "execute_result",
          "data": {
            "text/plain": [
              "'1020'"
            ]
          },
          "metadata": {
            "tags": []
          },
          "execution_count": 27
        }
      ]
    }
  ]
}