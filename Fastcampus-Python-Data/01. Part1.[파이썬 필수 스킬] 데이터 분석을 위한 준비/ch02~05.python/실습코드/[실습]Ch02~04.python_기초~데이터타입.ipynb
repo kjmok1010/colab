{
  "nbformat": 4,
  "nbformat_minor": 0,
  "metadata": {
    "colab": {
      "name": "ch02-part01-python 데이터, 자료구조-실습",
      "provenance": [],
      "collapsed_sections": []
    },
    "kernelspec": {
      "name": "python3",
      "display_name": "Python 3"
    }
  },
  "cells": [
    {
      "cell_type": "markdown",
      "metadata": {
        "id": "MQPNVXk1GFug",
        "colab_type": "text"
      },
      "source": [
        "## 1. 출력"
      ]
    },
    {
      "cell_type": "code",
      "metadata": {
        "id": "AeoAHPcnGBxc",
        "colab_type": "code",
        "outputId": "449a1b99-01be-430f-847b-614c97584d53",
        "colab": {
          "base_uri": "https://localhost:8080/",
          "height": 34
        }
      },
      "source": [
        "# 코드를 입력하세요\n"
      ],
      "execution_count": 0,
      "outputs": [
        {
          "output_type": "stream",
          "text": [
            "안녕하세요\n"
          ],
          "name": "stdout"
        }
      ]
    },
    {
      "cell_type": "code",
      "metadata": {
        "id": "yk2TXq1XkKav",
        "colab_type": "code",
        "outputId": "e29f80f7-83a1-444f-f854-5343eab80fe2",
        "colab": {
          "base_uri": "https://localhost:8080/",
          "height": 34
        }
      },
      "source": [
        "# 코드를 입력하세요\n"
      ],
      "execution_count": 0,
      "outputs": [
        {
          "output_type": "stream",
          "text": [
            "1\n"
          ],
          "name": "stdout"
        }
      ]
    },
    {
      "cell_type": "markdown",
      "metadata": {
        "id": "eI4niQ4OS5Jq",
        "colab_type": "text"
      },
      "source": [
        "셀의 맨 마지막을 항상 출력합니다"
      ]
    },
    {
      "cell_type": "code",
      "metadata": {
        "id": "sOp5HjLClF0u",
        "colab_type": "code",
        "outputId": "70f57771-fab0-4cec-ff8e-4ff0489f3c86",
        "colab": {
          "base_uri": "https://localhost:8080/",
          "height": 34
        }
      },
      "source": [
        "# 코드를 입력하세요\n"
      ],
      "execution_count": 0,
      "outputs": [
        {
          "output_type": "execute_result",
          "data": {
            "text/plain": [
              "'안녕하세요'"
            ]
          },
          "metadata": {
            "tags": []
          },
          "execution_count": 5
        }
      ]
    },
    {
      "cell_type": "code",
      "metadata": {
        "id": "HLpTIS3lS0uk",
        "colab_type": "code",
        "outputId": "1fcd0553-3a34-40cd-97cc-236175c77574",
        "colab": {
          "base_uri": "https://localhost:8080/",
          "height": 34
        }
      },
      "source": [
        "# 코드를 입력하세요\n"
      ],
      "execution_count": 0,
      "outputs": [
        {
          "output_type": "execute_result",
          "data": {
            "text/plain": [
              "'반갑습니다'"
            ]
          },
          "metadata": {
            "tags": []
          },
          "execution_count": 6
        }
      ]
    },
    {
      "cell_type": "markdown",
      "metadata": {
        "id": "zxAqApCSTBek",
        "colab_type": "text"
      },
      "source": [
        "print 구문을 붙혀 주면 중간에서도 출력합니다."
      ]
    },
    {
      "cell_type": "code",
      "metadata": {
        "id": "0vDRiNNlTBrB",
        "colab_type": "code",
        "outputId": "3e5815c9-4d82-417a-d872-4ebadde0e50f",
        "colab": {
          "base_uri": "https://localhost:8080/",
          "height": 52
        }
      },
      "source": [
        "# 코드를 입력하세요\n"
      ],
      "execution_count": 0,
      "outputs": [
        {
          "output_type": "stream",
          "text": [
            "안녕하세요\n"
          ],
          "name": "stdout"
        },
        {
          "output_type": "execute_result",
          "data": {
            "text/plain": [
              "'다음에 또 봐요'"
            ]
          },
          "metadata": {
            "tags": []
          },
          "execution_count": 7
        }
      ]
    },
    {
      "cell_type": "markdown",
      "metadata": {
        "id": "DhRp7joQQWjC",
        "colab_type": "text"
      },
      "source": [
        "## 2. 변수와 대입"
      ]
    },
    {
      "cell_type": "markdown",
      "metadata": {
        "id": "jYy2_H0LTTV1",
        "colab_type": "text"
      },
      "source": [
        "변수는 **데이터를 담는 그릇**이라고 생각하시면 됩니다.\n",
        "\n",
        "변수라는 그릇에 정수를 담을 수도 있고, 긴 글을 담을 수도 있고, file을 담을 수도 있습니다. 우리가 재사용 하기 쉽게 **별명**을 지정해 줬다라고 쉽게 생각하시기 바랍니다.\n"
      ]
    },
    {
      "cell_type": "markdown",
      "metadata": {
        "id": "pXEzU0KYQlFq",
        "colab_type": "text"
      },
      "source": [
        "### 2-1. 변수의 이름"
      ]
    },
    {
      "cell_type": "markdown",
      "metadata": {
        "id": "bOx6AZblQ7N5",
        "colab_type": "text"
      },
      "source": [
        "case 1. 알파벳 (가능) / 대소문자 모두 가능 /심지어 **한글도 가능하나 사용하는 것은 비추**!"
      ]
    },
    {
      "cell_type": "code",
      "metadata": {
        "id": "TIK6Qp5RQ6-k",
        "colab_type": "code",
        "colab": {}
      },
      "source": [
        "a = 1"
      ],
      "execution_count": 0,
      "outputs": []
    },
    {
      "cell_type": "code",
      "metadata": {
        "id": "Wxpjs5SbSFdV",
        "colab_type": "code",
        "colab": {}
      },
      "source": [
        "A = 1"
      ],
      "execution_count": 0,
      "outputs": []
    },
    {
      "cell_type": "code",
      "metadata": {
        "id": "Pri05QNBSHD_",
        "colab_type": "code",
        "colab": {}
      },
      "source": [
        "변수 = 1"
      ],
      "execution_count": 0,
      "outputs": []
    },
    {
      "cell_type": "code",
      "metadata": {
        "id": "FKfXqeQoSIXU",
        "colab_type": "code",
        "outputId": "e0101af9-2044-4159-fefc-dcf4073fd69a",
        "colab": {
          "base_uri": "https://localhost:8080/",
          "height": 34
        }
      },
      "source": [
        "변수"
      ],
      "execution_count": 0,
      "outputs": [
        {
          "output_type": "execute_result",
          "data": {
            "text/plain": [
              "1"
            ]
          },
          "metadata": {
            "tags": []
          },
          "execution_count": 11
        }
      ]
    },
    {
      "cell_type": "markdown",
      "metadata": {
        "id": "nEyz3D-8Quh5",
        "colab_type": "text"
      },
      "source": [
        "case 2. 알파벳 + 숫자 (가능)"
      ]
    },
    {
      "cell_type": "code",
      "metadata": {
        "id": "XJZFGL3oQk87",
        "colab_type": "code",
        "colab": {}
      },
      "source": [
        "a1 = 1"
      ],
      "execution_count": 0,
      "outputs": []
    },
    {
      "cell_type": "markdown",
      "metadata": {
        "id": "DMODcJQnRJQU",
        "colab_type": "text"
      },
      "source": [
        "case 3. 알파벳 + 언더바(_) (가능)"
      ]
    },
    {
      "cell_type": "code",
      "metadata": {
        "id": "iLZ6Bp8PRaay",
        "colab_type": "code",
        "colab": {}
      },
      "source": [
        "a_ = 1"
      ],
      "execution_count": 0,
      "outputs": []
    },
    {
      "cell_type": "markdown",
      "metadata": {
        "id": "yfz1ox-5Rb0I",
        "colab_type": "text"
      },
      "source": [
        "case 4. 언더바(_) + 알파벳 (가능))"
      ]
    },
    {
      "cell_type": "code",
      "metadata": {
        "id": "gXKzcmybRizo",
        "colab_type": "code",
        "colab": {}
      },
      "source": [
        "_a = 1"
      ],
      "execution_count": 0,
      "outputs": []
    },
    {
      "cell_type": "markdown",
      "metadata": {
        "id": "OrfMZBODQkyU",
        "colab_type": "text"
      },
      "source": [
        "case 5. 숫자 + 알파벳 (불가능)"
      ]
    },
    {
      "cell_type": "code",
      "metadata": {
        "id": "Po0D-oA_QWLq",
        "colab_type": "code",
        "outputId": "47659b3c-f6b7-4f45-b059-f59dd8a9c000",
        "colab": {
          "base_uri": "https://localhost:8080/",
          "height": 134
        }
      },
      "source": [
        "1a = 1"
      ],
      "execution_count": 0,
      "outputs": [
        {
          "output_type": "error",
          "ename": "SyntaxError",
          "evalue": "ignored",
          "traceback": [
            "\u001b[0;36m  File \u001b[0;32m\"<ipython-input-16-cc67e5ecf289>\"\u001b[0;36m, line \u001b[0;32m1\u001b[0m\n\u001b[0;31m    1a = 1\u001b[0m\n\u001b[0m     ^\u001b[0m\n\u001b[0;31mSyntaxError\u001b[0m\u001b[0;31m:\u001b[0m invalid syntax\n"
          ]
        }
      ]
    },
    {
      "cell_type": "markdown",
      "metadata": {
        "id": "cVC_51UAQ4_E",
        "colab_type": "text"
      },
      "source": [
        "case 6. 특수문자 (불가능)"
      ]
    },
    {
      "cell_type": "code",
      "metadata": {
        "id": "1R5QFrVcRsip",
        "colab_type": "code",
        "outputId": "6ad3f6ed-b709-43f9-af36-d70d0f00a882",
        "colab": {
          "base_uri": "https://localhost:8080/",
          "height": 134
        }
      },
      "source": [
        "* = 7"
      ],
      "execution_count": 0,
      "outputs": [
        {
          "output_type": "error",
          "ename": "SyntaxError",
          "evalue": "ignored",
          "traceback": [
            "\u001b[0;36m  File \u001b[0;32m\"<ipython-input-17-e21efa324dba>\"\u001b[0;36m, line \u001b[0;32m1\u001b[0m\n\u001b[0;31m    * = 7\u001b[0m\n\u001b[0m      ^\u001b[0m\n\u001b[0;31mSyntaxError\u001b[0m\u001b[0;31m:\u001b[0m invalid syntax\n"
          ]
        }
      ]
    },
    {
      "cell_type": "markdown",
      "metadata": {
        "id": "DApK72LyRuWk",
        "colab_type": "text"
      },
      "source": [
        "case 7. 언더바를 제외한 특수문자 (불가능)"
      ]
    },
    {
      "cell_type": "code",
      "metadata": {
        "id": "ib-k4vjZRuKR",
        "colab_type": "code",
        "outputId": "29d292da-7468-4884-fb79-da9123eb5928",
        "colab": {
          "base_uri": "https://localhost:8080/",
          "height": 134
        }
      },
      "source": [
        "a$ = 6"
      ],
      "execution_count": 0,
      "outputs": [
        {
          "output_type": "error",
          "ename": "SyntaxError",
          "evalue": "ignored",
          "traceback": [
            "\u001b[0;36m  File \u001b[0;32m\"<ipython-input-19-7b68e0211941>\"\u001b[0;36m, line \u001b[0;32m1\u001b[0m\n\u001b[0;31m    a$ = 6\u001b[0m\n\u001b[0m     ^\u001b[0m\n\u001b[0;31mSyntaxError\u001b[0m\u001b[0;31m:\u001b[0m invalid syntax\n"
          ]
        }
      ]
    },
    {
      "cell_type": "markdown",
      "metadata": {
        "id": "C4N7rPjenZfj",
        "colab_type": "text"
      },
      "source": [
        "case 8. 변수의 이름 사이의 공백 (불가능)"
      ]
    },
    {
      "cell_type": "code",
      "metadata": {
        "id": "t0noa6EOngJc",
        "colab_type": "code",
        "outputId": "e294ccd3-c6e2-4424-e0cd-88d9c1d6dd59",
        "colab": {
          "base_uri": "https://localhost:8080/",
          "height": 134
        }
      },
      "source": [
        "a b = 6"
      ],
      "execution_count": 0,
      "outputs": [
        {
          "output_type": "error",
          "ename": "SyntaxError",
          "evalue": "ignored",
          "traceback": [
            "\u001b[0;36m  File \u001b[0;32m\"<ipython-input-20-38dc6d48d57b>\"\u001b[0;36m, line \u001b[0;32m1\u001b[0m\n\u001b[0;31m    a b = 6\u001b[0m\n\u001b[0m      ^\u001b[0m\n\u001b[0;31mSyntaxError\u001b[0m\u001b[0;31m:\u001b[0m invalid syntax\n"
          ]
        }
      ]
    },
    {
      "cell_type": "markdown",
      "metadata": {
        "id": "Zi16utkrSWUB",
        "colab_type": "text"
      },
      "source": [
        "주로 변수는 **소문자 알파벳으로 생성**하고, 필요시 **언더바**나 **숫자를 붙히는 방식**이 일반적입니다."
      ]
    },
    {
      "cell_type": "code",
      "metadata": {
        "id": "7um-fqf7R7gl",
        "colab_type": "code",
        "colab": {}
      },
      "source": [
        "test = 10"
      ],
      "execution_count": 0,
      "outputs": []
    },
    {
      "cell_type": "code",
      "metadata": {
        "id": "niBpyRtkSmIq",
        "colab_type": "code",
        "colab": {}
      },
      "source": [
        "test01 = 20"
      ],
      "execution_count": 0,
      "outputs": []
    },
    {
      "cell_type": "code",
      "metadata": {
        "id": "01krOD1tSprV",
        "colab_type": "code",
        "colab": {}
      },
      "source": [
        "test_01 = 30"
      ],
      "execution_count": 0,
      "outputs": []
    },
    {
      "cell_type": "markdown",
      "metadata": {
        "id": "duU9a-x5nl2k",
        "colab_type": "text"
      },
      "source": [
        "### 2-2. 변수의 출력"
      ]
    },
    {
      "cell_type": "markdown",
      "metadata": {
        "id": "4vsJdyfOnq50",
        "colab_type": "text"
      },
      "source": [
        "1. print() 구문 사이에 **값을 직접 집어 넣으면**, 바로 **값이 출력**됩니다.\n",
        "2. print() 구문 사이에 **변수 이름**을 집어 넣으면, 그 **값이 출력**이 됩니다."
      ]
    },
    {
      "cell_type": "code",
      "metadata": {
        "id": "Nn1PnFk5nn3v",
        "colab_type": "code",
        "outputId": "698cd8da-24a9-461b-fb79-587748647f88",
        "colab": {
          "base_uri": "https://localhost:8080/",
          "height": 34
        }
      },
      "source": [
        "# 코드를 입력하세요\n"
      ],
      "execution_count": 0,
      "outputs": [
        {
          "output_type": "stream",
          "text": [
            "test\n"
          ],
          "name": "stdout"
        }
      ]
    },
    {
      "cell_type": "code",
      "metadata": {
        "id": "D9sHc-WRnqAm",
        "colab_type": "code",
        "colab": {}
      },
      "source": [
        "a = 123"
      ],
      "execution_count": 0,
      "outputs": []
    },
    {
      "cell_type": "code",
      "metadata": {
        "id": "9dtXPwFhoGn0",
        "colab_type": "code",
        "outputId": "4996c196-feba-4592-af32-50200fdb4b8c",
        "colab": {
          "base_uri": "https://localhost:8080/",
          "height": 34
        }
      },
      "source": [
        "# 코드를 입력하세요\n"
      ],
      "execution_count": 0,
      "outputs": [
        {
          "output_type": "stream",
          "text": [
            "123\n"
          ],
          "name": "stdout"
        }
      ]
    },
    {
      "cell_type": "code",
      "metadata": {
        "id": "gqjwycpjoLFU",
        "colab_type": "code",
        "colab": {}
      },
      "source": [
        "a = '안녕하세요, 반갑습니다'"
      ],
      "execution_count": 0,
      "outputs": []
    },
    {
      "cell_type": "code",
      "metadata": {
        "id": "1Y6yv3IjoLN2",
        "colab_type": "code",
        "outputId": "8c0ca3b7-6021-4be4-eab3-137456c1d0e3",
        "colab": {
          "base_uri": "https://localhost:8080/",
          "height": 34
        }
      },
      "source": [
        "print(a)"
      ],
      "execution_count": 0,
      "outputs": [
        {
          "output_type": "stream",
          "text": [
            "안녕하세요, 반갑습니다\n"
          ],
          "name": "stdout"
        }
      ]
    },
    {
      "cell_type": "markdown",
      "metadata": {
        "id": "e3jWuNkIFf52",
        "colab_type": "text"
      },
      "source": [
        "## 3. 데이터 타입"
      ]
    },
    {
      "cell_type": "markdown",
      "metadata": {
        "id": "XG1zmhr-GLBP",
        "colab_type": "text"
      },
      "source": [
        "**데이터 type**\n",
        "\n",
        "1. int(정수)\n",
        "2. float(실수)\n",
        "3. str(문자열) \n",
        "4. bool(참/거짓)"
      ]
    },
    {
      "cell_type": "markdown",
      "metadata": {
        "id": "QHYQ09XIGg1_",
        "colab_type": "text"
      },
      "source": [
        "### 3-1. int(정수)"
      ]
    },
    {
      "cell_type": "code",
      "metadata": {
        "id": "y1cPV_XxFrkb",
        "colab_type": "code",
        "colab": {}
      },
      "source": [
        "a = 1"
      ],
      "execution_count": 0,
      "outputs": []
    },
    {
      "cell_type": "code",
      "metadata": {
        "id": "At5R-m--FuuR",
        "colab_type": "code",
        "outputId": "8635b059-3cbc-4e9a-fed3-4bbd74746eee",
        "colab": {
          "base_uri": "https://localhost:8080/",
          "height": 34
        }
      },
      "source": [
        "# 코드를 입력하세요\n"
      ],
      "execution_count": 0,
      "outputs": [
        {
          "output_type": "execute_result",
          "data": {
            "text/plain": [
              "int"
            ]
          },
          "metadata": {
            "tags": []
          },
          "execution_count": 30
        }
      ]
    },
    {
      "cell_type": "code",
      "metadata": {
        "id": "LPjP8lXe29pY",
        "colab_type": "code",
        "outputId": "9c551c4a-f3bd-4011-e7e4-ed4646b68a7e",
        "colab": {
          "base_uri": "https://localhost:8080/",
          "height": 34
        }
      },
      "source": [
        "# 코드를 입력하세요\n"
      ],
      "execution_count": 0,
      "outputs": [
        {
          "output_type": "stream",
          "text": [
            "1은 참으로 취급\n"
          ],
          "name": "stdout"
        }
      ]
    },
    {
      "cell_type": "code",
      "metadata": {
        "id": "SzGkwbom3BrH",
        "colab_type": "code",
        "outputId": "fd32b85c-bf8e-437d-ad37-3fc566b8879d",
        "colab": {
          "base_uri": "https://localhost:8080/",
          "height": 34
        }
      },
      "source": [
        "# 코드를 입력하세요\n"
      ],
      "execution_count": 0,
      "outputs": [
        {
          "output_type": "stream",
          "text": [
            "0은 거짓부렁이\n"
          ],
          "name": "stdout"
        }
      ]
    },
    {
      "cell_type": "code",
      "metadata": {
        "id": "bKg4n9yz3DP6",
        "colab_type": "code",
        "outputId": "ff735aaf-f651-4de6-c425-1a572fadae81",
        "colab": {
          "base_uri": "https://localhost:8080/",
          "height": 34
        }
      },
      "source": [
        "# 코드를 입력하세요\n"
      ],
      "execution_count": 0,
      "outputs": [
        {
          "output_type": "stream",
          "text": [
            "123은 참으로 취급\n"
          ],
          "name": "stdout"
        }
      ]
    },
    {
      "cell_type": "markdown",
      "metadata": {
        "id": "qOJu5f5kGjpf",
        "colab_type": "text"
      },
      "source": [
        "### 3-2. float(실수)"
      ]
    },
    {
      "cell_type": "code",
      "metadata": {
        "id": "4N-NaYDdGlTF",
        "colab_type": "code",
        "colab": {}
      },
      "source": [
        "a = 3.14"
      ],
      "execution_count": 0,
      "outputs": []
    },
    {
      "cell_type": "code",
      "metadata": {
        "id": "W-OYC_1zGneM",
        "colab_type": "code",
        "outputId": "a775d287-c612-46ec-c324-c7576a7e3382",
        "colab": {
          "base_uri": "https://localhost:8080/",
          "height": 34
        }
      },
      "source": [
        "# 코드를 입력하세요\n"
      ],
      "execution_count": 0,
      "outputs": [
        {
          "output_type": "execute_result",
          "data": {
            "text/plain": [
              "float"
            ]
          },
          "metadata": {
            "tags": []
          },
          "execution_count": 35
        }
      ]
    },
    {
      "cell_type": "code",
      "metadata": {
        "id": "9wJn_P-roVh9",
        "colab_type": "code",
        "outputId": "87e88913-9597-4e88-e2ee-4660c2b8df90",
        "colab": {
          "base_uri": "https://localhost:8080/",
          "height": 34
        }
      },
      "source": [
        "# 코드를 입력하세요\n"
      ],
      "execution_count": 0,
      "outputs": [
        {
          "output_type": "stream",
          "text": [
            "3.14\n"
          ],
          "name": "stdout"
        }
      ]
    },
    {
      "cell_type": "markdown",
      "metadata": {
        "id": "5sc68iMeGpJO",
        "colab_type": "text"
      },
      "source": [
        "### 3-3. str 혹은 object (문자)"
      ]
    },
    {
      "cell_type": "code",
      "metadata": {
        "id": "cosCc_J0Fv8l",
        "colab_type": "code",
        "colab": {}
      },
      "source": [
        "word = '안녕하세요'"
      ],
      "execution_count": 0,
      "outputs": []
    },
    {
      "cell_type": "code",
      "metadata": {
        "id": "1S7b3MedofHY",
        "colab_type": "code",
        "colab": {}
      },
      "source": [
        "word = \"안녕하세요\""
      ],
      "execution_count": 0,
      "outputs": []
    },
    {
      "cell_type": "code",
      "metadata": {
        "id": "8h_mSzprGr0M",
        "colab_type": "code",
        "outputId": "4d3d373f-0a2b-4894-cf93-e6f2e3897bd5",
        "colab": {
          "base_uri": "https://localhost:8080/",
          "height": 34
        }
      },
      "source": [
        "# 코드를 입력하세요\n"
      ],
      "execution_count": 0,
      "outputs": [
        {
          "output_type": "execute_result",
          "data": {
            "text/plain": [
              "str"
            ]
          },
          "metadata": {
            "tags": []
          },
          "execution_count": 40
        }
      ]
    },
    {
      "cell_type": "code",
      "metadata": {
        "id": "wkeYQZL3F5PS",
        "colab_type": "code",
        "colab": {}
      },
      "source": [
        "word = \"안녕하세요\""
      ],
      "execution_count": 0,
      "outputs": []
    },
    {
      "cell_type": "code",
      "metadata": {
        "id": "QAIcA-SXF7iw",
        "colab_type": "code",
        "outputId": "560cbcd2-f9bc-40cc-d354-63cb19feb5af",
        "colab": {
          "base_uri": "https://localhost:8080/",
          "height": 34
        }
      },
      "source": [
        "# 코드를 입력하세요\n"
      ],
      "execution_count": 0,
      "outputs": [
        {
          "output_type": "execute_result",
          "data": {
            "text/plain": [
              "str"
            ]
          },
          "metadata": {
            "tags": []
          },
          "execution_count": 42
        }
      ]
    },
    {
      "cell_type": "markdown",
      "metadata": {
        "id": "v867uiHyF8nE",
        "colab_type": "text"
      },
      "source": [
        "### 3-4. bool (참/거짓)"
      ]
    },
    {
      "cell_type": "code",
      "metadata": {
        "id": "cj28ZTzLQNrV",
        "colab_type": "code",
        "colab": {}
      },
      "source": [
        "a = False"
      ],
      "execution_count": 0,
      "outputs": []
    },
    {
      "cell_type": "code",
      "metadata": {
        "id": "nJayiV8HQP2S",
        "colab_type": "code",
        "outputId": "79f2e861-c798-43bc-f9f6-4f0333603e0a",
        "colab": {
          "base_uri": "https://localhost:8080/",
          "height": 34
        }
      },
      "source": [
        "# 코드를 입력하세요\n"
      ],
      "execution_count": 0,
      "outputs": [
        {
          "output_type": "stream",
          "text": [
            "False\n"
          ],
          "name": "stdout"
        }
      ]
    },
    {
      "cell_type": "code",
      "metadata": {
        "id": "-liXhXbSQQUj",
        "colab_type": "code",
        "outputId": "0e34fc5e-0b67-4f4f-a0ef-98040efbb868",
        "colab": {
          "base_uri": "https://localhost:8080/",
          "height": 34
        }
      },
      "source": [
        "0 == False"
      ],
      "execution_count": 0,
      "outputs": [
        {
          "output_type": "execute_result",
          "data": {
            "text/plain": [
              "True"
            ]
          },
          "metadata": {
            "tags": []
          },
          "execution_count": 54
        }
      ]
    },
    {
      "cell_type": "markdown",
      "metadata": {
        "id": "oBWsyhdR2Mc5",
        "colab_type": "text"
      },
      "source": [
        "### 3-5 아무것도 아닌 None 타입도 있습니다."
      ]
    },
    {
      "cell_type": "markdown",
      "metadata": {
        "id": "G0DtMj4R2Vte",
        "colab_type": "text"
      },
      "source": [
        "말 그래도 아무 것도 아닌 흔히 Null 값을 넣는다고도 합니다.\n",
        "\n",
        "사전상 의미는<br>\n",
        "* **Null: Nullify (무효화하다)**\n",
        "라는 뜻을 가지고 있다네요~\n",
        "\n",
        "python에서는 **None** 입니다!"
      ]
    },
    {
      "cell_type": "code",
      "metadata": {
        "id": "rFrHjjC22MMA",
        "colab_type": "code",
        "colab": {}
      },
      "source": [
        "a = None"
      ],
      "execution_count": 0,
      "outputs": []
    },
    {
      "cell_type": "code",
      "metadata": {
        "id": "ABzXxy-EpVll",
        "colab_type": "code",
        "outputId": "a27ed330-0d29-4430-98a2-4df5ab138090",
        "colab": {
          "base_uri": "https://localhost:8080/",
          "height": 34
        }
      },
      "source": [
        "# 코드를 입력하세요\n"
      ],
      "execution_count": 0,
      "outputs": [
        {
          "output_type": "execute_result",
          "data": {
            "text/plain": [
              "NoneType"
            ]
          },
          "metadata": {
            "tags": []
          },
          "execution_count": 57
        }
      ]
    },
    {
      "cell_type": "code",
      "metadata": {
        "id": "PpO_s24z2R5u",
        "colab_type": "code",
        "outputId": "cbd5dff1-36b8-4285-95f9-f03e9f0c90db",
        "colab": {
          "base_uri": "https://localhost:8080/",
          "height": 34
        }
      },
      "source": [
        "# 코드를 입력하세요\n"
      ],
      "execution_count": 0,
      "outputs": [
        {
          "output_type": "stream",
          "text": [
            "None\n"
          ],
          "name": "stdout"
        }
      ]
    },
    {
      "cell_type": "markdown",
      "metadata": {
        "id": "gf4OoaUF2wvK",
        "colab_type": "text"
      },
      "source": [
        "조건문에 None이라면??"
      ]
    },
    {
      "cell_type": "code",
      "metadata": {
        "id": "P1ivS-O_2v9C",
        "colab_type": "code",
        "outputId": "bcdabd83-cce2-4d8b-c2e4-0575b6b66f8a",
        "colab": {
          "base_uri": "https://localhost:8080/",
          "height": 34
        }
      },
      "source": [
        "# 코드를 입력하세요\n"
      ],
      "execution_count": 0,
      "outputs": [
        {
          "output_type": "stream",
          "text": [
            "None은 거짓부렁이\n"
          ],
          "name": "stdout"
        }
      ]
    },
    {
      "cell_type": "markdown",
      "metadata": {
        "id": "KgAFjs7iUREl",
        "colab_type": "text"
      },
      "source": [
        "## 4. 데이터 타입 (집합)"
      ]
    },
    {
      "cell_type": "markdown",
      "metadata": {
        "id": "Efu2Vqm7URLR",
        "colab_type": "text"
      },
      "source": [
        "**집합 형태의 데이터 타입**\n",
        "\n",
        "1. list (순서 O, 집합)\n",
        "2. tuple (순서 O, 읽기 전용 집합)\n",
        "3. set (순서 X, 중복X 집합)\n",
        "4. dict (key, value로 이루어진 사전형 집합)"
      ]
    },
    {
      "cell_type": "markdown",
      "metadata": {
        "id": "d610lQinUwSN",
        "colab_type": "text"
      },
      "source": [
        "### 4-1. list (순서가 있는 집합)"
      ]
    },
    {
      "cell_type": "markdown",
      "metadata": {
        "id": "g-HX7XnQU5zN",
        "colab_type": "text"
      },
      "source": [
        "[] 형태로 표현합니다."
      ]
    },
    {
      "cell_type": "code",
      "metadata": {
        "id": "xSAez-0xU_sg",
        "colab_type": "code",
        "colab": {}
      },
      "source": [
        "mylist = []"
      ],
      "execution_count": 0,
      "outputs": []
    },
    {
      "cell_type": "code",
      "metadata": {
        "id": "O17Nau-hVBW3",
        "colab_type": "code",
        "outputId": "ab4af6a5-be46-4189-a7ab-1995ed5f36b6",
        "colab": {
          "base_uri": "https://localhost:8080/",
          "height": 34
        }
      },
      "source": [
        "mylist"
      ],
      "execution_count": 0,
      "outputs": [
        {
          "output_type": "execute_result",
          "data": {
            "text/plain": [
              "[]"
            ]
          },
          "metadata": {
            "tags": []
          },
          "execution_count": 60
        }
      ]
    },
    {
      "cell_type": "code",
      "metadata": {
        "id": "G7Z_0FsuVDGT",
        "colab_type": "code",
        "outputId": "20b7813d-98d3-458c-ccb9-61ab051d3e59",
        "colab": {
          "base_uri": "https://localhost:8080/",
          "height": 34
        }
      },
      "source": [
        "# 코드를 입력하세요\n"
      ],
      "execution_count": 0,
      "outputs": [
        {
          "output_type": "execute_result",
          "data": {
            "text/plain": [
              "list"
            ]
          },
          "metadata": {
            "tags": []
          },
          "execution_count": 61
        }
      ]
    },
    {
      "cell_type": "code",
      "metadata": {
        "id": "IVS7djx4U0KS",
        "colab_type": "code",
        "colab": {}
      },
      "source": [
        "mylist = [1, 3, 2, 4, 5]"
      ],
      "execution_count": 0,
      "outputs": []
    },
    {
      "cell_type": "code",
      "metadata": {
        "id": "SZlFHpFaU3sg",
        "colab_type": "code",
        "outputId": "fea69ba2-c2af-44b9-9100-fd9cf7b54e43",
        "colab": {
          "base_uri": "https://localhost:8080/",
          "height": 34
        }
      },
      "source": [
        "# 코드를 입력하세요\n"
      ],
      "execution_count": 0,
      "outputs": [
        {
          "output_type": "execute_result",
          "data": {
            "text/plain": [
              "[1, 3, 2, 4, 5]"
            ]
          },
          "metadata": {
            "tags": []
          },
          "execution_count": 65
        }
      ]
    },
    {
      "cell_type": "markdown",
      "metadata": {
        "id": "JSh4BXzRWUY_",
        "colab_type": "text"
      },
      "source": [
        "#### 값을 추가하기"
      ]
    },
    {
      "cell_type": "code",
      "metadata": {
        "id": "YeP2EYj8U4Ms",
        "colab_type": "code",
        "colab": {}
      },
      "source": [
        "mylist = []"
      ],
      "execution_count": 0,
      "outputs": []
    },
    {
      "cell_type": "code",
      "metadata": {
        "id": "ilJWB7H8qjNa",
        "colab_type": "code",
        "outputId": "13a70cd7-8b63-4ae0-f0d7-602581f59a60",
        "colab": {
          "base_uri": "https://localhost:8080/",
          "height": 34
        }
      },
      "source": [
        "mylist"
      ],
      "execution_count": 0,
      "outputs": [
        {
          "output_type": "execute_result",
          "data": {
            "text/plain": [
              "[]"
            ]
          },
          "metadata": {
            "tags": []
          },
          "execution_count": 68
        }
      ]
    },
    {
      "cell_type": "code",
      "metadata": {
        "id": "AYHFOiG2VJEQ",
        "colab_type": "code",
        "colab": {}
      },
      "source": [
        "# 코드를 입력하세요\n"
      ],
      "execution_count": 0,
      "outputs": []
    },
    {
      "cell_type": "code",
      "metadata": {
        "id": "LBBwfWxRVK6E",
        "colab_type": "code",
        "outputId": "fc548cbf-7f6b-458c-deb1-e1612b400eb4",
        "colab": {
          "base_uri": "https://localhost:8080/",
          "height": 34
        }
      },
      "source": [
        "mylist"
      ],
      "execution_count": 0,
      "outputs": [
        {
          "output_type": "execute_result",
          "data": {
            "text/plain": [
              "[1]"
            ]
          },
          "metadata": {
            "tags": []
          },
          "execution_count": 70
        }
      ]
    },
    {
      "cell_type": "code",
      "metadata": {
        "id": "c1nS9xs8VLYo",
        "colab_type": "code",
        "colab": {}
      },
      "source": [
        "# 코드를 입력하세요\n"
      ],
      "execution_count": 0,
      "outputs": []
    },
    {
      "cell_type": "code",
      "metadata": {
        "id": "OJG-lnc-VN_W",
        "colab_type": "code",
        "outputId": "dcef614f-3adb-46e5-bdb2-fa7c41868a05",
        "colab": {
          "base_uri": "https://localhost:8080/",
          "height": 34
        }
      },
      "source": [
        "mylist"
      ],
      "execution_count": 0,
      "outputs": [
        {
          "output_type": "execute_result",
          "data": {
            "text/plain": [
              "[1, 2, 3]"
            ]
          },
          "metadata": {
            "tags": []
          },
          "execution_count": 72
        }
      ]
    },
    {
      "cell_type": "markdown",
      "metadata": {
        "id": "mwaKcYsRWatD",
        "colab_type": "text"
      },
      "source": [
        "#### 값을 제거하기"
      ]
    },
    {
      "cell_type": "code",
      "metadata": {
        "id": "ZjRQXZAHWccX",
        "colab_type": "code",
        "outputId": "3a989c5c-3ba7-4513-bdeb-910c2f3ffa0e",
        "colab": {
          "base_uri": "https://localhost:8080/",
          "height": 34
        }
      },
      "source": [
        "mylist"
      ],
      "execution_count": 0,
      "outputs": [
        {
          "output_type": "execute_result",
          "data": {
            "text/plain": [
              "[1, 2, 3]"
            ]
          },
          "metadata": {
            "tags": []
          },
          "execution_count": 73
        }
      ]
    },
    {
      "cell_type": "code",
      "metadata": {
        "id": "ftFR8PsbVOx0",
        "colab_type": "code",
        "colab": {}
      },
      "source": [
        "# 코드를 입력하세요\n"
      ],
      "execution_count": 0,
      "outputs": []
    },
    {
      "cell_type": "code",
      "metadata": {
        "id": "ezdTLXnmVQ-E",
        "colab_type": "code",
        "outputId": "b67eeca5-4efa-4346-b19c-58b9aae68674",
        "colab": {
          "base_uri": "https://localhost:8080/",
          "height": 34
        }
      },
      "source": [
        "mylist"
      ],
      "execution_count": 0,
      "outputs": [
        {
          "output_type": "execute_result",
          "data": {
            "text/plain": [
              "[2, 3]"
            ]
          },
          "metadata": {
            "tags": []
          },
          "execution_count": 75
        }
      ]
    },
    {
      "cell_type": "code",
      "metadata": {
        "id": "TsBOX9IHVRgU",
        "colab_type": "code",
        "outputId": "0d01dcf0-395b-4d56-ffa8-8b26365bc859",
        "colab": {
          "base_uri": "https://localhost:8080/",
          "height": 169
        }
      },
      "source": [
        "mylist.remove(1)"
      ],
      "execution_count": 0,
      "outputs": [
        {
          "output_type": "error",
          "ename": "ValueError",
          "evalue": "ignored",
          "traceback": [
            "\u001b[0;31m---------------------------------------------------------------------------\u001b[0m",
            "\u001b[0;31mValueError\u001b[0m                                Traceback (most recent call last)",
            "\u001b[0;32m<ipython-input-76-c90a6cab05e0>\u001b[0m in \u001b[0;36m<module>\u001b[0;34m()\u001b[0m\n\u001b[0;32m----> 1\u001b[0;31m \u001b[0mmylist\u001b[0m\u001b[0;34m.\u001b[0m\u001b[0mremove\u001b[0m\u001b[0;34m(\u001b[0m\u001b[0;36m1\u001b[0m\u001b[0;34m)\u001b[0m\u001b[0;34m\u001b[0m\u001b[0;34m\u001b[0m\u001b[0m\n\u001b[0m",
            "\u001b[0;31mValueError\u001b[0m: list.remove(x): x not in list"
          ]
        }
      ]
    },
    {
      "cell_type": "markdown",
      "metadata": {
        "id": "Qn2cU-K6WhZ4",
        "colab_type": "text"
      },
      "source": [
        "#### 여러 값들이 포함되어 있을 때 제거 순서"
      ]
    },
    {
      "cell_type": "code",
      "metadata": {
        "id": "KDPL_b6UVnoE",
        "colab_type": "code",
        "colab": {}
      },
      "source": [
        "mylist = []\n",
        "mylist.append(1)\n",
        "mylist.append(2)\n",
        "mylist.append(3)\n",
        "mylist.append(1)\n",
        "mylist.append(2)\n",
        "mylist.append(3)"
      ],
      "execution_count": 0,
      "outputs": []
    },
    {
      "cell_type": "code",
      "metadata": {
        "id": "wHhj44g2V0oq",
        "colab_type": "code",
        "outputId": "b6571ad5-9217-4320-b384-44a6522ca5a5",
        "colab": {
          "base_uri": "https://localhost:8080/",
          "height": 34
        }
      },
      "source": [
        "mylist"
      ],
      "execution_count": 0,
      "outputs": [
        {
          "output_type": "execute_result",
          "data": {
            "text/plain": [
              "[1, 2, 3, 1, 2, 3]"
            ]
          },
          "metadata": {
            "tags": []
          },
          "execution_count": 78
        }
      ]
    },
    {
      "cell_type": "code",
      "metadata": {
        "id": "dCXy8fecV1Ki",
        "colab_type": "code",
        "colab": {}
      },
      "source": [
        "# 코드를 입력하세요\n"
      ],
      "execution_count": 0,
      "outputs": []
    },
    {
      "cell_type": "code",
      "metadata": {
        "id": "sY20CamuV3bp",
        "colab_type": "code",
        "outputId": "36a0b25d-6693-45d2-ec24-5edd52dfc0ef",
        "colab": {
          "base_uri": "https://localhost:8080/",
          "height": 34
        }
      },
      "source": [
        "mylist"
      ],
      "execution_count": 0,
      "outputs": [
        {
          "output_type": "execute_result",
          "data": {
            "text/plain": [
              "[2, 3, 1, 2, 3]"
            ]
          },
          "metadata": {
            "tags": []
          },
          "execution_count": 81
        }
      ]
    },
    {
      "cell_type": "code",
      "metadata": {
        "id": "6RDuQGxuV4Bk",
        "colab_type": "code",
        "colab": {}
      },
      "source": [
        "# 코드를 입력하세요\n"
      ],
      "execution_count": 0,
      "outputs": []
    },
    {
      "cell_type": "code",
      "metadata": {
        "id": "04xYdv_dV6M_",
        "colab_type": "code",
        "outputId": "842c00d3-b22f-4c5a-83ea-07ce4a3ccaf5",
        "colab": {
          "base_uri": "https://localhost:8080/",
          "height": 34
        }
      },
      "source": [
        "mylist"
      ],
      "execution_count": 0,
      "outputs": [
        {
          "output_type": "execute_result",
          "data": {
            "text/plain": [
              "[2, 3, 2, 3]"
            ]
          },
          "metadata": {
            "tags": []
          },
          "execution_count": 83
        }
      ]
    },
    {
      "cell_type": "code",
      "metadata": {
        "id": "UYSzqKbSV_PT",
        "colab_type": "code",
        "outputId": "fb722ba8-0a9f-4c2f-91f0-b37ffcf54e87",
        "colab": {
          "base_uri": "https://localhost:8080/",
          "height": 169
        }
      },
      "source": [
        "mylist.remove(1)"
      ],
      "execution_count": 0,
      "outputs": [
        {
          "output_type": "error",
          "ename": "ValueError",
          "evalue": "ignored",
          "traceback": [
            "\u001b[0;31m---------------------------------------------------------------------------\u001b[0m",
            "\u001b[0;31mValueError\u001b[0m                                Traceback (most recent call last)",
            "\u001b[0;32m<ipython-input-84-c90a6cab05e0>\u001b[0m in \u001b[0;36m<module>\u001b[0;34m()\u001b[0m\n\u001b[0;32m----> 1\u001b[0;31m \u001b[0mmylist\u001b[0m\u001b[0;34m.\u001b[0m\u001b[0mremove\u001b[0m\u001b[0;34m(\u001b[0m\u001b[0;36m1\u001b[0m\u001b[0;34m)\u001b[0m\u001b[0;34m\u001b[0m\u001b[0;34m\u001b[0m\u001b[0m\n\u001b[0m",
            "\u001b[0;31mValueError\u001b[0m: list.remove(x): x not in list"
          ]
        }
      ]
    },
    {
      "cell_type": "markdown",
      "metadata": {
        "id": "k0w9nYxPWSNO",
        "colab_type": "text"
      },
      "source": [
        "#### 인덱싱(indexing) -> 색인"
      ]
    },
    {
      "cell_type": "code",
      "metadata": {
        "id": "qY6rAQpWW5Pr",
        "colab_type": "code",
        "colab": {}
      },
      "source": [
        "mylist = [1, 2, 3, 4]"
      ],
      "execution_count": 0,
      "outputs": []
    },
    {
      "cell_type": "markdown",
      "metadata": {
        "id": "l9ad4C1XW9KE",
        "colab_type": "text"
      },
      "source": [
        "인덱스는 **0번 부터 시작** 합니다."
      ]
    },
    {
      "cell_type": "code",
      "metadata": {
        "id": "nxGtMBuUWSXd",
        "colab_type": "code",
        "outputId": "d321e71e-1968-430e-f90e-304b01368e52",
        "colab": {
          "base_uri": "https://localhost:8080/",
          "height": 34
        }
      },
      "source": [
        "# 코드를 입력하세요\n"
      ],
      "execution_count": 0,
      "outputs": [
        {
          "output_type": "execute_result",
          "data": {
            "text/plain": [
              "1"
            ]
          },
          "metadata": {
            "tags": []
          },
          "execution_count": 88
        }
      ]
    },
    {
      "cell_type": "code",
      "metadata": {
        "id": "bQQaTXemXDk-",
        "colab_type": "code",
        "outputId": "1ebe5cf5-558c-4085-d963-aa62964fdfd1",
        "colab": {
          "base_uri": "https://localhost:8080/",
          "height": 34
        }
      },
      "source": [
        "# 코드를 입력하세요\n"
      ],
      "execution_count": 0,
      "outputs": [
        {
          "output_type": "execute_result",
          "data": {
            "text/plain": [
              "4"
            ]
          },
          "metadata": {
            "tags": []
          },
          "execution_count": 89
        }
      ]
    },
    {
      "cell_type": "code",
      "metadata": {
        "id": "GtO0YS9HXDe7",
        "colab_type": "code",
        "outputId": "57075983-eb28-4ed0-a87c-2c9fcaddaa87",
        "colab": {
          "base_uri": "https://localhost:8080/",
          "height": 169
        }
      },
      "source": [
        "mylist[4]"
      ],
      "execution_count": 0,
      "outputs": [
        {
          "output_type": "error",
          "ename": "IndexError",
          "evalue": "ignored",
          "traceback": [
            "\u001b[0;31m---------------------------------------------------------------------------\u001b[0m",
            "\u001b[0;31mIndexError\u001b[0m                                Traceback (most recent call last)",
            "\u001b[0;32m<ipython-input-90-88b11041aa4f>\u001b[0m in \u001b[0;36m<module>\u001b[0;34m()\u001b[0m\n\u001b[0;32m----> 1\u001b[0;31m \u001b[0mmylist\u001b[0m\u001b[0;34m[\u001b[0m\u001b[0;36m4\u001b[0m\u001b[0;34m]\u001b[0m\u001b[0;34m\u001b[0m\u001b[0;34m\u001b[0m\u001b[0m\n\u001b[0m",
            "\u001b[0;31mIndexError\u001b[0m: list index out of range"
          ]
        }
      ]
    },
    {
      "cell_type": "code",
      "metadata": {
        "id": "dvsC2y9hXDYq",
        "colab_type": "code",
        "outputId": "b7de9527-fee5-4f5b-dacf-e4d8cbf3f6b7",
        "colab": {
          "base_uri": "https://localhost:8080/",
          "height": 169
        }
      },
      "source": [
        "mylist[-5]"
      ],
      "execution_count": 0,
      "outputs": [
        {
          "output_type": "error",
          "ename": "IndexError",
          "evalue": "ignored",
          "traceback": [
            "\u001b[0;31m---------------------------------------------------------------------------\u001b[0m",
            "\u001b[0;31mIndexError\u001b[0m                                Traceback (most recent call last)",
            "\u001b[0;32m<ipython-input-93-7f152f66d2d3>\u001b[0m in \u001b[0;36m<module>\u001b[0;34m()\u001b[0m\n\u001b[0;32m----> 1\u001b[0;31m \u001b[0mmylist\u001b[0m\u001b[0;34m[\u001b[0m\u001b[0;34m-\u001b[0m\u001b[0;36m5\u001b[0m\u001b[0;34m]\u001b[0m\u001b[0;34m\u001b[0m\u001b[0;34m\u001b[0m\u001b[0m\n\u001b[0m",
            "\u001b[0;31mIndexError\u001b[0m: list index out of range"
          ]
        }
      ]
    },
    {
      "cell_type": "markdown",
      "metadata": {
        "id": "TZEqteGEXtJZ",
        "colab_type": "text"
      },
      "source": [
        "#### 인덱스로 접근하여 값 바꾸기"
      ]
    },
    {
      "cell_type": "code",
      "metadata": {
        "id": "WndBOK7DXwqk",
        "colab_type": "code",
        "outputId": "ff61d6de-fb3d-4f37-8420-33445c3707b6",
        "colab": {
          "base_uri": "https://localhost:8080/",
          "height": 34
        }
      },
      "source": [
        "mylist"
      ],
      "execution_count": 0,
      "outputs": [
        {
          "output_type": "execute_result",
          "data": {
            "text/plain": [
              "[1, 2, 3, 4]"
            ]
          },
          "metadata": {
            "tags": []
          },
          "execution_count": 94
        }
      ]
    },
    {
      "cell_type": "code",
      "metadata": {
        "id": "qVZF6qydXyQa",
        "colab_type": "code",
        "outputId": "cf196f55-6acd-44ee-be3e-b5d03fe255d1",
        "colab": {
          "base_uri": "https://localhost:8080/",
          "height": 34
        }
      },
      "source": [
        "mylist[0]"
      ],
      "execution_count": 0,
      "outputs": [
        {
          "output_type": "execute_result",
          "data": {
            "text/plain": [
              "1"
            ]
          },
          "metadata": {
            "tags": []
          },
          "execution_count": 95
        }
      ]
    },
    {
      "cell_type": "code",
      "metadata": {
        "id": "0CUByTZgX1yF",
        "colab_type": "code",
        "colab": {}
      },
      "source": [
        "# 코드를 입력하세요\n"
      ],
      "execution_count": 0,
      "outputs": []
    },
    {
      "cell_type": "code",
      "metadata": {
        "id": "p841RzROX4C4",
        "colab_type": "code",
        "outputId": "b05921f4-c377-408a-b7f7-6a3b06030171",
        "colab": {
          "base_uri": "https://localhost:8080/",
          "height": 34
        }
      },
      "source": [
        "mylist"
      ],
      "execution_count": 0,
      "outputs": [
        {
          "output_type": "execute_result",
          "data": {
            "text/plain": [
              "[100, 2, 3, 4]"
            ]
          },
          "metadata": {
            "tags": []
          },
          "execution_count": 97
        }
      ]
    },
    {
      "cell_type": "markdown",
      "metadata": {
        "id": "Fi8gFt_qXY5-",
        "colab_type": "text"
      },
      "source": [
        "#### 전체 길이 (사이즈) 알아내기"
      ]
    },
    {
      "cell_type": "code",
      "metadata": {
        "id": "-qvBVgmHXeea",
        "colab_type": "code",
        "outputId": "0212a7e9-d0ff-4451-ee73-16b048d4f693",
        "colab": {
          "base_uri": "https://localhost:8080/",
          "height": 34
        }
      },
      "source": [
        "# 코드를 입력하세요\n"
      ],
      "execution_count": 0,
      "outputs": [
        {
          "output_type": "execute_result",
          "data": {
            "text/plain": [
              "4"
            ]
          },
          "metadata": {
            "tags": []
          },
          "execution_count": 98
        }
      ]
    },
    {
      "cell_type": "markdown",
      "metadata": {
        "id": "6f1LiPaaWA6a",
        "colab_type": "text"
      },
      "source": [
        "### 4-2. tuple (순서가 있는 집합, 읽기 전용)"
      ]
    },
    {
      "cell_type": "markdown",
      "metadata": {
        "id": "lGhnB5pMWK09",
        "colab_type": "text"
      },
      "source": [
        "() 로 표현합니다"
      ]
    },
    {
      "cell_type": "code",
      "metadata": {
        "id": "Lj0AaIGkWMng",
        "colab_type": "code",
        "colab": {}
      },
      "source": [
        "mytuple = (1, 2, 3, 4, 5)"
      ],
      "execution_count": 0,
      "outputs": []
    },
    {
      "cell_type": "code",
      "metadata": {
        "id": "D-MjMwtXWP1j",
        "colab_type": "code",
        "outputId": "4a2a097b-06a2-4cac-8b41-923c5f3a1943",
        "colab": {
          "base_uri": "https://localhost:8080/",
          "height": 169
        }
      },
      "source": [
        "mytuple.append(1)"
      ],
      "execution_count": 0,
      "outputs": [
        {
          "output_type": "error",
          "ename": "AttributeError",
          "evalue": "ignored",
          "traceback": [
            "\u001b[0;31m---------------------------------------------------------------------------\u001b[0m",
            "\u001b[0;31mAttributeError\u001b[0m                            Traceback (most recent call last)",
            "\u001b[0;32m<ipython-input-100-082a7ea72a51>\u001b[0m in \u001b[0;36m<module>\u001b[0;34m()\u001b[0m\n\u001b[0;32m----> 1\u001b[0;31m \u001b[0mmytuple\u001b[0m\u001b[0;34m.\u001b[0m\u001b[0mappend\u001b[0m\u001b[0;34m(\u001b[0m\u001b[0;36m1\u001b[0m\u001b[0;34m)\u001b[0m\u001b[0;34m\u001b[0m\u001b[0;34m\u001b[0m\u001b[0m\n\u001b[0m",
            "\u001b[0;31mAttributeError\u001b[0m: 'tuple' object has no attribute 'append'"
          ]
        }
      ]
    },
    {
      "cell_type": "code",
      "metadata": {
        "id": "_9qsv2Z6XlTi",
        "colab_type": "code",
        "outputId": "331fa736-d074-4fb7-d2ff-f96fb8e0c6fb",
        "colab": {
          "base_uri": "https://localhost:8080/",
          "height": 169
        }
      },
      "source": [
        "mytuple.remove(1)"
      ],
      "execution_count": 0,
      "outputs": [
        {
          "output_type": "error",
          "ename": "AttributeError",
          "evalue": "ignored",
          "traceback": [
            "\u001b[0;31m---------------------------------------------------------------------------\u001b[0m",
            "\u001b[0;31mAttributeError\u001b[0m                            Traceback (most recent call last)",
            "\u001b[0;32m<ipython-input-101-05a40423345b>\u001b[0m in \u001b[0;36m<module>\u001b[0;34m()\u001b[0m\n\u001b[0;32m----> 1\u001b[0;31m \u001b[0mmytuple\u001b[0m\u001b[0;34m.\u001b[0m\u001b[0mremove\u001b[0m\u001b[0;34m(\u001b[0m\u001b[0;36m1\u001b[0m\u001b[0;34m)\u001b[0m\u001b[0;34m\u001b[0m\u001b[0;34m\u001b[0m\u001b[0m\n\u001b[0m",
            "\u001b[0;31mAttributeError\u001b[0m: 'tuple' object has no attribute 'remove'"
          ]
        }
      ]
    },
    {
      "cell_type": "code",
      "metadata": {
        "id": "FR2eRonUXoK2",
        "colab_type": "code",
        "outputId": "62872fa5-dd43-486e-df23-d8df9b16d89d",
        "colab": {
          "base_uri": "https://localhost:8080/",
          "height": 169
        }
      },
      "source": [
        "mytuple[0] = 1"
      ],
      "execution_count": 0,
      "outputs": [
        {
          "output_type": "error",
          "ename": "TypeError",
          "evalue": "ignored",
          "traceback": [
            "\u001b[0;31m---------------------------------------------------------------------------\u001b[0m",
            "\u001b[0;31mTypeError\u001b[0m                                 Traceback (most recent call last)",
            "\u001b[0;32m<ipython-input-102-4cf492702bfd>\u001b[0m in \u001b[0;36m<module>\u001b[0;34m()\u001b[0m\n\u001b[0;32m----> 1\u001b[0;31m \u001b[0mmytuple\u001b[0m\u001b[0;34m[\u001b[0m\u001b[0;36m0\u001b[0m\u001b[0;34m]\u001b[0m \u001b[0;34m=\u001b[0m \u001b[0;36m1\u001b[0m\u001b[0;34m\u001b[0m\u001b[0;34m\u001b[0m\u001b[0m\n\u001b[0m",
            "\u001b[0;31mTypeError\u001b[0m: 'tuple' object does not support item assignment"
          ]
        }
      ]
    },
    {
      "cell_type": "markdown",
      "metadata": {
        "id": "PhwymGjaXqwU",
        "colab_type": "text"
      },
      "source": [
        "#### 길이 파악하기"
      ]
    },
    {
      "cell_type": "code",
      "metadata": {
        "id": "q52SzZNOYIo1",
        "colab_type": "code",
        "outputId": "fa5ec235-98f5-448c-8dca-c60f56a78e62",
        "colab": {
          "base_uri": "https://localhost:8080/",
          "height": 34
        }
      },
      "source": [
        "# 코드를 입력하세요\n"
      ],
      "execution_count": 0,
      "outputs": [
        {
          "output_type": "execute_result",
          "data": {
            "text/plain": [
              "5"
            ]
          },
          "metadata": {
            "tags": []
          },
          "execution_count": 103
        }
      ]
    },
    {
      "cell_type": "code",
      "metadata": {
        "id": "58_4q0YKYJ3K",
        "colab_type": "code",
        "outputId": "7a3e7126-ccce-4dcc-9335-7ca6ad1a69cc",
        "colab": {
          "base_uri": "https://localhost:8080/",
          "height": 34
        }
      },
      "source": [
        "mytuple"
      ],
      "execution_count": 0,
      "outputs": [
        {
          "output_type": "execute_result",
          "data": {
            "text/plain": [
              "(1, 2, 3, 4, 5)"
            ]
          },
          "metadata": {
            "tags": []
          },
          "execution_count": 104
        }
      ]
    },
    {
      "cell_type": "markdown",
      "metadata": {
        "id": "vCdKOsCpZNBi",
        "colab_type": "text"
      },
      "source": [
        "## set (순서 X, 중복 X)"
      ]
    },
    {
      "cell_type": "code",
      "metadata": {
        "id": "jIWM7VJjZMuH",
        "colab_type": "code",
        "colab": {}
      },
      "source": [
        "myset = set()"
      ],
      "execution_count": 0,
      "outputs": []
    },
    {
      "cell_type": "code",
      "metadata": {
        "id": "cBYyzorp0XoK",
        "colab_type": "code",
        "outputId": "fc327bfe-5179-4a3d-e926-51dc21812327",
        "colab": {
          "base_uri": "https://localhost:8080/",
          "height": 34
        }
      },
      "source": [
        "myset"
      ],
      "execution_count": 0,
      "outputs": [
        {
          "output_type": "execute_result",
          "data": {
            "text/plain": [
              "set()"
            ]
          },
          "metadata": {
            "tags": []
          },
          "execution_count": 106
        }
      ]
    },
    {
      "cell_type": "code",
      "metadata": {
        "id": "g7kOegmWZMXo",
        "colab_type": "code",
        "outputId": "3ccdf7b6-2d79-4e05-f7c5-c7c0093d1bdc",
        "colab": {
          "base_uri": "https://localhost:8080/",
          "height": 34
        }
      },
      "source": [
        "# 코드를 입력하세요\n"
      ],
      "execution_count": 0,
      "outputs": [
        {
          "output_type": "execute_result",
          "data": {
            "text/plain": [
              "set"
            ]
          },
          "metadata": {
            "tags": []
          },
          "execution_count": 107
        }
      ]
    },
    {
      "cell_type": "code",
      "metadata": {
        "id": "9hiHrECzZUQH",
        "colab_type": "code",
        "colab": {}
      },
      "source": [
        "# 코드를 입력하세요\n"
      ],
      "execution_count": 0,
      "outputs": []
    },
    {
      "cell_type": "code",
      "metadata": {
        "id": "QNQ7synrZUIf",
        "colab_type": "code",
        "outputId": "cd46f1d9-5bdd-40d6-8a3b-0feb8e97e84f",
        "colab": {
          "base_uri": "https://localhost:8080/",
          "height": 34
        }
      },
      "source": [
        "myset"
      ],
      "execution_count": 0,
      "outputs": [
        {
          "output_type": "execute_result",
          "data": {
            "text/plain": [
              "{1, 2, 3}"
            ]
          },
          "metadata": {
            "tags": []
          },
          "execution_count": 109
        }
      ]
    },
    {
      "cell_type": "code",
      "metadata": {
        "id": "7TXOT5PHZlG-",
        "colab_type": "code",
        "colab": {}
      },
      "source": [
        "myset.add(1)\n",
        "myset.add(2)\n",
        "myset.add(3)\n",
        "myset.add(1)\n",
        "myset.add(2)\n",
        "myset.add(3)"
      ],
      "execution_count": 0,
      "outputs": []
    },
    {
      "cell_type": "code",
      "metadata": {
        "id": "69kuRwVTZlAd",
        "colab_type": "code",
        "outputId": "42762787-44cc-4d04-8cd7-f772ec0e020d",
        "colab": {
          "base_uri": "https://localhost:8080/",
          "height": 34
        }
      },
      "source": [
        "myset"
      ],
      "execution_count": 0,
      "outputs": [
        {
          "output_type": "execute_result",
          "data": {
            "text/plain": [
              "{1, 2, 3}"
            ]
          },
          "metadata": {
            "tags": []
          },
          "execution_count": 111
        }
      ]
    },
    {
      "cell_type": "code",
      "metadata": {
        "id": "o7WiOXmMZu0r",
        "colab_type": "code",
        "colab": {}
      },
      "source": [
        "# 코드를 입력하세요\n"
      ],
      "execution_count": 0,
      "outputs": []
    },
    {
      "cell_type": "code",
      "metadata": {
        "id": "ovA1nLoa0suO",
        "colab_type": "code",
        "outputId": "c810b43d-dd85-49a7-aff4-2c3e774f4a8e",
        "colab": {
          "base_uri": "https://localhost:8080/",
          "height": 34
        }
      },
      "source": [
        "myset"
      ],
      "execution_count": 0,
      "outputs": [
        {
          "output_type": "execute_result",
          "data": {
            "text/plain": [
              "{1, 2, 3, 4}"
            ]
          },
          "metadata": {
            "tags": []
          },
          "execution_count": 113
        }
      ]
    },
    {
      "cell_type": "markdown",
      "metadata": {
        "id": "57vgLEysYLus",
        "colab_type": "text"
      },
      "source": [
        "### 4-3. dict (사전형 집합, key와 value 쌍)"
      ]
    },
    {
      "cell_type": "markdown",
      "metadata": {
        "id": "Y1nD5M8IYUh2",
        "colab_type": "text"
      },
      "source": [
        "{}로 표현합니다"
      ]
    },
    {
      "cell_type": "code",
      "metadata": {
        "id": "R3WbGCJSa-n_",
        "colab_type": "code",
        "colab": {}
      },
      "source": [
        "mydict = dict()"
      ],
      "execution_count": 0,
      "outputs": []
    },
    {
      "cell_type": "code",
      "metadata": {
        "id": "ihPXvBAZ0-v2",
        "colab_type": "code",
        "outputId": "f1c60c6d-41e2-422c-d383-aec8fc50b6cb",
        "colab": {
          "base_uri": "https://localhost:8080/",
          "height": 34
        }
      },
      "source": [
        "mydict"
      ],
      "execution_count": 0,
      "outputs": [
        {
          "output_type": "execute_result",
          "data": {
            "text/plain": [
              "{}"
            ]
          },
          "metadata": {
            "tags": []
          },
          "execution_count": 115
        }
      ]
    },
    {
      "cell_type": "code",
      "metadata": {
        "id": "cUcgXj1aa_Xj",
        "colab_type": "code",
        "outputId": "da10e5d4-68da-4a35-be67-fc35a9c5afb2",
        "colab": {
          "base_uri": "https://localhost:8080/",
          "height": 34
        }
      },
      "source": [
        "# 코드를 입력하세요\n"
      ],
      "execution_count": 0,
      "outputs": [
        {
          "output_type": "execute_result",
          "data": {
            "text/plain": [
              "dict"
            ]
          },
          "metadata": {
            "tags": []
          },
          "execution_count": 116
        }
      ]
    },
    {
      "cell_type": "markdown",
      "metadata": {
        "id": "aciJNcbDZ9mc",
        "colab_type": "text"
      },
      "source": [
        "#### 값을 추가하기"
      ]
    },
    {
      "cell_type": "code",
      "metadata": {
        "id": "D-SAZCUHYWuc",
        "colab_type": "code",
        "colab": {}
      },
      "source": [
        "mydict = dict()"
      ],
      "execution_count": 0,
      "outputs": []
    },
    {
      "cell_type": "code",
      "metadata": {
        "id": "PfON-IIcYZ_e",
        "colab_type": "code",
        "colab": {}
      },
      "source": [
        "# 코드를 입력하세요\n"
      ],
      "execution_count": 0,
      "outputs": []
    },
    {
      "cell_type": "code",
      "metadata": {
        "id": "qj2OiMKaYlVO",
        "colab_type": "code",
        "outputId": "f361b5a5-dc94-4d8e-b4e4-04800f08685c",
        "colab": {
          "base_uri": "https://localhost:8080/",
          "height": 34
        }
      },
      "source": [
        "mydict['apple']"
      ],
      "execution_count": 0,
      "outputs": [
        {
          "output_type": "execute_result",
          "data": {
            "text/plain": [
              "123"
            ]
          },
          "metadata": {
            "tags": []
          },
          "execution_count": 119
        }
      ]
    },
    {
      "cell_type": "code",
      "metadata": {
        "id": "W47eMGTdYfhM",
        "colab_type": "code",
        "colab": {}
      },
      "source": [
        "# 코드를 입력하세요\n"
      ],
      "execution_count": 0,
      "outputs": []
    },
    {
      "cell_type": "code",
      "metadata": {
        "id": "BuCJWnwFYhV2",
        "colab_type": "code",
        "outputId": "525cb76a-c925-4c94-c82d-455ec5a2a379",
        "colab": {
          "base_uri": "https://localhost:8080/",
          "height": 34
        }
      },
      "source": [
        "mydict[0]"
      ],
      "execution_count": 0,
      "outputs": [
        {
          "output_type": "execute_result",
          "data": {
            "text/plain": [
              "2"
            ]
          },
          "metadata": {
            "tags": []
          },
          "execution_count": 121
        }
      ]
    },
    {
      "cell_type": "markdown",
      "metadata": {
        "id": "c2pY_ZcmaNV1",
        "colab_type": "text"
      },
      "source": [
        "mydict의 키는 **문자형** / **숫자형**이 혼용 가능합니다"
      ]
    },
    {
      "cell_type": "code",
      "metadata": {
        "id": "KGR-kooHYisN",
        "colab_type": "code",
        "outputId": "e9e58ee3-e9ec-48cb-d227-0e409acaa75b",
        "colab": {
          "base_uri": "https://localhost:8080/",
          "height": 34
        }
      },
      "source": [
        "mydict"
      ],
      "execution_count": 0,
      "outputs": [
        {
          "output_type": "execute_result",
          "data": {
            "text/plain": [
              "{0: 2, 'apple': 123}"
            ]
          },
          "metadata": {
            "tags": []
          },
          "execution_count": 122
        }
      ]
    },
    {
      "cell_type": "markdown",
      "metadata": {
        "id": "VtHeeb0lacre",
        "colab_type": "text"
      },
      "source": [
        "float(실수)도 키로써 입력이 가능합니다."
      ]
    },
    {
      "cell_type": "code",
      "metadata": {
        "id": "920R7Ni7aWi7",
        "colab_type": "code",
        "colab": {}
      },
      "source": [
        "# 코드를 입력하세요\n"
      ],
      "execution_count": 0,
      "outputs": []
    },
    {
      "cell_type": "code",
      "metadata": {
        "id": "_lsLGLKCaaoe",
        "colab_type": "code",
        "outputId": "7dcb88d3-d708-425c-eee0-af69363bec88",
        "colab": {
          "base_uri": "https://localhost:8080/",
          "height": 34
        }
      },
      "source": [
        "mydict"
      ],
      "execution_count": 0,
      "outputs": [
        {
          "output_type": "execute_result",
          "data": {
            "text/plain": [
              "{0: 2, 3.14: 1, 'apple': 123}"
            ]
          },
          "metadata": {
            "tags": []
          },
          "execution_count": 124
        }
      ]
    },
    {
      "cell_type": "markdown",
      "metadata": {
        "id": "fJvfGTfDYy8V",
        "colab_type": "text"
      },
      "source": [
        "#### 값을 바꾸기"
      ]
    },
    {
      "cell_type": "code",
      "metadata": {
        "id": "6Ho7ZevOYpXW",
        "colab_type": "code",
        "colab": {}
      },
      "source": [
        "# 코드를 입력하세요\n"
      ],
      "execution_count": 0,
      "outputs": []
    },
    {
      "cell_type": "code",
      "metadata": {
        "id": "oG9LcfG4Ywlw",
        "colab_type": "code",
        "outputId": "898fe011-d572-4e1c-9572-7da0b537ea75",
        "colab": {
          "base_uri": "https://localhost:8080/",
          "height": 34
        }
      },
      "source": [
        "mydict"
      ],
      "execution_count": 0,
      "outputs": [
        {
          "output_type": "execute_result",
          "data": {
            "text/plain": [
              "{0: 2, 3.14: 1, 'apple': 'byebye'}"
            ]
          },
          "metadata": {
            "tags": []
          },
          "execution_count": 126
        }
      ]
    },
    {
      "cell_type": "markdown",
      "metadata": {
        "id": "0SEF7gLRY_Ik",
        "colab_type": "text"
      },
      "source": [
        "#### 길이 파악하기"
      ]
    },
    {
      "cell_type": "code",
      "metadata": {
        "id": "YCAsgXFTZCmh",
        "colab_type": "code",
        "outputId": "a7f20029-1d31-4db2-90e9-56e55c79633b",
        "colab": {
          "base_uri": "https://localhost:8080/",
          "height": 34
        }
      },
      "source": [
        "len(mydict)"
      ],
      "execution_count": 0,
      "outputs": [
        {
          "output_type": "execute_result",
          "data": {
            "text/plain": [
              "3"
            ]
          },
          "metadata": {
            "tags": []
          },
          "execution_count": 127
        }
      ]
    }
  ]
}