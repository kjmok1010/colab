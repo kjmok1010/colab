{
  "nbformat": 4,
  "nbformat_minor": 0,
  "metadata": {
    "colab": {
      "name": "ch02-part04-function(함수)-실습",
      "provenance": [],
      "collapsed_sections": []
    },
    "kernelspec": {
      "name": "python3",
      "display_name": "Python 3"
    }
  },
  "cells": [
    {
      "cell_type": "markdown",
      "metadata": {
        "id": "vOM7e6zujAZw",
        "colab_type": "text"
      },
      "source": [
        "## 1. 함수란 무엇일까요?"
      ]
    },
    {
      "cell_type": "markdown",
      "metadata": {
        "id": "ELm3GwkojNgP",
        "colab_type": "text"
      },
      "source": [
        "반복적으로 사용되는 부분을 묶어서, **재사용 가능**하도록 만들어 주는 것"
      ]
    },
    {
      "cell_type": "markdown",
      "metadata": {
        "id": "5-aIf-uqp4pQ",
        "colab_type": "text"
      },
      "source": [
        "함수에는 **들어가는 놈 (input)**이 있고, **나오는 놈 (output 혹은 return)**이 있습니다. 정해진 로직(규칙)에 따라, input -> output으로 효율적으로 바꿔주는 역할을 합니다"
      ]
    },
    {
      "cell_type": "markdown",
      "metadata": {
        "id": "8bwTDOOZjcu1",
        "colab_type": "text"
      },
      "source": [
        "**[예시]**"
      ]
    },
    {
      "cell_type": "code",
      "metadata": {
        "id": "HSBZ_AJCqPh9",
        "colab_type": "code",
        "colab": {}
      },
      "source": [
        "a = 1\n",
        "b = 2\n",
        "c = 3"
      ],
      "execution_count": 0,
      "outputs": []
    },
    {
      "cell_type": "code",
      "metadata": {
        "id": "CrMppqW-jgtg",
        "colab_type": "code",
        "outputId": "0da0eb23-9259-4fec-ec4a-46c1f84d0f6f",
        "colab": {
          "base_uri": "https://localhost:8080/",
          "height": 35
        }
      },
      "source": [
        "# 코드를 입력해 주세요\n"
      ],
      "execution_count": 0,
      "outputs": [
        {
          "output_type": "execute_result",
          "data": {
            "text/plain": [
              "9"
            ]
          },
          "metadata": {
            "tags": []
          },
          "execution_count": 2
        }
      ]
    },
    {
      "cell_type": "code",
      "metadata": {
        "id": "nnLWr0yGqO_P",
        "colab_type": "code",
        "colab": {}
      },
      "source": [
        "a = 2\n",
        "b = 2\n",
        "c = 3"
      ],
      "execution_count": 0,
      "outputs": []
    },
    {
      "cell_type": "code",
      "metadata": {
        "id": "27xwwujGqeR2",
        "colab_type": "code",
        "outputId": "2930d2a3-052a-4d97-e413-29c58103d712",
        "colab": {
          "base_uri": "https://localhost:8080/",
          "height": 35
        }
      },
      "source": [
        "# 코드를 입력해 주세요\n"
      ],
      "execution_count": 0,
      "outputs": [
        {
          "output_type": "execute_result",
          "data": {
            "text/plain": [
              "12"
            ]
          },
          "metadata": {
            "tags": []
          },
          "execution_count": 4
        }
      ]
    },
    {
      "cell_type": "code",
      "metadata": {
        "id": "eus2Sc3FqfJJ",
        "colab_type": "code",
        "colab": {}
      },
      "source": [
        "a = 3\n",
        "b = 2\n",
        "c = 3"
      ],
      "execution_count": 0,
      "outputs": []
    },
    {
      "cell_type": "code",
      "metadata": {
        "id": "zv6CIbiuqgy-",
        "colab_type": "code",
        "outputId": "05ea98ca-4e2b-4f23-b19d-b6549ae98ced",
        "colab": {
          "base_uri": "https://localhost:8080/",
          "height": 35
        }
      },
      "source": [
        "# 코드를 입력해 주세요\n"
      ],
      "execution_count": 0,
      "outputs": [
        {
          "output_type": "execute_result",
          "data": {
            "text/plain": [
              "15"
            ]
          },
          "metadata": {
            "tags": []
          },
          "execution_count": 6
        }
      ]
    },
    {
      "cell_type": "markdown",
      "metadata": {
        "id": "k3ZRnMTRqhJX",
        "colab_type": "text"
      },
      "source": [
        "**[함수로 변경 후]**"
      ]
    },
    {
      "cell_type": "code",
      "metadata": {
        "id": "MubDprG4qlAm",
        "colab_type": "code",
        "colab": {}
      },
      "source": [
        "def func(a, b, c):\n",
        "    return (a + b) * c"
      ],
      "execution_count": 0,
      "outputs": []
    },
    {
      "cell_type": "code",
      "metadata": {
        "id": "DtLSycwwqsF2",
        "colab_type": "code",
        "outputId": "35d545c1-74f8-4d1c-8cf4-abdae3dfa1f9",
        "colab": {
          "base_uri": "https://localhost:8080/",
          "height": 35
        }
      },
      "source": [
        "# 코드를 입력해 주세요\n"
      ],
      "execution_count": 0,
      "outputs": [
        {
          "output_type": "execute_result",
          "data": {
            "text/plain": [
              "9"
            ]
          },
          "metadata": {
            "tags": []
          },
          "execution_count": 8
        }
      ]
    },
    {
      "cell_type": "code",
      "metadata": {
        "id": "P3_9SXxdqt7P",
        "colab_type": "code",
        "outputId": "a817b947-6aa3-414f-ddf0-8e9d268e54ce",
        "colab": {
          "base_uri": "https://localhost:8080/",
          "height": 35
        }
      },
      "source": [
        "# 코드를 입력해 주세요\n"
      ],
      "execution_count": 0,
      "outputs": [
        {
          "output_type": "execute_result",
          "data": {
            "text/plain": [
              "12"
            ]
          },
          "metadata": {
            "tags": []
          },
          "execution_count": 9
        }
      ]
    },
    {
      "cell_type": "code",
      "metadata": {
        "id": "ybJx3_SmqwJt",
        "colab_type": "code",
        "outputId": "c309ff4a-3c0f-472f-975c-8ccadb5d68ca",
        "colab": {
          "base_uri": "https://localhost:8080/",
          "height": 35
        }
      },
      "source": [
        "# 코드를 입력해 주세요\n"
      ],
      "execution_count": 0,
      "outputs": [
        {
          "output_type": "execute_result",
          "data": {
            "text/plain": [
              "15"
            ]
          },
          "metadata": {
            "tags": []
          },
          "execution_count": 10
        }
      ]
    },
    {
      "cell_type": "markdown",
      "metadata": {
        "id": "V-RaMsPUq08R",
        "colab_type": "text"
      },
      "source": [
        "## 2. def는 함수를 위한 정의 (define)"
      ]
    },
    {
      "cell_type": "markdown",
      "metadata": {
        "id": "ZOX4YXLJq4sn",
        "colab_type": "text"
      },
      "source": [
        "def **함수이름** (parameter1, parameter2, parameter...)**:**"
      ]
    },
    {
      "cell_type": "markdown",
      "metadata": {
        "id": "ADFgrlUZsrJv",
        "colab_type": "text"
      },
      "source": [
        "parameter는 함수로 부터 **넘겨 받은 변수 또는 값** 입니다."
      ]
    },
    {
      "cell_type": "markdown",
      "metadata": {
        "id": "qm3XAEVWrRSu",
        "colab_type": "text"
      },
      "source": [
        "끝에 콜론 (:) 빼먹지 않음에 주의 하세요!!"
      ]
    },
    {
      "cell_type": "code",
      "metadata": {
        "id": "6Wih3mlYrAx7",
        "colab_type": "code",
        "colab": {}
      },
      "source": [
        "def my_func(var1):\n",
        "    print(var1)"
      ],
      "execution_count": 0,
      "outputs": []
    },
    {
      "cell_type": "code",
      "metadata": {
        "id": "9Ez-rHvmrNDy",
        "colab_type": "code",
        "outputId": "bd322988-75a1-4bb6-ebd1-2dfd25a2f41d",
        "colab": {
          "base_uri": "https://localhost:8080/",
          "height": 35
        }
      },
      "source": [
        "# 코드를 입력해 주세요\n"
      ],
      "execution_count": 0,
      "outputs": [
        {
          "output_type": "stream",
          "text": [
            "테디입니다! 반갑습니다\n"
          ],
          "name": "stdout"
        }
      ]
    },
    {
      "cell_type": "markdown",
      "metadata": {
        "id": "vaOp0PuOrewg",
        "colab_type": "text"
      },
      "source": [
        "1. my_func 함수 실행\n",
        "2. var1에 '테디입니다. 반갑습니다' 대입\n",
        "3. print(var1) 실행"
      ]
    },
    {
      "cell_type": "markdown",
      "metadata": {
        "id": "3RZu9VLnr097",
        "colab_type": "text"
      },
      "source": [
        "## 3. 함수는 값을 리턴할 수 있고, 안해도 됩니다"
      ]
    },
    {
      "cell_type": "markdown",
      "metadata": {
        "id": "CnBFkfx-r_xf",
        "colab_type": "text"
      },
      "source": [
        "리턴이 없는 경우"
      ]
    },
    {
      "cell_type": "code",
      "metadata": {
        "id": "ztv_j8mMr6AN",
        "colab_type": "code",
        "colab": {}
      },
      "source": [
        "def my_func(a, b):\n",
        "    print(a, b)"
      ],
      "execution_count": 0,
      "outputs": []
    },
    {
      "cell_type": "code",
      "metadata": {
        "id": "T-ClmPeusJna",
        "colab_type": "code",
        "outputId": "12a4b9c9-3c25-44e6-944d-b5a2119b19de",
        "colab": {
          "base_uri": "https://localhost:8080/",
          "height": 35
        }
      },
      "source": [
        "# 코드를 입력해 주세요\n"
      ],
      "execution_count": 0,
      "outputs": [
        {
          "output_type": "stream",
          "text": [
            "1 10\n"
          ],
          "name": "stdout"
        }
      ]
    },
    {
      "cell_type": "markdown",
      "metadata": {
        "id": "WaCzCpFSr_Qp",
        "colab_type": "text"
      },
      "source": [
        "리턴이 있는 경우"
      ]
    },
    {
      "cell_type": "code",
      "metadata": {
        "id": "FJW1Fk7QsCnF",
        "colab_type": "code",
        "colab": {}
      },
      "source": [
        "def my_func(a, b):\n",
        "    s = a + b\n",
        "    return s"
      ],
      "execution_count": 0,
      "outputs": []
    },
    {
      "cell_type": "markdown",
      "metadata": {
        "id": "PNslkrn8Qb71",
        "colab_type": "text"
      },
      "source": [
        "result라는 변수에 함수에 대한 리턴 값을 담아주세요"
      ]
    },
    {
      "cell_type": "code",
      "metadata": {
        "id": "BSoWCYtlsH9q",
        "colab_type": "code",
        "colab": {}
      },
      "source": [
        "# 코드를 입력해 주세요\n",
        "result="
      ],
      "execution_count": 0,
      "outputs": []
    },
    {
      "cell_type": "code",
      "metadata": {
        "id": "Z9cd47jY8BQu",
        "colab_type": "code",
        "outputId": "19070f04-3470-441b-e1f6-7e4faf792445",
        "colab": {
          "base_uri": "https://localhost:8080/",
          "height": 35
        }
      },
      "source": [
        "result"
      ],
      "execution_count": 0,
      "outputs": [
        {
          "output_type": "execute_result",
          "data": {
            "text/plain": [
              "11"
            ]
          },
          "metadata": {
            "tags": []
          },
          "execution_count": 17
        }
      ]
    },
    {
      "cell_type": "markdown",
      "metadata": {
        "id": "fGMa5m0XsRh9",
        "colab_type": "text"
      },
      "source": [
        "리턴이 있는 경우는 변수에 값을 다시 할당 할 수 있습니다."
      ]
    },
    {
      "cell_type": "code",
      "metadata": {
        "id": "on0cREYssXX6",
        "colab_type": "code",
        "colab": {}
      },
      "source": [
        "ret = my_func(1, 10)"
      ],
      "execution_count": 0,
      "outputs": []
    },
    {
      "cell_type": "code",
      "metadata": {
        "id": "8IvZIcnusZqF",
        "colab_type": "code",
        "outputId": "bac77776-eaa4-4d08-9e2f-1a84fe5203b1",
        "colab": {
          "base_uri": "https://localhost:8080/",
          "height": 35
        }
      },
      "source": [
        "print(ret)"
      ],
      "execution_count": 0,
      "outputs": [
        {
          "output_type": "stream",
          "text": [
            "11\n"
          ],
          "name": "stdout"
        }
      ]
    },
    {
      "cell_type": "code",
      "metadata": {
        "id": "_2ISL_gusaxr",
        "colab_type": "code",
        "outputId": "7a958101-ab4c-4e5b-84cb-eea4ca254c40",
        "colab": {
          "base_uri": "https://localhost:8080/",
          "height": 35
        }
      },
      "source": [
        "print(ret + 10)"
      ],
      "execution_count": 0,
      "outputs": [
        {
          "output_type": "stream",
          "text": [
            "21\n"
          ],
          "name": "stdout"
        }
      ]
    },
    {
      "cell_type": "markdown",
      "metadata": {
        "id": "rlfll1eIsf55",
        "colab_type": "text"
      },
      "source": [
        "## 4. parameter는 여러 개 만들 수 있지만, 함수에 넘겨 줄 때 순서가 중요합니다."
      ]
    },
    {
      "cell_type": "code",
      "metadata": {
        "id": "X2olLokms60u",
        "colab_type": "code",
        "colab": {}
      },
      "source": [
        "def my_func(a, b, c):\n",
        "    return (a + b) * c"
      ],
      "execution_count": 0,
      "outputs": []
    },
    {
      "cell_type": "code",
      "metadata": {
        "id": "TB3ufHZIteOS",
        "colab_type": "code",
        "colab": {}
      },
      "source": [
        "a = 10\n",
        "b = 20\n",
        "c = 3"
      ],
      "execution_count": 0,
      "outputs": []
    },
    {
      "cell_type": "code",
      "metadata": {
        "id": "lCM5LshStime",
        "colab_type": "code",
        "outputId": "17ac6911-9e38-434c-8e97-855ec61dd450",
        "colab": {
          "base_uri": "https://localhost:8080/",
          "height": 35
        }
      },
      "source": [
        "(a + b) * c"
      ],
      "execution_count": 0,
      "outputs": [
        {
          "output_type": "execute_result",
          "data": {
            "text/plain": [
              "90"
            ]
          },
          "metadata": {
            "tags": []
          },
          "execution_count": 23
        }
      ]
    },
    {
      "cell_type": "code",
      "metadata": {
        "id": "98PmnKFNtkn9",
        "colab_type": "code",
        "outputId": "177dd788-4b17-4073-bf61-24876e0d9a71",
        "colab": {
          "base_uri": "https://localhost:8080/",
          "height": 35
        }
      },
      "source": [
        "# 코드를 입력해 주세요\n"
      ],
      "execution_count": 0,
      "outputs": [
        {
          "output_type": "execute_result",
          "data": {
            "text/plain": [
              "230"
            ]
          },
          "metadata": {
            "tags": []
          },
          "execution_count": 24
        }
      ]
    },
    {
      "cell_type": "code",
      "metadata": {
        "id": "IdR0zZDBtm_c",
        "colab_type": "code",
        "outputId": "2d0a5283-1dd0-4bda-c238-d590d9ae7b0a",
        "colab": {
          "base_uri": "https://localhost:8080/",
          "height": 35
        }
      },
      "source": [
        "# 코드를 입력해 주세요\n"
      ],
      "execution_count": 0,
      "outputs": [
        {
          "output_type": "execute_result",
          "data": {
            "text/plain": [
              "90"
            ]
          },
          "metadata": {
            "tags": []
          },
          "execution_count": 25
        }
      ]
    }
  ]
}