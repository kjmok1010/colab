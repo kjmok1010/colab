{
  "nbformat": 4,
  "nbformat_minor": 0,
  "metadata": {
    "colab": {
      "name": "ch01-colab활용하기-실습",
      "provenance": [],
      "collapsed_sections": [],
      "toc_visible": true
    },
    "kernelspec": {
      "name": "python3",
      "display_name": "Python 3"
    }
  },
  "cells": [
    {
      "cell_type": "markdown",
      "metadata": {
        "id": "Jz1JGjvEekUh",
        "colab_type": "text"
      },
      "source": [
        "## 0. colab 설치 하기"
      ]
    },
    {
      "cell_type": "markdown",
      "metadata": {
        "id": "2RXnvWudepkt",
        "colab_type": "text"
      },
      "source": [
        "1. Google Drive로 이동\n",
        "2. +새로만들기 (New) 클릭\n",
        "3. 더보기 - 연결할 앱 더보기 클릭\n",
        "4. Colaboratory 검색\n",
        "5. \"추가\" 버튼 클릭하기"
      ]
    },
    {
      "cell_type": "markdown",
      "metadata": {
        "id": "gP5gNdy2QZCd",
        "colab_type": "text"
      },
      "source": [
        "## 1. colab의 하드웨어 성능"
      ]
    },
    {
      "cell_type": "markdown",
      "metadata": {
        "id": "hEyf1iObQn2v",
        "colab_type": "text"
      },
      "source": [
        "### OS 환경"
      ]
    },
    {
      "cell_type": "code",
      "metadata": {
        "id": "nrzy86aSEIbS",
        "colab_type": "code",
        "colab": {}
      },
      "source": [
        "!cat /etc/issue.net"
      ],
      "execution_count": 0,
      "outputs": []
    },
    {
      "cell_type": "markdown",
      "metadata": {
        "id": "bi50Uj2-Qkk5",
        "colab_type": "text"
      },
      "source": [
        "###  CPU 사양"
      ]
    },
    {
      "cell_type": "code",
      "metadata": {
        "id": "E8HZMqJ9EIM1",
        "colab_type": "code",
        "colab": {}
      },
      "source": [
        "!head /proc/cpuinfo"
      ],
      "execution_count": 0,
      "outputs": []
    },
    {
      "cell_type": "markdown",
      "metadata": {
        "id": "E16kfYZWQhU7",
        "colab_type": "text"
      },
      "source": [
        "### 메모리 사양"
      ]
    },
    {
      "cell_type": "code",
      "metadata": {
        "id": "Opi6-6eSQdec",
        "colab_type": "code",
        "colab": {}
      },
      "source": [
        "!head -n 3 /proc/meminfo"
      ],
      "execution_count": 0,
      "outputs": []
    },
    {
      "cell_type": "markdown",
      "metadata": {
        "id": "f5o-Bzq-Qd5t",
        "colab_type": "text"
      },
      "source": [
        "### python 버젼"
      ]
    },
    {
      "cell_type": "code",
      "metadata": {
        "id": "3-5_SvteQeAB",
        "colab_type": "code",
        "colab": {}
      },
      "source": [
        "!python --version"
      ],
      "execution_count": 0,
      "outputs": []
    },
    {
      "cell_type": "markdown",
      "metadata": {
        "id": "2w2cTjiMCKiA",
        "colab_type": "text"
      },
      "source": [
        "## 1-1. GPU 사용하기"
      ]
    },
    {
      "cell_type": "markdown",
      "metadata": {
        "id": "wTMRxHBTCKec",
        "colab_type": "text"
      },
      "source": [
        "수정 -> 노트 설정 -> 하드웨어 가속기 -> GPU 설정"
      ]
    },
    {
      "cell_type": "markdown",
      "metadata": {
        "id": "vRpTiUosLD9p",
        "colab_type": "text"
      },
      "source": [
        "## 2. 기본 메뉴 설명"
      ]
    },
    {
      "cell_type": "markdown",
      "metadata": {
        "id": "6O4UF1mwLIIL",
        "colab_type": "text"
      },
      "source": [
        "1. 목차\n",
        "2. 파일 탐색기\n",
        "3. 할당 여부 확인 하기 (RAM/디스크)\n",
        "4. 댓글 (전체 파일에 대하여 / 셀에 대하여)"
      ]
    },
    {
      "cell_type": "markdown",
      "metadata": {
        "id": "4VqJEAgmBR9q",
        "colab_type": "text"
      },
      "source": [
        "## 3. 공유받기 / 공유하기\n"
      ]
    },
    {
      "cell_type": "markdown",
      "metadata": {
        "id": "A_rLzGR3CcRi",
        "colab_type": "text"
      },
      "source": [
        "### 공유받은 colab을 읽기 전용 -> 쓰기로 출력하기"
      ]
    },
    {
      "cell_type": "markdown",
      "metadata": {
        "id": "2DVqk9DTBR4Y",
        "colab_type": "text"
      },
      "source": [
        "1. 파일 - 드라이브에 사본 저장을 클릭하여 \"내 드라이브\"에 추가 합니다\n",
        "2. 파일 - Locate in Drive (드라이브 위치)에서 확인을 클릭 (파일의 저장 위치 확인 가능)"
      ]
    },
    {
      "cell_type": "markdown",
      "metadata": {
        "id": "NLrA-GRUBRz9",
        "colab_type": "text"
      },
      "source": [
        "### 내가 작성한 파일을 다른 사람과 공유하기"
      ]
    },
    {
      "cell_type": "markdown",
      "metadata": {
        "id": "M7eJYMG_BRv3",
        "colab_type": "text"
      },
      "source": [
        "우측 상단에 \"공유\" 버튼을 클릭하여, 공유가능하며, 링크로 전달 할 수 있습니다.\n",
        "\n",
        "**[주의]**\n",
        "공유 받은 사람이 쓰기 권한이 있으면, 파일이 맘대로 수정될 수 있으니, 유의하세요"
      ]
    },
    {
      "cell_type": "markdown",
      "metadata": {
        "id": "UIjG1DjaFupz",
        "colab_type": "text"
      },
      "source": [
        "## 4. 셀의 종류 (코드/텍스트)"
      ]
    },
    {
      "cell_type": "markdown",
      "metadata": {
        "id": "UcZPIIkDFuh3",
        "colab_type": "text"
      },
      "source": [
        "코드 셀: 코드 실행을 위한 셀"
      ]
    },
    {
      "cell_type": "markdown",
      "metadata": {
        "id": "u59O-H9NFuXb",
        "colab_type": "text"
      },
      "source": [
        "텍스트 셀: 주석을 달거나, 설명 문구등을 달기 위한 텍스트 전용 셀"
      ]
    },
    {
      "cell_type": "markdown",
      "metadata": {
        "id": "mTvDKGgNGrVK",
        "colab_type": "text"
      },
      "source": [
        "### 4-1. 주석과 텍스트 셀의 차이"
      ]
    },
    {
      "cell_type": "markdown",
      "metadata": {
        "id": "C4MVDlCTd3c_",
        "colab_type": "text"
      },
      "source": [
        "코드셀 설명입니다."
      ]
    },
    {
      "cell_type": "code",
      "metadata": {
        "id": "GX54XeA4dz5N",
        "colab_type": "code",
        "colab": {}
      },
      "source": [
        "print('안녕하세요')"
      ],
      "execution_count": 0,
      "outputs": []
    },
    {
      "cell_type": "code",
      "metadata": {
        "id": "GyExJJKYGu9i",
        "colab_type": "code",
        "colab": {}
      },
      "source": [
        "# 이렇게 주석을 달 수 있습니다.\n",
        "print('안녕하세요')"
      ],
      "execution_count": 0,
      "outputs": []
    },
    {
      "cell_type": "markdown",
      "metadata": {
        "id": "-UGzzDrXGyJz",
        "colab_type": "text"
      },
      "source": [
        "이것은 텍스트 셀입니다"
      ]
    },
    {
      "cell_type": "code",
      "metadata": {
        "id": "80g6MTGdI_U1",
        "colab_type": "code",
        "colab": {}
      },
      "source": [
        "# 주석입니다.\n",
        "print('안녕하세요')\n",
        "\n",
        "# 주석입니다.\n",
        "print('안녕하세요')"
      ],
      "execution_count": 0,
      "outputs": []
    },
    {
      "cell_type": "markdown",
      "metadata": {
        "id": "K-MoYitmGCwY",
        "colab_type": "text"
      },
      "source": [
        "### 4-2. 셀의 삽입 방법"
      ]
    },
    {
      "cell_type": "markdown",
      "metadata": {
        "id": "QbTdJuiXGCX6",
        "colab_type": "text"
      },
      "source": [
        "상단의 \"+코드\", \"+텍스트\"를 눌러서 삽입합니다"
      ]
    },
    {
      "cell_type": "markdown",
      "metadata": {
        "id": "ZJwETFPyG7aG",
        "colab_type": "text"
      },
      "source": [
        "**[셀 추가 관련 단축키]**\n",
        "\n",
        "1. 코드 셀 위에 삽입 (Ctrl/Cmd + M A)\n",
        "2. 코드 셀 아래에 삽입 (Ctrl/Cmd + M B)\n"
      ]
    },
    {
      "cell_type": "code",
      "metadata": {
        "id": "L86SE6BieRY8",
        "colab_type": "code",
        "colab": {}
      },
      "source": [
        ""
      ],
      "execution_count": 0,
      "outputs": []
    },
    {
      "cell_type": "markdown",
      "metadata": {
        "id": "-66ExdcgeSaF",
        "colab_type": "text"
      },
      "source": [
        "텍스트"
      ]
    },
    {
      "cell_type": "code",
      "metadata": {
        "id": "2gXCtjh5elHD",
        "colab_type": "code",
        "colab": {}
      },
      "source": [
        ""
      ],
      "execution_count": 0,
      "outputs": []
    },
    {
      "cell_type": "markdown",
      "metadata": {
        "id": "1189W68bHH_S",
        "colab_type": "text"
      },
      "source": [
        "### 4-3. 셀의 삭제 방법"
      ]
    },
    {
      "cell_type": "markdown",
      "metadata": {
        "id": "5yLy0HIoHH2a",
        "colab_type": "text"
      },
      "source": [
        "우측의 **휴지통 아이콘을 클릭**하여 삭제합니다."
      ]
    },
    {
      "cell_type": "markdown",
      "metadata": {
        "id": "q2Z0LvcRHHrS",
        "colab_type": "text"
      },
      "source": [
        "**[셀 삭제 관련 단축키]**"
      ]
    },
    {
      "cell_type": "markdown",
      "metadata": {
        "id": "nrSf9-7aHSei",
        "colab_type": "text"
      },
      "source": [
        "셀 지우기 (Ctrl/Cmd + M D)"
      ]
    },
    {
      "cell_type": "code",
      "metadata": {
        "colab_type": "code",
        "id": "5wH7xqMIey2U",
        "colab": {}
      },
      "source": [
        ""
      ],
      "execution_count": 0,
      "outputs": []
    },
    {
      "cell_type": "markdown",
      "metadata": {
        "id": "2LKQngAbF-OV",
        "colab_type": "text"
      },
      "source": [
        "### 4-4 셀의 타입 변경"
      ]
    },
    {
      "cell_type": "markdown",
      "metadata": {
        "id": "06che75ZGOo6",
        "colab_type": "text"
      },
      "source": [
        "**[셀 타입 변경 단축키]**\n",
        "1. 코드 셀로 변경 (Ctrl/Cmd + M Y)\n",
        "2. 마크다운 셀로 변경 (Ctrl/Cmd + M M)"
      ]
    },
    {
      "cell_type": "markdown",
      "metadata": {
        "id": "6EpBlX-WJFKS",
        "colab_type": "text"
      },
      "source": [
        "print('안녕하세요')"
      ]
    },
    {
      "cell_type": "code",
      "metadata": {
        "id": "lisemtdjJFZW",
        "colab_type": "code",
        "colab": {}
      },
      "source": [
        ""
      ],
      "execution_count": 0,
      "outputs": []
    },
    {
      "cell_type": "markdown",
      "metadata": {
        "id": "zgw7EMJ2Rq-i",
        "colab_type": "text"
      },
      "source": [
        "## 5. 실행과 출력"
      ]
    },
    {
      "cell_type": "markdown",
      "metadata": {
        "id": "Ew8w6Z3dRrCV",
        "colab_type": "text"
      },
      "source": [
        "* **셀**: 실행의 단위\n",
        "* **실행**: 재생 버튼을 클릭하여, 실행 (해당 셀 실행)\n",
        "* **실행 순서**: *인터프리터 방식* 으로 실행하며, 순차적으로 메모리에 기억합니다.\n"
      ]
    },
    {
      "cell_type": "markdown",
      "metadata": {
        "id": "Eh1SgeImC7nq",
        "colab_type": "text"
      },
      "source": [
        "**[실행 관련 단축키]**\n",
        "\n",
        "1. 해당 셀을 실행하고 커서는 해당 셀  (Ctrl + Enter)\n",
        "2. 해당 셀을 실행하고 커서는 다음 셀  (Shift + Enter)\n",
        "3. 해당 셀을 실행하고 커서는 다음에 셀 삽입  (Alt + Enter)"
      ]
    },
    {
      "cell_type": "code",
      "metadata": {
        "id": "pMwUOEcBVqTd",
        "colab_type": "code",
        "colab": {}
      },
      "source": [
        "print('안녕하세요1')"
      ],
      "execution_count": 0,
      "outputs": []
    },
    {
      "cell_type": "markdown",
      "metadata": {
        "id": "g0bZtSY_FYkX",
        "colab_type": "text"
      },
      "source": [
        "## 6. 혹시 단축키를 모른다면?"
      ]
    },
    {
      "cell_type": "markdown",
      "metadata": {
        "id": "xRq65kB8Frgy",
        "colab_type": "text"
      },
      "source": [
        "Ctrl + M H (키보드 단축키 보기)"
      ]
    },
    {
      "cell_type": "markdown",
      "metadata": {
        "id": "bBerIH_fFrCi",
        "colab_type": "text"
      },
      "source": [
        "## 7. 마크다운 문법의 이해"
      ]
    },
    {
      "cell_type": "markdown",
      "metadata": {
        "id": "AvSmU2sMFqv0",
        "colab_type": "text"
      },
      "source": [
        "Markdown(마크다운)이란 Markup(마크업)언어의 일종으로, **HTML경험이 없는 사람도 누구나 쉽게** 헤더,글 머리 기호,이미지 삽입, 링크, 글자 모양 등 다양한 서식을 쉽게 추가하는 방식의 문서 편집 문법이다."
      ]
    },
    {
      "cell_type": "markdown",
      "metadata": {
        "id": "7ksqlJl-JsD0",
        "colab_type": "text"
      },
      "source": [
        "**[실습예제]**\n",
        "## colab 이란?\n",
        "Google Colaboratory\n",
        "\n",
        "구글에서 **교육과 과학 연구를 목적**으로 개발한 도구로, 2017년에 무료로 공개하였습니다.\n",
        "\n",
        "### 장점\n",
        "1. 무료\n",
        "2. 구글 드라이브와 연동 가능\n",
        "3. GPU를 사용할 수 있음\n",
        "4. 깃헙(Github)에 있는 노트북 코드를 바로 돌려볼 수 있음\n",
        "5. 손 쉽게 타인과 공유할 수 있음\n",
        "\n",
        "\n",
        "### 단점\n",
        "1. 90분동안 아무런 인터액션이 없거나 (idle timeout), 12시간의 ***세션 타임아웃***이 존재함\n",
        "2. GPU는 할당을 못받을 수도 있음 (혹은 빼앗기는 경우도 있음)\n",
        "3. 조금 느림\n",
        "\n"
      ]
    },
    {
      "cell_type": "markdown",
      "metadata": {
        "id": "NxaxouaHX4FM",
        "colab_type": "text"
      },
      "source": [
        "# 헤더\n",
        "\n",
        "구글에서 교육과 **과학 연구**를 목적으로 개발한 도구로, 2017년에 무료로 공개하였습니다.\n",
        "\n",
        "1. 순서1\n",
        "2. 순서1\n",
        "3. 순서1\n",
        "\n",
        "\n",
        "* 순서없다\n",
        "* 순서없다\n",
        "* 순서없다"
      ]
    },
    {
      "cell_type": "markdown",
      "metadata": {
        "id": "Xr0mesbOBRsE",
        "colab_type": "text"
      },
      "source": [
        "## 8. 파일 업로드 하기"
      ]
    },
    {
      "cell_type": "markdown",
      "metadata": {
        "id": "zaA2_rssQy6G",
        "colab_type": "text"
      },
      "source": [
        "### 방법 1: 직접 업로드하기"
      ]
    },
    {
      "cell_type": "code",
      "metadata": {
        "id": "AJUJy08VMB6J",
        "colab_type": "code",
        "colab": {}
      },
      "source": [
        "from google.colab import files\n",
        "myfile = files.upload()"
      ],
      "execution_count": 0,
      "outputs": []
    },
    {
      "cell_type": "code",
      "metadata": {
        "id": "OwP5JUMtMB22",
        "colab_type": "code",
        "colab": {}
      },
      "source": [
        "import io\n",
        "import pandas as pd"
      ],
      "execution_count": 0,
      "outputs": []
    },
    {
      "cell_type": "code",
      "metadata": {
        "id": "AkZSh_6gMBzx",
        "colab_type": "code",
        "colab": {}
      },
      "source": [
        "data = pd.read_csv(io.BytesIO(myfile['house_price.csv']))"
      ],
      "execution_count": 0,
      "outputs": []
    },
    {
      "cell_type": "code",
      "metadata": {
        "id": "RNkrcNKQMBvp",
        "colab_type": "code",
        "colab": {}
      },
      "source": [
        "data.head()"
      ],
      "execution_count": 0,
      "outputs": []
    },
    {
      "cell_type": "markdown",
      "metadata": {
        "id": "yibdBaNUQx0h",
        "colab_type": "text"
      },
      "source": [
        "### 방법 2: 드라이브에서 가져오기"
      ]
    },
    {
      "cell_type": "code",
      "metadata": {
        "id": "RcB32CJBQxr7",
        "colab_type": "code",
        "colab": {}
      },
      "source": [
        "from google.colab import drive\n",
        "drive.mount('/content/drive')"
      ],
      "execution_count": 0,
      "outputs": []
    },
    {
      "cell_type": "code",
      "metadata": {
        "id": "KiBCf-8WRNUL",
        "colab_type": "code",
        "colab": {}
      },
      "source": [
        "filename = '/content/drive/My Drive/01_fastcampus/ch01-google-colaboratory/샘플데이터/house_price.csv'"
      ],
      "execution_count": 0,
      "outputs": []
    },
    {
      "cell_type": "code",
      "metadata": {
        "id": "Y4WrVqJMRNX5",
        "colab_type": "code",
        "colab": {}
      },
      "source": [
        "data = pd.read_csv(filename)"
      ],
      "execution_count": 0,
      "outputs": []
    },
    {
      "cell_type": "code",
      "metadata": {
        "id": "_UqihlAPRNJQ",
        "colab_type": "code",
        "colab": {}
      },
      "source": [
        "data.head()"
      ],
      "execution_count": 0,
      "outputs": []
    },
    {
      "cell_type": "markdown",
      "metadata": {
        "id": "-Qeow-y9RTk2",
        "colab_type": "text"
      },
      "source": [
        "## 9. 그 밖의 기능 - 이미지, Youtube 동영상 로딩하기"
      ]
    },
    {
      "cell_type": "code",
      "metadata": {
        "id": "shSii6qORTdq",
        "colab_type": "code",
        "colab": {}
      },
      "source": [
        "from IPython.display import Image"
      ],
      "execution_count": 0,
      "outputs": []
    },
    {
      "cell_type": "code",
      "metadata": {
        "id": "Ps-bi-_3RTW_",
        "colab_type": "code",
        "colab": {}
      },
      "source": [
        "Image('https://i.pinimg.com/736x/0b/2f/8a/0b2f8a51314ab1ebe0505aee843a33b1.jpg')"
      ],
      "execution_count": 0,
      "outputs": []
    },
    {
      "cell_type": "code",
      "metadata": {
        "id": "qV1HoLabRTP2",
        "colab_type": "code",
        "colab": {}
      },
      "source": [
        "from IPython.display import YouTubeVideo"
      ],
      "execution_count": 0,
      "outputs": []
    },
    {
      "cell_type": "code",
      "metadata": {
        "id": "LN4izh3lRqef",
        "colab_type": "code",
        "colab": {}
      },
      "source": [
        "YouTubeVideo('0FswLjHeMUk', 600, 380)"
      ],
      "execution_count": 0,
      "outputs": []
    },
    {
      "cell_type": "code",
      "metadata": {
        "id": "jkMjKiIZRqqr",
        "colab_type": "code",
        "colab": {}
      },
      "source": [
        "from IPython.display import HTML"
      ],
      "execution_count": 0,
      "outputs": []
    },
    {
      "cell_type": "code",
      "metadata": {
        "id": "8aGBv8JtRqx0",
        "colab_type": "code",
        "colab": {}
      },
      "source": [
        "HTML('https://www.fastcampus.co.kr/')"
      ],
      "execution_count": 0,
      "outputs": []
    }
  ]
}