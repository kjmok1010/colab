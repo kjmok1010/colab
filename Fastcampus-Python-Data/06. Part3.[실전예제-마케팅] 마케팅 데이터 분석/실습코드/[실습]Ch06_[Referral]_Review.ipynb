{
  "nbformat": 4,
  "nbformat_minor": 0,
  "metadata": {
    "colab": {
      "name": "06 [Referral] Review(Blank)",
      "provenance": [],
      "collapsed_sections": []
    },
    "kernelspec": {
      "name": "python3",
      "display_name": "Python 3"
    }
  },
  "cells": [
    {
      "cell_type": "markdown",
      "metadata": {
        "id": "JCHaO68Jp_LI",
        "colab_type": "text"
      },
      "source": [
        "# 경쟁사 고객 리뷰 분석으로 소비자 인식 조사 \n",
        "영양제 브랜드 자사와 경쟁사의 구매 후기를 분석해서 소비자들의 인식을 조사해봅니다. "
      ]
    },
    {
      "cell_type": "markdown",
      "metadata": {
        "id": "7-o1z1mHqPxm",
        "colab_type": "text"
      },
      "source": [
        "## 데이터 설명\n",
        "데이터는 다음의 링크에서 다운받으실 수 있습니다.\n",
        "\n",
        "\n",
        "---\n",
        "\n",
        "* [센트룸 구매후기](https://drive.google.com/file/d/1eeTHELYDR0UW9CK7yODGhcUGylTfpLv4/view?usp=sharing)\n",
        "*  [세노비스 카페 데이터](https://drive.google.com/file/d/1798xQJmU2rIlqiLyoUcIhelGV9szjLUu/view?usp=sharing)\n",
        "* [센트룸 카페 데이터](https://drive.google.com/file/d/1RFYWzhrMGongGVMIEvs1gaMOi-PmAfuz/view?usp=sharing)\n",
        "\n",
        "---\n"
      ]
    },
    {
      "cell_type": "markdown",
      "metadata": {
        "id": "AfCYPYXCW9XI",
        "colab_type": "text"
      },
      "source": [
        "# 텍스트 마이닝을 위한 전처리 \n",
        "## KoNLP를 이용한 형태소 분석 \n",
        "- KoNLPy가 제공하는 형태소분석기 중 하나인 Kkma를 사용합니다.\n",
        "- 자세한 내용은 http://konlpy.org/ko/v0.4.3/morph/ 참조"
      ]
    },
    {
      "cell_type": "code",
      "metadata": {
        "id": "gYITnGfZXLKJ",
        "colab_type": "code",
        "colab": {}
      },
      "source": [
        "# KoNLPy 라이브러리 설치. 최초 1회만 실행\n",
        "!pip install konlpy"
      ],
      "execution_count": 0,
      "outputs": []
    },
    {
      "cell_type": "markdown",
      "metadata": {
        "id": "ls7Y8qr0W-AJ",
        "colab_type": "text"
      },
      "source": [
        "# 형태소 분석기\n",
        "- 한나눔 http://semanticweb.kaist.ac.kr/hannanum/index.html\n",
        "- 트위터 https://github.com/twitter/twitter-korean-text\n",
        "- 꼬꼬마 http://kkma.snu.ac.kr/documents/\n",
        "\n",
        "## 형태소분석기의 성능차이\n",
        "![대체 텍스트](http://konlpy.org/ko/v0.4.2/_images/time.png)\n",
        "* 출처: http://konlpy.org/ko/v0.4.2/morph/"
      ]
    },
    {
      "cell_type": "code",
      "metadata": {
        "id": "-fGI6lSeXTki",
        "colab_type": "code",
        "colab": {}
      },
      "source": [
        "from konlpy.tag import Hannanum\n",
        "from konlpy.tag import Twitter\n",
        "from konlpy.tag import Kkma\n",
        "hannanum=Hannanum()\n",
        "twitter=Twitter()\n",
        "kkma = Kkma()"
      ],
      "execution_count": 0,
      "outputs": []
    },
    {
      "cell_type": "markdown",
      "metadata": {
        "id": "JiFGyskyXWkD",
        "colab_type": "text"
      },
      "source": [
        "### 꼬꼬마 형태소 분석기 \n",
        "- 문장을 형태소 단위로 분리하고 품사를 태깅합니다\n",
        "- 품사태그는 일반명사(NNG), 고유명사(NNP), 동사(VV), 형용사(VA) 등이 있습니다\n",
        "- http://kkma.snu.ac.kr/documents/index.jsp?doc=postag 형태소 리스트를 확인"
      ]
    },
    {
      "cell_type": "code",
      "metadata": {
        "id": "9OSYMbjzXZNU",
        "colab_type": "code",
        "colab": {}
      },
      "source": [
        "print(kkma.sentences(u'아버지가 방에 들어가셨다. 아버지 가방에 들어가셨다. 아버지가 방 안에 있는 가방에 들어가셨다.'))"
      ],
      "execution_count": 0,
      "outputs": []
    },
    {
      "cell_type": "code",
      "metadata": {
        "id": "IAaBTaLmXZTw",
        "colab_type": "code",
        "colab": {}
      },
      "source": [
        "print(kkma.pos(u'아버지가 방에 들어가셨다. 아버지 가방에 들어가셨다. 아버지가 방 안에 있는 가방에 들어가셨다.'))"
      ],
      "execution_count": 0,
      "outputs": []
    },
    {
      "cell_type": "markdown",
      "metadata": {
        "id": "V3mB5kzXXebE",
        "colab_type": "text"
      },
      "source": [
        "### 한나눔 형태소 분석기"
      ]
    },
    {
      "cell_type": "code",
      "metadata": {
        "id": "EsBw5b7RXerX",
        "colab_type": "code",
        "colab": {}
      },
      "source": [
        "print(hannanum.pos(u'아버지가 방에 들어가셨다. 아버지 가방에 들어가셨다. 아버지가 방 안에 있는 가방에 들어가셨다.'))"
      ],
      "execution_count": 0,
      "outputs": []
    },
    {
      "cell_type": "markdown",
      "metadata": {
        "id": "uQcfztGmXe62",
        "colab_type": "text"
      },
      "source": [
        "### 트위터 형태소 분석기"
      ]
    },
    {
      "cell_type": "code",
      "metadata": {
        "id": "aROrDZdSXfLb",
        "colab_type": "code",
        "colab": {}
      },
      "source": [
        "print(twitter.pos('아버지가 방에 들어가셨다. 아버지 가방에 들어가셨다. 아버지가 방 안에 있는 가방에 들어가셨다.'))\n"
      ],
      "execution_count": 0,
      "outputs": []
    },
    {
      "cell_type": "markdown",
      "metadata": {
        "id": "Xu0h0ORIXqDO",
        "colab_type": "text"
      },
      "source": [
        "# 텍스트 마이닝 분석 및 시각화\n",
        "* 센트룸 데이터를 먼저 분석해봅니다. "
      ]
    },
    {
      "cell_type": "markdown",
      "metadata": {
        "id": "vo4xaRFau0tY",
        "colab_type": "text"
      },
      "source": [
        "### 데이터 탐색 및 전처리"
      ]
    },
    {
      "cell_type": "code",
      "metadata": {
        "id": "Or6DBFfPuwJT",
        "colab_type": "code",
        "colab": {}
      },
      "source": [
        "# 데이터를 불러옵니다.\n",
        "from google.colab import files\n",
        "uploaded = files.upload()"
      ],
      "execution_count": 0,
      "outputs": []
    },
    {
      "cell_type": "code",
      "metadata": {
        "id": "TjDGNdTtaKSU",
        "colab_type": "code",
        "colab": {}
      },
      "source": [
        "# 형태소분석 - kkma 명사 \n",
        "line_list = []\n",
        "f = open(\"centrum_review.txt\", encoding=\"utf-8\")\n",
        "for line in f:\n",
        "    line = kkma.nouns(line)\n",
        "    line_list.append(line)\n",
        "f.close()\n",
        "\n",
        "print(\"- 불러온 문서 :\", len(line_list), \"문장\")"
      ],
      "execution_count": 0,
      "outputs": []
    },
    {
      "cell_type": "code",
      "metadata": {
        "id": "Kg6y69-QaRVj",
        "colab_type": "code",
        "colab": {}
      },
      "source": [
        "line_list[10]"
      ],
      "execution_count": 0,
      "outputs": []
    },
    {
      "cell_type": "code",
      "metadata": {
        "id": "6-iHIgW3u6fP",
        "colab_type": "code",
        "colab": {}
      },
      "source": [
        "word_frequency = {}\n",
        "noun_list = []\n",
        "#불용어 리스트를 여기에 추가합니다.\n",
        "stop_list = [\"배송\", \"만족\"]\n",
        "line_number = 0\n",
        "for line in line_list[:]:\n",
        "    line_number += 1\n",
        "    print(str(line_number) + \"/\" + str(len(line_list)), end=\"\\r\")\n",
        "    noun = []\n",
        "    for word in line:\n",
        "        if word.split(\"/\")[0] not in stop_list and len(word.split(\"/\")[0]) > 1:  \n",
        "            noun.append(word.split(\"/\")[0])\n",
        "            if word not in word_frequency.keys():\n",
        "                word_frequency[word] = 1\n",
        "            else:\n",
        "                word_frequency[word] += 1\n",
        "    noun_list.extend(noun)"
      ],
      "execution_count": 0,
      "outputs": []
    },
    {
      "cell_type": "code",
      "metadata": {
        "id": "vt0gKJYtaTSx",
        "colab_type": "code",
        "colab": {}
      },
      "source": [
        "#단어별 출현빈도를 출력합니다.\n",
        "word_count = []\n",
        "for n, freq in word_frequency.items():\n",
        "    word_count.append([n, freq])\n",
        "word_count.sort(key=lambda elem: elem[1], reverse=True)\n",
        "for n, freq in word_count[:10]:\n",
        "    print(n + \"\\t\" + str(freq))"
      ],
      "execution_count": 0,
      "outputs": []
    },
    {
      "cell_type": "code",
      "metadata": {
        "id": "f74FOMX1aYq1",
        "colab_type": "code",
        "colab": {}
      },
      "source": [
        "#추출한 명사 리스트를 활용해 명사만으로 이루어진 문서를 생성합니다.\n",
        "noun_doc = ' '.join(noun_list)\n",
        "noun_doc = noun_doc.strip()"
      ],
      "execution_count": 0,
      "outputs": []
    },
    {
      "cell_type": "markdown",
      "metadata": {
        "id": "vfhDkl5uti5t",
        "colab_type": "text"
      },
      "source": [
        "* 서체 다운로드 \n",
        "- 시각화에서 서체 변경만으로도 완성도를 높일 수 있습니다. \n",
        "- [다음의 링크](https://drive.google.com/file/d/1ULZI7vTml7mVVrM3fbo4AW8xhyETDETx/view?usp=sharing)에서 나눔스퀘어 서체를 다운로드 받아주세요. \n",
        "- 참고: https://hangeul.naver.com/2017/nanum"
      ]
    },
    {
      "cell_type": "code",
      "metadata": {
        "id": "-Shauz34nzH4",
        "colab_type": "code",
        "colab": {}
      },
      "source": [
        "# 워드클라우드 시각화\n",
        "from wordcloud import WordCloud, ImageColorGenerator\n",
        "import matplotlib.pyplot as plt\n",
        "\n",
        "#폰트업로드\n",
        "from google.colab import files\n",
        "uploaded = files.upload()\n",
        "for fn in uploaded.keys():\n",
        "  print('User uploaded file \"{name}\" with length {length} bytes'.format(\n",
        "      name=fn, length=len(uploaded[fn])))"
      ],
      "execution_count": 0,
      "outputs": []
    },
    {
      "cell_type": "code",
      "metadata": {
        "id": "i_Yo-S7KaYwu",
        "colab_type": "code",
        "colab": {}
      },
      "source": [
        "#워드클라우드 파라미터 설정\n",
        "font_path=\"NanumSquareB.otf\"  #폰트\n",
        "background_color=\"white\"      #배경색\n",
        "margin=3                     #모서리 여백 넓이\n",
        "min_font_size=7              #최소 글자 크기\n",
        "max_font_size=150             #최대 글자 크기\n",
        "width=500                     #이미지 가로 크기\n",
        "height=500                    #이미지 세로 크기\n",
        "wc = WordCloud(font_path=font_path, background_color=background_color, margin=margin, \\\n",
        "               min_font_size=min_font_size, max_font_size=max_font_size, width=width, height=height)\n",
        "wc.generate(noun_doc)\n",
        "\n",
        "plt.figure(figsize=(10, 10))\n",
        "plt.imshow(wc, interpolation=\"bilinear\")\n",
        "plt.axis(\"off\")\n",
        "plt.show()"
      ],
      "execution_count": 0,
      "outputs": []
    },
    {
      "cell_type": "code",
      "metadata": {
        "id": "uDlO9vaZt4mc",
        "colab_type": "code",
        "colab": {}
      },
      "source": [
        "# 데이터를 불러옵니다.\n",
        "from google.colab import files\n",
        "uploaded = files.upload()"
      ],
      "execution_count": 0,
      "outputs": []
    },
    {
      "cell_type": "code",
      "metadata": {
        "id": "bmv7rs0eaY0X",
        "colab_type": "code",
        "colab": {}
      },
      "source": [
        "\n",
        "# 형태소분석 - kkma 명사 \n",
        "line_list = []\n",
        "f = open(\"centrum2.txt\", encoding=\"utf-8\")\n",
        "for line in f:\n",
        "    line = kkma.nouns(line)\n",
        "    line_list.append(line)\n",
        "f.close()\n",
        "\n",
        "print(\"- 불러온 문서 :\", len(line_list), \"문장\")"
      ],
      "execution_count": 0,
      "outputs": []
    },
    {
      "cell_type": "code",
      "metadata": {
        "id": "dpXtWOBvO2gN",
        "colab_type": "code",
        "colab": {}
      },
      "source": [
        "word_frequency = {}\n",
        "noun_list = []\n",
        "#불용어 리스트를 여기에 추가합니다.\n",
        "stop_list = [\"배송\", \"만족\", \"카페\", \"카페규정\", \"확인\", \"주수\", \"센트\"]\n",
        "line_number = 0\n",
        "for line in line_list[:]:\n",
        "    line_number += 1\n",
        "    print(str(line_number) + \"/\" + str(len(line_list)), end=\"\\r\")\n",
        "    noun = []\n",
        "    for word in line:\n",
        "        if word.split(\"/\")[0] not in stop_list and len(word.split(\"/\")[0]) > 1:  \n",
        "            noun.append(word.split(\"/\")[0])\n",
        "            if word not in word_frequency.keys():\n",
        "                word_frequency[word] = 1\n",
        "            else:\n",
        "                word_frequency[word] += 1\n",
        "    noun_list.extend(noun)"
      ],
      "execution_count": 0,
      "outputs": []
    },
    {
      "cell_type": "code",
      "metadata": {
        "id": "AdmOkzY_BI40",
        "colab_type": "code",
        "colab": {}
      },
      "source": [
        "#단어별 출현빈도를 출력합니다.\n",
        "word_count = []\n",
        "for n, freq in word_frequency.items():\n",
        "    word_count.append([n, freq])\n",
        "word_count.sort(key=lambda elem: elem[1], reverse=True)\n",
        "for n, freq in word_count[:10]:\n",
        "    print(n + \"\\t\" + str(freq))"
      ],
      "execution_count": 0,
      "outputs": []
    },
    {
      "cell_type": "code",
      "metadata": {
        "id": "a8p8NxGqGvc3",
        "colab_type": "code",
        "colab": {}
      },
      "source": [
        "#추출한 명사 리스트를 활용해 명사만으로 이루어진 문서를 생성합니다.\n",
        "noun_doc = ' '.join(noun_list)\n",
        "noun_doc = noun_doc.strip()"
      ],
      "execution_count": 0,
      "outputs": []
    },
    {
      "cell_type": "code",
      "metadata": {
        "id": "jDjsAg7yGeU8",
        "colab_type": "code",
        "colab": {}
      },
      "source": [
        "#워드클라우드 파라미터 설정\n",
        "font_path=\"NanumSquareB.otf\"  #폰트\n",
        "background_color=\"white\"      #배경색\n",
        "margin=3                     #모서리 여백 넓이\n",
        "min_font_size=7              #최소 글자 크기\n",
        "max_font_size=150             #최대 글자 크기\n",
        "width=500                     #이미지 가로 크기\n",
        "height=500                    #이미지 세로 크기\n",
        "wc = WordCloud(font_path=font_path, background_color=background_color, margin=margin, \\\n",
        "               min_font_size=min_font_size, max_font_size=max_font_size, width=width, height=height)\n",
        "wc.generate(noun_doc)\n",
        "\n",
        "plt.figure(figsize=(10, 10))\n",
        "plt.imshow(wc, interpolation=\"bilinear\")\n",
        "plt.axis(\"off\")\n",
        "plt.show()"
      ],
      "execution_count": 0,
      "outputs": []
    },
    {
      "cell_type": "markdown",
      "metadata": {
        "id": "yFqSwLIG0ilx",
        "colab_type": "text"
      },
      "source": [
        "### LDA 토픽 모델링"
      ]
    },
    {
      "cell_type": "code",
      "metadata": {
        "id": "MapPPv5OL8Ol",
        "colab_type": "code",
        "colab": {}
      },
      "source": [
        "import gensim\n",
        "from gensim import corpora\n",
        "import logging\n",
        "logging.basicConfig(level=logging.DEBUG)\n",
        "topic = 5\n",
        "keyword = 10\n",
        "texts = []\n",
        "resultList = []\n",
        "stop_list = [\"배송\", \"만족\", \"카페\", \"카페규정\", \"확인\", \"주수\", \"센트\"]\n",
        "for line in line_list:\n",
        "    words = line\n",
        "    if words != [\"\"]:\n",
        "        tokens = [word for word in words if (len(word.split(\"/\")[0]) > 1 and word.split(\"/\")[0] not in stop_list)]\n",
        "        texts.append(tokens)\n",
        "dictionary = corpora.Dictionary(texts)    \n",
        "corpus = [dictionary.doc2bow(text) for text in texts]\n",
        "\n",
        "ldamodel = gensim.models.ldamodel.LdaModel(corpus, num_topics=topic, id2word = dictionary, passes=10)\n",
        "for num in range(topic):\n",
        "    resultList.append(ldamodel.show_topic(num, keyword))"
      ],
      "execution_count": 0,
      "outputs": []
    },
    {
      "cell_type": "code",
      "metadata": {
        "id": "qBvEMGrmtHWt",
        "colab_type": "code",
        "colab": {}
      },
      "source": [
        "resultList"
      ],
      "execution_count": 0,
      "outputs": []
    }
  ]
}