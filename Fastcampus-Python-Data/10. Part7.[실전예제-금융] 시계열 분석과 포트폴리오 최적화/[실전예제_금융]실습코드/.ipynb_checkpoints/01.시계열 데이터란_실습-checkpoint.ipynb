{
 "cells": [
  {
   "cell_type": "markdown",
   "metadata": {
    "colab_type": "text",
    "id": "aYSziP0C7Bb9"
   },
   "source": [
    "# Monthly Data\n",
    "- 호주 당뇨병 치료약(anti-diabetic) 월별 Sales 데이터 사용 예정 \n",
    "https://raw.githubusercontent.com/selva86/datasets/master/a10.csv\n",
    "- 모든 회사에 있는 월별 매출, 가입자, 등 실적 데이터에 활용"
   ]
  },
  {
   "cell_type": "code",
   "execution_count": 0,
   "metadata": {
    "colab": {},
    "colab_type": "code",
    "collapsed": true,
    "id": "iprTQ-yE7BcB"
   },
   "outputs": [],
   "source": [
    "import numpy as np\n",
    "import pandas as pd\n",
    "import matplotlib.pyplot as plt\n",
    "from statsmodels.tsa.seasonal import seasonal_decompose"
   ]
  },
  {
   "cell_type": "markdown",
   "metadata": {
    "colab_type": "text",
    "id": "v3-nJsjSDK9W"
   },
   "source": [
    "- 데이터 불러오기. plottig. "
   ]
  },
  {
   "cell_type": "markdown",
   "metadata": {
    "colab_type": "text",
    "id": "EK8M1iqGC9Li"
   },
   "source": [
    "- 계절요인 분리. Trend, Seasonl, residual을 포함하는 테이블 생성. \n",
    "- Insight 도출\n",
    "  1. 월평균 성장율 \n",
    "  2. Seasonal 요소 분석\n",
    "  3. residual 증감 여부 "
   ]
  },
  {
   "cell_type": "code",
   "execution_count": null,
   "metadata": {
    "collapsed": true
   },
   "outputs": [],
   "source": [
    "# plot할때 warning message가 난다면, 아래 명령어로 matplotlib 버전을 3.0.3으로 낮춰주세요.\n",
    "# colab에 설치된 matplotlib은 2020년4월 기준으로 3.2.1 입니다. \n",
    "! pip install matplotlib==3.0.3\n",
    "\n",
    "# 설치된 matplotlib 버전을 확인하려면 아래를 실행하세요.\n",
    "import matplotlib\n",
    "matplotlib.__version__"
   ]
  },
  {
   "cell_type": "code",
   "execution_count": 0,
   "metadata": {
    "colab": {},
    "colab_type": "code",
    "collapsed": true,
    "id": "kPdMqiLwL6fO"
   },
   "outputs": [],
   "source": []
  }
 ],
 "metadata": {
  "colab": {
   "collapsed_sections": [],
   "name": "01.시계열 데이터란_실습1.ipynb",
   "provenance": []
  },
  "kernelspec": {
   "display_name": "Python 3",
   "language": "python",
   "name": "python3"
  },
  "language_info": {
   "codemirror_mode": {
    "name": "ipython",
    "version": 3
   },
   "file_extension": ".py",
   "mimetype": "text/x-python",
   "name": "python",
   "nbconvert_exporter": "python",
   "pygments_lexer": "ipython3",
   "version": "3.5.2"
  }
 },
 "nbformat": 4,
 "nbformat_minor": 1
}
