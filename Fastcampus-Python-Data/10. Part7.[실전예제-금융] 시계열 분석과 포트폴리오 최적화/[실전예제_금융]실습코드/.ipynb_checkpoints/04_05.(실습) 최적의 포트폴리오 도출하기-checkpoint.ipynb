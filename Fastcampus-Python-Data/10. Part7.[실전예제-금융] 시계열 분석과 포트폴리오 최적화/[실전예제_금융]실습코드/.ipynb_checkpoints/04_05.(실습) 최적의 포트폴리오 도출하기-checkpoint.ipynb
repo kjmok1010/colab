{
 "cells": [
  {
   "cell_type": "code",
   "execution_count": 0,
   "metadata": {
    "colab": {},
    "colab_type": "code",
    "collapsed": true,
    "id": "7oLPSiZtc2JB"
   },
   "outputs": [],
   "source": [
    "import pandas as pd\n",
    "import numpy as np\n",
    "import yfinance as yf\n",
    "import matplotlib.pyplot as plt\n",
    "from scipy.optimize import minimize \n",
    "%matplotlib inline"
   ]
  },
  {
   "cell_type": "code",
   "execution_count": 0,
   "metadata": {
    "colab": {},
    "colab_type": "code",
    "collapsed": true,
    "id": "hMPuEdjahiVL"
   },
   "outputs": [],
   "source": [
    "! pip install yfinance"
   ]
  },
  {
   "cell_type": "code",
   "execution_count": 0,
   "metadata": {
    "colab": {},
    "colab_type": "code",
    "collapsed": true,
    "id": "WYC0M3TWc2JI"
   },
   "outputs": [],
   "source": [
    "Tech_KR =['005930.KS','000660.KS','035420.KS', '035720.KS' ] #삼성, SK하이닉스, 네이버, 카카오   \n",
    "\n",
    "def get_price(companies): \n",
    "  df=pd.DataFrame()\n",
    "  for company in companies:\n",
    "    df[company]=yf.Ticker(company).history(start='2018-04-01', end='2020-03-31')['Close']\n",
    "  return df\n",
    "\n",
    "def get_div(companies): \n",
    "  df=pd.DataFrame()\n",
    "  for company in companies:\n",
    "    df[company]=yf.Ticker(company).history(start='2018-04-01',end='2020-03-31')['Dividends']\n",
    "  return df  \n",
    "\n",
    "p_KR=get_price(Tech_KR)\n",
    "d_KR=get_div(Tech_KR)\n",
    "\n",
    "p_KR.columns=['SS', 'SKH', 'NVR', 'KKO']\n",
    "d_KR.columns=['SS', 'SKH', 'NVR', 'KKO']"
   ]
  },
  {
   "cell_type": "code",
   "execution_count": 0,
   "metadata": {
    "colab": {},
    "colab_type": "code",
    "collapsed": true,
    "id": "th6CD8ZSBb1W"
   },
   "outputs": [],
   "source": []
  },
  {
   "cell_type": "markdown",
   "metadata": {
    "colab_type": "text",
    "id": "5oEY6f5Zc2Ks"
   },
   "source": [
    "# 포트폴리오 도시"
   ]
  },
  {
   "cell_type": "code",
   "execution_count": 0,
   "metadata": {
    "colab": {},
    "colab_type": "code",
    "collapsed": true,
    "id": "MuA4hpL8lHAX"
   },
   "outputs": [],
   "source": []
  },
  {
   "cell_type": "code",
   "execution_count": 0,
   "metadata": {
    "colab": {},
    "colab_type": "code",
    "collapsed": true,
    "id": "RE3qGXGOlG6v"
   },
   "outputs": [],
   "source": []
  },
  {
   "cell_type": "code",
   "execution_count": 0,
   "metadata": {
    "colab": {},
    "colab_type": "code",
    "collapsed": true,
    "id": "-pjcylz91xn2"
   },
   "outputs": [],
   "source": []
  },
  {
   "cell_type": "markdown",
   "metadata": {
    "colab_type": "text",
    "id": "smB4STELhitZ"
   },
   "source": [
    "# 최적화 문제 정의\n",
    "- 목적함수 : Sharpe ratio(max), Risk (min)\n",
    "- 선택변수 : weights\n",
    "- 제약(constraint) : 모든 weights의 합은 1\n",
    "- 한계(boundary) : 각 weight는 0과 1 사이"
   ]
  },
  {
   "cell_type": "markdown",
   "metadata": {
    "colab_type": "text",
    "id": "fot1eqAtMBND"
   },
   "source": [
    "# 포트폴리오 최적화 : 세가지 점을 구해봄\n",
    "- 포트폴리오 리스크 최소\n",
    "- Sharpe 지수 최대\n",
    "- 효율적 투자점 : 목표 수익을 달성하기 위한 최소 risk를 가질 수 있는 포트폴리오"
   ]
  },
  {
   "cell_type": "code",
   "execution_count": 0,
   "metadata": {
    "colab": {},
    "colab_type": "code",
    "collapsed": true,
    "id": "0o7RkPM_PEyz"
   },
   "outputs": [],
   "source": []
  },
  {
   "cell_type": "code",
   "execution_count": 0,
   "metadata": {
    "colab": {},
    "colab_type": "code",
    "collapsed": true,
    "id": "hResbDltvTTS"
   },
   "outputs": [],
   "source": []
  },
  {
   "cell_type": "code",
   "execution_count": 0,
   "metadata": {
    "colab": {},
    "colab_type": "code",
    "collapsed": true,
    "id": "B-DfjCCCvTOk"
   },
   "outputs": [],
   "source": []
  },
  {
   "cell_type": "code",
   "execution_count": 0,
   "metadata": {
    "colab": {},
    "colab_type": "code",
    "collapsed": true,
    "id": "2HEfqiPqvTKc"
   },
   "outputs": [],
   "source": []
  },
  {
   "cell_type": "code",
   "execution_count": 0,
   "metadata": {
    "colab": {},
    "colab_type": "code",
    "collapsed": true,
    "id": "Usgvqkq-vTGr"
   },
   "outputs": [],
   "source": []
  },
  {
   "cell_type": "code",
   "execution_count": 0,
   "metadata": {
    "colab": {},
    "colab_type": "code",
    "collapsed": true,
    "id": "Lo7WEOm_vTCZ"
   },
   "outputs": [],
   "source": []
  },
  {
   "cell_type": "code",
   "execution_count": 0,
   "metadata": {
    "colab": {},
    "colab_type": "code",
    "collapsed": true,
    "id": "LhUE67UJM07T"
   },
   "outputs": [],
   "source": []
  }
 ],
 "metadata": {
  "colab": {
   "collapsed_sections": [],
   "name": "04_05.(실습) 최적의 포트폴리오 도출하기.ipynb",
   "provenance": []
  },
  "kernelspec": {
   "display_name": "Python 3",
   "language": "python",
   "name": "python3"
  },
  "language_info": {
   "codemirror_mode": {
    "name": "ipython",
    "version": 3
   },
   "file_extension": ".py",
   "mimetype": "text/x-python",
   "name": "python",
   "nbconvert_exporter": "python",
   "pygments_lexer": "ipython3",
   "version": "3.5.2"
  }
 },
 "nbformat": 4,
 "nbformat_minor": 1
}
