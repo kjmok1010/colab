{
 "cells": [
  {
   "cell_type": "markdown",
   "metadata": {
    "colab_type": "text",
    "id": "pLrOGakPmxGz"
   },
   "source": [
    "![개요](https://drive.google.com/uc?id=13pekH_cJAHc1lGUgE3SYqqEAO_cpoEll)"
   ]
  },
  {
   "cell_type": "markdown",
   "metadata": {
    "colab_type": "text",
    "id": "FoCYGl4IymVl"
   },
   "source": [
    "데이터 출처 : FRED \n",
    "![FRED](https://drive.google.com/uc?id=1odhsMY6cenJfbJNXIq3FAObZcjybpKVx)"
   ]
  },
  {
   "cell_type": "markdown",
   "metadata": {
    "colab_type": "text",
    "id": "u-iRjJev7qP2"
   },
   "source": [
    "# FRED에서 데이터를 불러오는 방법\n",
    "1. FRED 가입하여 API 이용\n",
    "2. 엑셀 다운로드 후, 불러오기\n",
    "https://raw.githubusercontent.com/sm-joo/sm-joo/master/DEXKOUS.csv"
   ]
  },
  {
   "cell_type": "code",
   "execution_count": 0,
   "metadata": {
    "colab": {},
    "colab_type": "code",
    "collapsed": true,
    "id": "KB3FrK-Vivwf"
   },
   "outputs": [],
   "source": [
    "import pandas as pd\n",
    "import numpy as np\n",
    "import matplotlib.pyplot as plt\n",
    "%matplotlib inline\n",
    "from statsmodels.tsa.stattools import adfuller"
   ]
  },
  {
   "cell_type": "code",
   "execution_count": null,
   "metadata": {
    "collapsed": true
   },
   "outputs": [],
   "source": [
    "# plot할때 warning message가 난다면, 아래 명령어로 matplotlib 버전을 3.0.3으로 낮춰주세요.\n",
    "# colab에 설치된 matplotlib은 2020년4월 기준으로 3.2.1 입니다. \n",
    "! pip install matplotlib==3.0.3\n",
    "\n",
    "# 설치된 matplotlib 버전을 확인하려면 아래를 실행하세요.\n",
    "import matplotlib\n",
    "matplotlib.__version__"
   ]
  },
  {
   "cell_type": "markdown",
   "metadata": {
    "colab_type": "text",
    "id": "1yyT84lxD-KR"
   },
   "source": [
    "# Daily 데이터\n",
    "- 시계열 데이터 전처리\n",
    "- plot : 일별, 주별 (resample)\n",
    "- 월별 변동성 비교 (rolling) "
   ]
  },
  {
   "cell_type": "code",
   "execution_count": null,
   "metadata": {
    "collapsed": true
   },
   "outputs": [],
   "source": []
  },
  {
   "cell_type": "code",
   "execution_count": null,
   "metadata": {
    "collapsed": true
   },
   "outputs": [],
   "source": []
  },
  {
   "cell_type": "code",
   "execution_count": null,
   "metadata": {
    "collapsed": true
   },
   "outputs": [],
   "source": []
  },
  {
   "cell_type": "code",
   "execution_count": null,
   "metadata": {
    "collapsed": true
   },
   "outputs": [],
   "source": []
  },
  {
   "cell_type": "code",
   "execution_count": null,
   "metadata": {
    "collapsed": true
   },
   "outputs": [],
   "source": []
  },
  {
   "cell_type": "code",
   "execution_count": null,
   "metadata": {
    "collapsed": true
   },
   "outputs": [],
   "source": []
  },
  {
   "cell_type": "code",
   "execution_count": 0,
   "metadata": {
    "colab": {},
    "colab_type": "code",
    "collapsed": true,
    "id": "Q11lBc4aTw6S"
   },
   "outputs": [],
   "source": []
  },
  {
   "cell_type": "markdown",
   "metadata": {
    "colab_type": "text",
    "id": "8sYjSNS4AKPr"
   },
   "source": [
    "# 안정성 검정 (ADF Test)\n",
    "- 귀무가설=안정적이지 않다 \n",
    "- p-value가 0.05보다 작으면, 귀무가설 기각. 즉, 안정적인 시계열\n",
    "- P-value가 0.05보다 크면, 귀무가설 채택. 즉, 불안정한 시계열\n",
    "- 안정적인 데이터로 변경 : 변화율 / 로그 차분\n"
   ]
  },
  {
   "cell_type": "code",
   "execution_count": null,
   "metadata": {
    "colab": {},
    "colab_type": "code",
    "collapsed": true,
    "id": "EHwXGPaHVkz9"
   },
   "outputs": [],
   "source": []
  },
  {
   "cell_type": "code",
   "execution_count": null,
   "metadata": {
    "collapsed": true
   },
   "outputs": [],
   "source": []
  },
  {
   "cell_type": "code",
   "execution_count": null,
   "metadata": {
    "collapsed": true
   },
   "outputs": [],
   "source": []
  },
  {
   "cell_type": "code",
   "execution_count": null,
   "metadata": {
    "collapsed": true
   },
   "outputs": [],
   "source": []
  },
  {
   "cell_type": "code",
   "execution_count": null,
   "metadata": {
    "collapsed": true
   },
   "outputs": [],
   "source": []
  },
  {
   "cell_type": "code",
   "execution_count": null,
   "metadata": {
    "collapsed": true
   },
   "outputs": [],
   "source": []
  },
  {
   "cell_type": "code",
   "execution_count": null,
   "metadata": {
    "collapsed": true
   },
   "outputs": [],
   "source": []
  },
  {
   "cell_type": "code",
   "execution_count": null,
   "metadata": {
    "collapsed": true
   },
   "outputs": [],
   "source": []
  }
 ],
 "metadata": {
  "colab": {
   "collapsed_sections": [],
   "name": "02_02. (실습) Dickey Fuller Test 및 의미 해석.ipynb",
   "provenance": []
  },
  "kernelspec": {
   "display_name": "Python 3",
   "language": "python",
   "name": "python3"
  },
  "language_info": {
   "codemirror_mode": {
    "name": "ipython",
    "version": 3
   },
   "file_extension": ".py",
   "mimetype": "text/x-python",
   "name": "python",
   "nbconvert_exporter": "python",
   "pygments_lexer": "ipython3",
   "version": "3.5.2"
  }
 },
 "nbformat": 4,
 "nbformat_minor": 1
}
