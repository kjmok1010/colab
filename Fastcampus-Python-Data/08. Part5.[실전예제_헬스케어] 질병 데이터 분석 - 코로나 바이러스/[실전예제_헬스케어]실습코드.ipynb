{
  "nbformat": 4,
  "nbformat_minor": 0,
  "metadata": {
    "colab": {
      "name": "corona_학생용.ipynb",
      "provenance": [],
      "collapsed_sections": [],
      "toc_visible": true
    },
    "kernelspec": {
      "name": "python3",
      "display_name": "Python 3"
    }
  },
  "cells": [
    {
      "cell_type": "markdown",
      "metadata": {
        "id": "lkG1KVPXurPW",
        "colab_type": "text"
      },
      "source": [
        "#[실전예제]헬스케어 - 질병 데이터분석 '코로나 바이러스'"
      ]
    },
    {
      "cell_type": "markdown",
      "metadata": {
        "id": "VacxI_WZvALG",
        "colab_type": "text"
      },
      "source": [
        "#코로나 바이러스 데이터 분석 - 환경 설정 및 데이터 구조 파악\n"
      ]
    },
    {
      "cell_type": "markdown",
      "metadata": {
        "id": "sE2NvRdayAhH",
        "colab_type": "text"
      },
      "source": [
        "##1. 라이브러리 import 및 데이터 업로드"
      ]
    },
    {
      "cell_type": "markdown",
      "metadata": {
        "id": "Hym_Pq78za-U",
        "colab_type": "text"
      },
      "source": [
        "###라이브러리 import"
      ]
    },
    {
      "cell_type": "code",
      "metadata": {
        "id": "sIfitPN_fvsT",
        "colab_type": "code",
        "colab": {}
      },
      "source": [
        ""
      ],
      "execution_count": 0,
      "outputs": []
    },
    {
      "cell_type": "markdown",
      "metadata": {
        "id": "ZpsbDrZPzeEH",
        "colab_type": "text"
      },
      "source": [
        "###csv 파일 업로드"
      ]
    },
    {
      "cell_type": "code",
      "metadata": {
        "id": "0_RfGta0hppM",
        "colab_type": "code",
        "colab": {}
      },
      "source": [
        ""
      ],
      "execution_count": 0,
      "outputs": []
    },
    {
      "cell_type": "markdown",
      "metadata": {
        "id": "d8gxHmduh90E",
        "colab_type": "text"
      },
      "source": [
        "## 2. 데이터 구조 파악하기"
      ]
    },
    {
      "cell_type": "markdown",
      "metadata": {
        "id": "RIKxcVdPzJRC",
        "colab_type": "text"
      },
      "source": [
        "###데이터 pandas로 불러오기"
      ]
    },
    {
      "cell_type": "code",
      "metadata": {
        "id": "H-qf3esfhxSy",
        "colab_type": "code",
        "colab": {}
      },
      "source": [
        ""
      ],
      "execution_count": 0,
      "outputs": []
    },
    {
      "cell_type": "markdown",
      "metadata": {
        "id": "UCp_xcAczqrx",
        "colab_type": "text"
      },
      "source": [
        "###데이터 확인하기"
      ]
    },
    {
      "cell_type": "code",
      "metadata": {
        "id": "QjtBj1AjiUP5",
        "colab_type": "code",
        "colab": {}
      },
      "source": [
        ""
      ],
      "execution_count": 0,
      "outputs": []
    },
    {
      "cell_type": "markdown",
      "metadata": {
        "id": "nsCW048hzug2",
        "colab_type": "text"
      },
      "source": [
        "###결측 값 확인"
      ]
    },
    {
      "cell_type": "code",
      "metadata": {
        "id": "gVTBV64SiVsf",
        "colab_type": "code",
        "colab": {}
      },
      "source": [
        ""
      ],
      "execution_count": 0,
      "outputs": []
    },
    {
      "cell_type": "markdown",
      "metadata": {
        "id": "PCc5aX7c0P0f",
        "colab_type": "text"
      },
      "source": [
        "### 데이터 타입 조회"
      ]
    },
    {
      "cell_type": "code",
      "metadata": {
        "id": "aVeWTIRt0SOj",
        "colab_type": "code",
        "colab": {}
      },
      "source": [
        ""
      ],
      "execution_count": 0,
      "outputs": []
    },
    {
      "cell_type": "markdown",
      "metadata": {
        "id": "FMwIQtinz1q9",
        "colab_type": "text"
      },
      "source": [
        "### Date 정보 수정 (Object => datetime)"
      ]
    },
    {
      "cell_type": "code",
      "metadata": {
        "id": "iuQKXRwLqw-D",
        "colab_type": "code",
        "colab": {}
      },
      "source": [
        ""
      ],
      "execution_count": 0,
      "outputs": []
    },
    {
      "cell_type": "markdown",
      "metadata": {
        "id": "Z4JaQtQejBpH",
        "colab_type": "text"
      },
      "source": [
        "# 코로나 바이러스 데이터 분석 - 국가별 최신 확진자, 사망자, 회복자 데이터 분석\n",
        "\n"
      ]
    },
    {
      "cell_type": "markdown",
      "metadata": {
        "id": "5ARG3M511X8k",
        "colab_type": "text"
      },
      "source": [
        "### 최신 데이터만 남기기"
      ]
    },
    {
      "cell_type": "code",
      "metadata": {
        "id": "-lz_7t_2AiLG",
        "colab_type": "code",
        "colab": {}
      },
      "source": [
        ""
      ],
      "execution_count": 0,
      "outputs": []
    },
    {
      "cell_type": "markdown",
      "metadata": {
        "id": "x8LYO_NG1b_W",
        "colab_type": "text"
      },
      "source": [
        "### 국가별 합계 구하기"
      ]
    },
    {
      "cell_type": "code",
      "metadata": {
        "id": "JbiNcxPY_iar",
        "colab_type": "code",
        "colab": {}
      },
      "source": [
        ""
      ],
      "execution_count": 0,
      "outputs": []
    },
    {
      "cell_type": "markdown",
      "metadata": {
        "id": "7yQ6pthC19N9",
        "colab_type": "text"
      },
      "source": [
        "### 사망자 높은 국가순으로 정렬하기"
      ]
    },
    {
      "cell_type": "code",
      "metadata": {
        "id": "nYJEFr222E6I",
        "colab_type": "code",
        "colab": {}
      },
      "source": [
        ""
      ],
      "execution_count": 0,
      "outputs": []
    },
    {
      "cell_type": "markdown",
      "metadata": {
        "id": "QRYlgFd02dud",
        "colab_type": "text"
      },
      "source": [
        "### 데이터 전체 조회하기\n"
      ]
    },
    {
      "cell_type": "code",
      "metadata": {
        "id": "4PBNh29s2heU",
        "colab_type": "code",
        "colab": {}
      },
      "source": [
        ""
      ],
      "execution_count": 0,
      "outputs": []
    },
    {
      "cell_type": "markdown",
      "metadata": {
        "id": "oObjd6eh_ZED",
        "colab_type": "text"
      },
      "source": [
        "# 코로나 바이러스 데이터 분석 - 시간에 따른 확진자, 사망자, 회복자 시각화"
      ]
    },
    {
      "cell_type": "markdown",
      "metadata": {
        "id": "xfLcQuw53Q5t",
        "colab_type": "text"
      },
      "source": [
        "###날짜별 확진자, 사망자, 회복자 합계 구하기"
      ]
    },
    {
      "cell_type": "code",
      "metadata": {
        "id": "I940VEl3n5uP",
        "colab_type": "code",
        "colab": {}
      },
      "source": [
        ""
      ],
      "execution_count": 0,
      "outputs": []
    },
    {
      "cell_type": "markdown",
      "metadata": {
        "id": "lAqf-8a644gP",
        "colab_type": "text"
      },
      "source": [
        "### 시간에 따른 누적 확진자, 사망자, 회복자 그래프 (seaborn lineplot)"
      ]
    },
    {
      "cell_type": "code",
      "metadata": {
        "id": "1wkwMlEZoo6D",
        "colab_type": "code",
        "colab": {}
      },
      "source": [
        ""
      ],
      "execution_count": 0,
      "outputs": []
    },
    {
      "cell_type": "markdown",
      "metadata": {
        "id": "BKRHxUSsD1WE",
        "colab_type": "text"
      },
      "source": [
        "# 전세계 코로나 바이러스 감염 지도 표시 - folium 라이브러리 소개 및 설명"
      ]
    },
    {
      "cell_type": "markdown",
      "metadata": {
        "id": "NHs7YFH85qA4",
        "colab_type": "text"
      },
      "source": [
        "### folium 사용해보기"
      ]
    },
    {
      "cell_type": "code",
      "metadata": {
        "id": "NAFX49kisGbH",
        "colab_type": "code",
        "colab": {}
      },
      "source": [
        ""
      ],
      "execution_count": 0,
      "outputs": []
    },
    {
      "cell_type": "markdown",
      "metadata": {
        "id": "mVeVc1i65u2Q",
        "colab_type": "text"
      },
      "source": [
        "### folium으로 서울 지도 표시하기"
      ]
    },
    {
      "cell_type": "code",
      "metadata": {
        "id": "zwy9kjUl50xw",
        "colab_type": "code",
        "colab": {}
      },
      "source": [
        ""
      ],
      "execution_count": 0,
      "outputs": []
    },
    {
      "cell_type": "markdown",
      "metadata": {
        "id": "yEG8s4l59h2J",
        "colab_type": "text"
      },
      "source": [
        "### zoom 조절하기"
      ]
    },
    {
      "cell_type": "code",
      "metadata": {
        "id": "gzUSu0Un9mZs",
        "colab_type": "code",
        "colab": {}
      },
      "source": [
        ""
      ],
      "execution_count": 0,
      "outputs": []
    },
    {
      "cell_type": "markdown",
      "metadata": {
        "id": "SrscGNue_B9h",
        "colab_type": "text"
      },
      "source": [
        "### CircleMarker 그리기"
      ]
    },
    {
      "cell_type": "code",
      "metadata": {
        "id": "a5z48zcq_HAr",
        "colab_type": "code",
        "colab": {}
      },
      "source": [
        ""
      ],
      "execution_count": 0,
      "outputs": []
    },
    {
      "cell_type": "markdown",
      "metadata": {
        "id": "kQUw6g0r_0gT",
        "colab_type": "text"
      },
      "source": [
        "### CircleMarker 색상, 채우기, 채우기 색상 설정"
      ]
    },
    {
      "cell_type": "code",
      "metadata": {
        "id": "znRCf-5uAA4k",
        "colab_type": "code",
        "colab": {}
      },
      "source": [
        ""
      ],
      "execution_count": 0,
      "outputs": []
    },
    {
      "cell_type": "markdown",
      "metadata": {
        "id": "EUFI3zFjHYBw",
        "colab_type": "text"
      },
      "source": [
        "### CircleMarker로 popup 표시"
      ]
    },
    {
      "cell_type": "code",
      "metadata": {
        "id": "v7sdFIl_Hdnc",
        "colab_type": "code",
        "colab": {}
      },
      "source": [
        ""
      ],
      "execution_count": 0,
      "outputs": []
    },
    {
      "cell_type": "markdown",
      "metadata": {
        "id": "u48uRHuFBEAQ",
        "colab_type": "text"
      },
      "source": [
        "#전세계 코로나 바이러스 감염 지도 표시 - 전세계 코로나 바이러스 감염 지도 시각화"
      ]
    },
    {
      "cell_type": "markdown",
      "metadata": {
        "id": "mi7IqRAhBKwz",
        "colab_type": "text"
      },
      "source": [
        "### 국가별 최신 확진자 데이터 조회"
      ]
    },
    {
      "cell_type": "code",
      "metadata": {
        "id": "37FJj7X3JJl7",
        "colab_type": "code",
        "colab": {}
      },
      "source": [
        ""
      ],
      "execution_count": 0,
      "outputs": []
    },
    {
      "cell_type": "markdown",
      "metadata": {
        "id": "ocwY0jOKDJoZ",
        "colab_type": "text"
      },
      "source": [
        "### 지도에 전세계 국가별 확진자 수 CircleMarker로 표시"
      ]
    },
    {
      "cell_type": "code",
      "metadata": {
        "id": "PAIpU_n_D-8a",
        "colab_type": "code",
        "colab": {}
      },
      "source": [
        ""
      ],
      "execution_count": 0,
      "outputs": []
    }
  ]
}